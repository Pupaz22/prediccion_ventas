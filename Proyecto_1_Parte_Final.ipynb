{
  "nbformat": 4,
  "nbformat_minor": 0,
  "metadata": {
    "colab": {
      "provenance": [],
      "mount_file_id": "12oe8RZuYXSZriNU-zwHQO09vaFENIGLZ",
      "authorship_tag": "ABX9TyNQMXpF/bESuGbMTkCTw+bS",
      "include_colab_link": true
    },
    "kernelspec": {
      "name": "python3",
      "display_name": "Python 3"
    },
    "language_info": {
      "name": "python"
    }
  },
  "cells": [
    {
      "cell_type": "markdown",
      "metadata": {
        "id": "view-in-github",
        "colab_type": "text"
      },
      "source": [
        "<a href=\"https://colab.research.google.com/github/gsalgadod/prediccion_ventas/blob/main/Proyecto_1_Parte_Final.ipynb\" target=\"_parent\"><img src=\"https://colab.research.google.com/assets/colab-badge.svg\" alt=\"Open In Colab\"/></a>"
      ]
    },
    {
      "cell_type": "markdown",
      "source": [
        "# Información del proyecto\n",
        "\n",
        "El proyecto está basado en un dataframe con información sobre ventas de productos alimenticios que se venden en una serie de tiendas. Se tiene como objetivo ayudar al vendedor a comprender las propiedades de los productos y los puntos de venta que desempeñan un papel crucial en el aumento de ventas.\n",
        "\n",
        "A continuación se presenta la información de las columnas del dataset:"
      ],
      "metadata": {
        "id": "xHDuCzpvV7AU"
      }
    },
    {
      "cell_type": "markdown",
      "source": [
        "![image_2022-11-24_125836122.png](data:image/png;base64,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)"
      ],
      "metadata": {
        "id": "al1DfEUHV84M"
      }
    },
    {
      "cell_type": "code",
      "execution_count": 1,
      "metadata": {
        "id": "ywrEHnzmVnaz"
      },
      "outputs": [],
      "source": [
        "import pandas as pd\n",
        "import numpy as np\n",
        "import datetime as dt\n",
        "import matplotlib.pyplot as plt\n",
        "import seaborn as sns"
      ]
    },
    {
      "cell_type": "markdown",
      "source": [
        "Como se aprecia en el diccionario de datos previamente presentado, la variable principal del dataset es **Item_Outlet_Sales** y el proyecto está orientado a, eventualmente, poder realizar predicciones de la misma. "
      ],
      "metadata": {
        "id": "ZuVQSVVfXYVC"
      }
    },
    {
      "cell_type": "code",
      "source": [
        "from google.colab import drive\n",
        "drive.mount('/content/drive')"
      ],
      "metadata": {
        "colab": {
          "base_uri": "https://localhost:8080/"
        },
        "id": "jz1_BUsFRBah",
        "outputId": "65f617ed-b929-4b2a-8038-5700ee97d697"
      },
      "execution_count": 2,
      "outputs": [
        {
          "output_type": "stream",
          "name": "stdout",
          "text": [
            "Mounted at /content/drive\n"
          ]
        }
      ]
    },
    {
      "cell_type": "code",
      "source": [
        "filename = \"/content/drive/MyDrive/Coding Dojo/Data Frames/sales_predictions.csv\"\n",
        "df = pd.read_csv(filename)\n",
        "dfo = df.copy() # Se genera una copia del dataframe original para futuras revisiones. \n",
        "df.head(10)"
      ],
      "metadata": {
        "colab": {
          "base_uri": "https://localhost:8080/",
          "height": 580
        },
        "id": "dEpyMObXRrRW",
        "outputId": "95d088f2-1a4f-4f7a-daf8-deab0ead59bc"
      },
      "execution_count": 3,
      "outputs": [
        {
          "output_type": "execute_result",
          "data": {
            "text/plain": [
              "  Item_Identifier  Item_Weight Item_Fat_Content  Item_Visibility  \\\n",
              "0           FDA15        9.300          Low Fat         0.016047   \n",
              "1           DRC01        5.920          Regular         0.019278   \n",
              "2           FDN15       17.500          Low Fat         0.016760   \n",
              "3           FDX07       19.200          Regular         0.000000   \n",
              "4           NCD19        8.930          Low Fat         0.000000   \n",
              "5           FDP36       10.395          Regular         0.000000   \n",
              "6           FDO10       13.650          Regular         0.012741   \n",
              "7           FDP10          NaN          Low Fat         0.127470   \n",
              "8           FDH17       16.200          Regular         0.016687   \n",
              "9           FDU28       19.200          Regular         0.094450   \n",
              "\n",
              "               Item_Type  Item_MRP Outlet_Identifier  \\\n",
              "0                  Dairy  249.8092            OUT049   \n",
              "1            Soft Drinks   48.2692            OUT018   \n",
              "2                   Meat  141.6180            OUT049   \n",
              "3  Fruits and Vegetables  182.0950            OUT010   \n",
              "4              Household   53.8614            OUT013   \n",
              "5           Baking Goods   51.4008            OUT018   \n",
              "6            Snack Foods   57.6588            OUT013   \n",
              "7            Snack Foods  107.7622            OUT027   \n",
              "8           Frozen Foods   96.9726            OUT045   \n",
              "9           Frozen Foods  187.8214            OUT017   \n",
              "\n",
              "   Outlet_Establishment_Year Outlet_Size Outlet_Location_Type  \\\n",
              "0                       1999      Medium               Tier 1   \n",
              "1                       2009      Medium               Tier 3   \n",
              "2                       1999      Medium               Tier 1   \n",
              "3                       1998         NaN               Tier 3   \n",
              "4                       1987        High               Tier 3   \n",
              "5                       2009      Medium               Tier 3   \n",
              "6                       1987        High               Tier 3   \n",
              "7                       1985      Medium               Tier 3   \n",
              "8                       2002         NaN               Tier 2   \n",
              "9                       2007         NaN               Tier 2   \n",
              "\n",
              "         Outlet_Type  Item_Outlet_Sales  \n",
              "0  Supermarket Type1          3735.1380  \n",
              "1  Supermarket Type2           443.4228  \n",
              "2  Supermarket Type1          2097.2700  \n",
              "3      Grocery Store           732.3800  \n",
              "4  Supermarket Type1           994.7052  \n",
              "5  Supermarket Type2           556.6088  \n",
              "6  Supermarket Type1           343.5528  \n",
              "7  Supermarket Type3          4022.7636  \n",
              "8  Supermarket Type1          1076.5986  \n",
              "9  Supermarket Type1          4710.5350  "
            ],
            "text/html": [
              "\n",
              "  <div id=\"df-b09175bd-bb32-499d-8372-2530fe50c42b\">\n",
              "    <div class=\"colab-df-container\">\n",
              "      <div>\n",
              "<style scoped>\n",
              "    .dataframe tbody tr th:only-of-type {\n",
              "        vertical-align: middle;\n",
              "    }\n",
              "\n",
              "    .dataframe tbody tr th {\n",
              "        vertical-align: top;\n",
              "    }\n",
              "\n",
              "    .dataframe thead th {\n",
              "        text-align: right;\n",
              "    }\n",
              "</style>\n",
              "<table border=\"1\" class=\"dataframe\">\n",
              "  <thead>\n",
              "    <tr style=\"text-align: right;\">\n",
              "      <th></th>\n",
              "      <th>Item_Identifier</th>\n",
              "      <th>Item_Weight</th>\n",
              "      <th>Item_Fat_Content</th>\n",
              "      <th>Item_Visibility</th>\n",
              "      <th>Item_Type</th>\n",
              "      <th>Item_MRP</th>\n",
              "      <th>Outlet_Identifier</th>\n",
              "      <th>Outlet_Establishment_Year</th>\n",
              "      <th>Outlet_Size</th>\n",
              "      <th>Outlet_Location_Type</th>\n",
              "      <th>Outlet_Type</th>\n",
              "      <th>Item_Outlet_Sales</th>\n",
              "    </tr>\n",
              "  </thead>\n",
              "  <tbody>\n",
              "    <tr>\n",
              "      <th>0</th>\n",
              "      <td>FDA15</td>\n",
              "      <td>9.300</td>\n",
              "      <td>Low Fat</td>\n",
              "      <td>0.016047</td>\n",
              "      <td>Dairy</td>\n",
              "      <td>249.8092</td>\n",
              "      <td>OUT049</td>\n",
              "      <td>1999</td>\n",
              "      <td>Medium</td>\n",
              "      <td>Tier 1</td>\n",
              "      <td>Supermarket Type1</td>\n",
              "      <td>3735.1380</td>\n",
              "    </tr>\n",
              "    <tr>\n",
              "      <th>1</th>\n",
              "      <td>DRC01</td>\n",
              "      <td>5.920</td>\n",
              "      <td>Regular</td>\n",
              "      <td>0.019278</td>\n",
              "      <td>Soft Drinks</td>\n",
              "      <td>48.2692</td>\n",
              "      <td>OUT018</td>\n",
              "      <td>2009</td>\n",
              "      <td>Medium</td>\n",
              "      <td>Tier 3</td>\n",
              "      <td>Supermarket Type2</td>\n",
              "      <td>443.4228</td>\n",
              "    </tr>\n",
              "    <tr>\n",
              "      <th>2</th>\n",
              "      <td>FDN15</td>\n",
              "      <td>17.500</td>\n",
              "      <td>Low Fat</td>\n",
              "      <td>0.016760</td>\n",
              "      <td>Meat</td>\n",
              "      <td>141.6180</td>\n",
              "      <td>OUT049</td>\n",
              "      <td>1999</td>\n",
              "      <td>Medium</td>\n",
              "      <td>Tier 1</td>\n",
              "      <td>Supermarket Type1</td>\n",
              "      <td>2097.2700</td>\n",
              "    </tr>\n",
              "    <tr>\n",
              "      <th>3</th>\n",
              "      <td>FDX07</td>\n",
              "      <td>19.200</td>\n",
              "      <td>Regular</td>\n",
              "      <td>0.000000</td>\n",
              "      <td>Fruits and Vegetables</td>\n",
              "      <td>182.0950</td>\n",
              "      <td>OUT010</td>\n",
              "      <td>1998</td>\n",
              "      <td>NaN</td>\n",
              "      <td>Tier 3</td>\n",
              "      <td>Grocery Store</td>\n",
              "      <td>732.3800</td>\n",
              "    </tr>\n",
              "    <tr>\n",
              "      <th>4</th>\n",
              "      <td>NCD19</td>\n",
              "      <td>8.930</td>\n",
              "      <td>Low Fat</td>\n",
              "      <td>0.000000</td>\n",
              "      <td>Household</td>\n",
              "      <td>53.8614</td>\n",
              "      <td>OUT013</td>\n",
              "      <td>1987</td>\n",
              "      <td>High</td>\n",
              "      <td>Tier 3</td>\n",
              "      <td>Supermarket Type1</td>\n",
              "      <td>994.7052</td>\n",
              "    </tr>\n",
              "    <tr>\n",
              "      <th>5</th>\n",
              "      <td>FDP36</td>\n",
              "      <td>10.395</td>\n",
              "      <td>Regular</td>\n",
              "      <td>0.000000</td>\n",
              "      <td>Baking Goods</td>\n",
              "      <td>51.4008</td>\n",
              "      <td>OUT018</td>\n",
              "      <td>2009</td>\n",
              "      <td>Medium</td>\n",
              "      <td>Tier 3</td>\n",
              "      <td>Supermarket Type2</td>\n",
              "      <td>556.6088</td>\n",
              "    </tr>\n",
              "    <tr>\n",
              "      <th>6</th>\n",
              "      <td>FDO10</td>\n",
              "      <td>13.650</td>\n",
              "      <td>Regular</td>\n",
              "      <td>0.012741</td>\n",
              "      <td>Snack Foods</td>\n",
              "      <td>57.6588</td>\n",
              "      <td>OUT013</td>\n",
              "      <td>1987</td>\n",
              "      <td>High</td>\n",
              "      <td>Tier 3</td>\n",
              "      <td>Supermarket Type1</td>\n",
              "      <td>343.5528</td>\n",
              "    </tr>\n",
              "    <tr>\n",
              "      <th>7</th>\n",
              "      <td>FDP10</td>\n",
              "      <td>NaN</td>\n",
              "      <td>Low Fat</td>\n",
              "      <td>0.127470</td>\n",
              "      <td>Snack Foods</td>\n",
              "      <td>107.7622</td>\n",
              "      <td>OUT027</td>\n",
              "      <td>1985</td>\n",
              "      <td>Medium</td>\n",
              "      <td>Tier 3</td>\n",
              "      <td>Supermarket Type3</td>\n",
              "      <td>4022.7636</td>\n",
              "    </tr>\n",
              "    <tr>\n",
              "      <th>8</th>\n",
              "      <td>FDH17</td>\n",
              "      <td>16.200</td>\n",
              "      <td>Regular</td>\n",
              "      <td>0.016687</td>\n",
              "      <td>Frozen Foods</td>\n",
              "      <td>96.9726</td>\n",
              "      <td>OUT045</td>\n",
              "      <td>2002</td>\n",
              "      <td>NaN</td>\n",
              "      <td>Tier 2</td>\n",
              "      <td>Supermarket Type1</td>\n",
              "      <td>1076.5986</td>\n",
              "    </tr>\n",
              "    <tr>\n",
              "      <th>9</th>\n",
              "      <td>FDU28</td>\n",
              "      <td>19.200</td>\n",
              "      <td>Regular</td>\n",
              "      <td>0.094450</td>\n",
              "      <td>Frozen Foods</td>\n",
              "      <td>187.8214</td>\n",
              "      <td>OUT017</td>\n",
              "      <td>2007</td>\n",
              "      <td>NaN</td>\n",
              "      <td>Tier 2</td>\n",
              "      <td>Supermarket Type1</td>\n",
              "      <td>4710.5350</td>\n",
              "    </tr>\n",
              "  </tbody>\n",
              "</table>\n",
              "</div>\n",
              "      <button class=\"colab-df-convert\" onclick=\"convertToInteractive('df-b09175bd-bb32-499d-8372-2530fe50c42b')\"\n",
              "              title=\"Convert this dataframe to an interactive table.\"\n",
              "              style=\"display:none;\">\n",
              "        \n",
              "  <svg xmlns=\"http://www.w3.org/2000/svg\" height=\"24px\"viewBox=\"0 0 24 24\"\n",
              "       width=\"24px\">\n",
              "    <path d=\"M0 0h24v24H0V0z\" fill=\"none\"/>\n",
              "    <path d=\"M18.56 5.44l.94 2.06.94-2.06 2.06-.94-2.06-.94-.94-2.06-.94 2.06-2.06.94zm-11 1L8.5 8.5l.94-2.06 2.06-.94-2.06-.94L8.5 2.5l-.94 2.06-2.06.94zm10 10l.94 2.06.94-2.06 2.06-.94-2.06-.94-.94-2.06-.94 2.06-2.06.94z\"/><path d=\"M17.41 7.96l-1.37-1.37c-.4-.4-.92-.59-1.43-.59-.52 0-1.04.2-1.43.59L10.3 9.45l-7.72 7.72c-.78.78-.78 2.05 0 2.83L4 21.41c.39.39.9.59 1.41.59.51 0 1.02-.2 1.41-.59l7.78-7.78 2.81-2.81c.8-.78.8-2.07 0-2.86zM5.41 20L4 18.59l7.72-7.72 1.47 1.35L5.41 20z\"/>\n",
              "  </svg>\n",
              "      </button>\n",
              "      \n",
              "  <style>\n",
              "    .colab-df-container {\n",
              "      display:flex;\n",
              "      flex-wrap:wrap;\n",
              "      gap: 12px;\n",
              "    }\n",
              "\n",
              "    .colab-df-convert {\n",
              "      background-color: #E8F0FE;\n",
              "      border: none;\n",
              "      border-radius: 50%;\n",
              "      cursor: pointer;\n",
              "      display: none;\n",
              "      fill: #1967D2;\n",
              "      height: 32px;\n",
              "      padding: 0 0 0 0;\n",
              "      width: 32px;\n",
              "    }\n",
              "\n",
              "    .colab-df-convert:hover {\n",
              "      background-color: #E2EBFA;\n",
              "      box-shadow: 0px 1px 2px rgba(60, 64, 67, 0.3), 0px 1px 3px 1px rgba(60, 64, 67, 0.15);\n",
              "      fill: #174EA6;\n",
              "    }\n",
              "\n",
              "    [theme=dark] .colab-df-convert {\n",
              "      background-color: #3B4455;\n",
              "      fill: #D2E3FC;\n",
              "    }\n",
              "\n",
              "    [theme=dark] .colab-df-convert:hover {\n",
              "      background-color: #434B5C;\n",
              "      box-shadow: 0px 1px 3px 1px rgba(0, 0, 0, 0.15);\n",
              "      filter: drop-shadow(0px 1px 2px rgba(0, 0, 0, 0.3));\n",
              "      fill: #FFFFFF;\n",
              "    }\n",
              "  </style>\n",
              "\n",
              "      <script>\n",
              "        const buttonEl =\n",
              "          document.querySelector('#df-b09175bd-bb32-499d-8372-2530fe50c42b button.colab-df-convert');\n",
              "        buttonEl.style.display =\n",
              "          google.colab.kernel.accessAllowed ? 'block' : 'none';\n",
              "\n",
              "        async function convertToInteractive(key) {\n",
              "          const element = document.querySelector('#df-b09175bd-bb32-499d-8372-2530fe50c42b');\n",
              "          const dataTable =\n",
              "            await google.colab.kernel.invokeFunction('convertToInteractive',\n",
              "                                                     [key], {});\n",
              "          if (!dataTable) return;\n",
              "\n",
              "          const docLinkHtml = 'Like what you see? Visit the ' +\n",
              "            '<a target=\"_blank\" href=https://colab.research.google.com/notebooks/data_table.ipynb>data table notebook</a>'\n",
              "            + ' to learn more about interactive tables.';\n",
              "          element.innerHTML = '';\n",
              "          dataTable['output_type'] = 'display_data';\n",
              "          await google.colab.output.renderOutput(dataTable, element);\n",
              "          const docLink = document.createElement('div');\n",
              "          docLink.innerHTML = docLinkHtml;\n",
              "          element.appendChild(docLink);\n",
              "        }\n",
              "      </script>\n",
              "    </div>\n",
              "  </div>\n",
              "  "
            ]
          },
          "metadata": {},
          "execution_count": 3
        }
      ]
    },
    {
      "cell_type": "markdown",
      "source": [
        "# Análisis y Limpieza de Datos\n",
        "Para comenzar el proyecto se realiza una revisión general del dataset, teniendo como objetivo principal el tener un mejor entendimiento de los datos que se tiene, para posteriormente realizar una limpieza de los mismos. "
      ],
      "metadata": {
        "id": "0oIqQg3dXPc6"
      }
    },
    {
      "cell_type": "code",
      "source": [
        "#El primer paso que se realiza es utilizar el método .info() para tener una noción de los tipos de variables y la cantidad de valores nulos.\n",
        "df.info()"
      ],
      "metadata": {
        "id": "300r_rlom8fC",
        "colab": {
          "base_uri": "https://localhost:8080/"
        },
        "outputId": "aca499fd-e723-42c5-a63e-393548f54e41"
      },
      "execution_count": 4,
      "outputs": [
        {
          "output_type": "stream",
          "name": "stdout",
          "text": [
            "<class 'pandas.core.frame.DataFrame'>\n",
            "RangeIndex: 8523 entries, 0 to 8522\n",
            "Data columns (total 12 columns):\n",
            " #   Column                     Non-Null Count  Dtype  \n",
            "---  ------                     --------------  -----  \n",
            " 0   Item_Identifier            8523 non-null   object \n",
            " 1   Item_Weight                7060 non-null   float64\n",
            " 2   Item_Fat_Content           8523 non-null   object \n",
            " 3   Item_Visibility            8523 non-null   float64\n",
            " 4   Item_Type                  8523 non-null   object \n",
            " 5   Item_MRP                   8523 non-null   float64\n",
            " 6   Outlet_Identifier          8523 non-null   object \n",
            " 7   Outlet_Establishment_Year  8523 non-null   int64  \n",
            " 8   Outlet_Size                6113 non-null   object \n",
            " 9   Outlet_Location_Type       8523 non-null   object \n",
            " 10  Outlet_Type                8523 non-null   object \n",
            " 11  Item_Outlet_Sales          8523 non-null   float64\n",
            "dtypes: float64(4), int64(1), object(7)\n",
            "memory usage: 799.2+ KB\n"
          ]
        }
      ]
    },
    {
      "cell_type": "code",
      "source": [
        "#Con el atributo .shape se obtiene la cantidad de filas y columnas del dataset\n",
        "df.shape"
      ],
      "metadata": {
        "colab": {
          "base_uri": "https://localhost:8080/"
        },
        "id": "teLqIr3NcT12",
        "outputId": "c96c452d-44c8-47e4-c0cd-2cb8cf3b5552"
      },
      "execution_count": 5,
      "outputs": [
        {
          "output_type": "execute_result",
          "data": {
            "text/plain": [
              "(8523, 12)"
            ]
          },
          "metadata": {},
          "execution_count": 5
        }
      ]
    },
    {
      "cell_type": "markdown",
      "source": [
        "El dataframe tiene 12 diferentes columnas y 8523 filas."
      ],
      "metadata": {
        "id": "ACvmwhPsZXp0"
      }
    },
    {
      "cell_type": "code",
      "source": [
        "#Con el atributo dtypes se obtienen los tipos de variables de cada una de las columnas.\n",
        "df.dtypes"
      ],
      "metadata": {
        "colab": {
          "base_uri": "https://localhost:8080/"
        },
        "id": "lK9vEpQZZJZW",
        "outputId": "0b058456-0f0d-4f41-95ac-989cd2f17935"
      },
      "execution_count": 6,
      "outputs": [
        {
          "output_type": "execute_result",
          "data": {
            "text/plain": [
              "Item_Identifier               object\n",
              "Item_Weight                  float64\n",
              "Item_Fat_Content              object\n",
              "Item_Visibility              float64\n",
              "Item_Type                     object\n",
              "Item_MRP                     float64\n",
              "Outlet_Identifier             object\n",
              "Outlet_Establishment_Year      int64\n",
              "Outlet_Size                   object\n",
              "Outlet_Location_Type          object\n",
              "Outlet_Type                   object\n",
              "Item_Outlet_Sales            float64\n",
              "dtype: object"
            ]
          },
          "metadata": {},
          "execution_count": 6
        }
      ]
    },
    {
      "cell_type": "code",
      "source": [
        "#Revisión de duplicados\n",
        "df.duplicated().sum() #Mediante el uso de esta línea de código, se verifica que el dataframe no tiene duplicados."
      ],
      "metadata": {
        "colab": {
          "base_uri": "https://localhost:8080/"
        },
        "id": "wk9YAYLIT6wI",
        "outputId": "be9dc2ff-da1a-4e98-8016-0f5a98240f5c"
      },
      "execution_count": 7,
      "outputs": [
        {
          "output_type": "execute_result",
          "data": {
            "text/plain": [
              "0"
            ]
          },
          "metadata": {},
          "execution_count": 7
        }
      ]
    },
    {
      "cell_type": "code",
      "source": [
        "#Identificación de valores faltantes (NaN)\n",
        "df.isna().sum() "
      ],
      "metadata": {
        "colab": {
          "base_uri": "https://localhost:8080/"
        },
        "id": "qBTGsLlVZFy3",
        "outputId": "fd0e1736-aa31-4111-ce60-8be7952378d7"
      },
      "execution_count": 8,
      "outputs": [
        {
          "output_type": "execute_result",
          "data": {
            "text/plain": [
              "Item_Identifier                 0\n",
              "Item_Weight                  1463\n",
              "Item_Fat_Content                0\n",
              "Item_Visibility                 0\n",
              "Item_Type                       0\n",
              "Item_MRP                        0\n",
              "Outlet_Identifier               0\n",
              "Outlet_Establishment_Year       0\n",
              "Outlet_Size                  2410\n",
              "Outlet_Location_Type            0\n",
              "Outlet_Type                     0\n",
              "Item_Outlet_Sales               0\n",
              "dtype: int64"
            ]
          },
          "metadata": {},
          "execution_count": 8
        }
      ]
    },
    {
      "cell_type": "markdown",
      "source": [
        "Se observa que existen solo dos columnas que contienen valores NaN, estas son: **Item_Weight** (que contiene el peso del producto) y **Outlet_Size** (que contiene el tipo de tamaño de la tienda)."
      ],
      "metadata": {
        "id": "-nPaLRtffGJV"
      }
    },
    {
      "cell_type": "markdown",
      "source": [
        "# Manejo de datos faltantes\n",
        "\n",
        "El primer paso que se realizará es estudiar la relación entre los valores faltantes de la columna **Item_Weight** y el resto de las variables."
      ],
      "metadata": {
        "id": "W_spiYDPgHj7"
      }
    },
    {
      "cell_type": "code",
      "source": [
        "filtro_peso_vacio = df[\"Item_Weight\"].isna() #Se genera un filtro con los valores de Item_Weight vacíos\n",
        "df[filtro_peso_vacio][\"Outlet_Identifier\"].value_counts() #Se estudia la relación entre los valores Item_Weight vacíos y el Outlet_Identifier"
      ],
      "metadata": {
        "colab": {
          "base_uri": "https://localhost:8080/"
        },
        "id": "b10qIobUfCs-",
        "outputId": "5f2fb300-34ef-4635-c1e3-4c72cae87e24"
      },
      "execution_count": 9,
      "outputs": [
        {
          "output_type": "execute_result",
          "data": {
            "text/plain": [
              "OUT027    935\n",
              "OUT019    528\n",
              "Name: Outlet_Identifier, dtype: int64"
            ]
          },
          "metadata": {},
          "execution_count": 9
        }
      ]
    },
    {
      "cell_type": "markdown",
      "source": [
        "Se observa que los valores de peso vacío están concentrados en solo dos tiendas. Teniendo esto como input, se obtiene una lista con todas las tiendas del dataset.\n",
        "\n",
        "Como se muestra en la tabla siguiente, el dataset tiene información de un total de 10 tiendas. "
      ],
      "metadata": {
        "id": "IoiT25soyAv4"
      }
    },
    {
      "cell_type": "code",
      "source": [
        "df[\"Outlet_Identifier\"].value_counts()"
      ],
      "metadata": {
        "colab": {
          "base_uri": "https://localhost:8080/"
        },
        "id": "GE_ISCLWvMVY",
        "outputId": "27d20577-0ace-40b4-c39d-4f4a319325dd"
      },
      "execution_count": 10,
      "outputs": [
        {
          "output_type": "execute_result",
          "data": {
            "text/plain": [
              "OUT027    935\n",
              "OUT013    932\n",
              "OUT049    930\n",
              "OUT046    930\n",
              "OUT035    930\n",
              "OUT045    929\n",
              "OUT018    928\n",
              "OUT017    926\n",
              "OUT010    555\n",
              "OUT019    528\n",
              "Name: Outlet_Identifier, dtype: int64"
            ]
          },
          "metadata": {},
          "execution_count": 10
        }
      ]
    },
    {
      "cell_type": "code",
      "source": [
        "#Se revisa que no hayan elementos con peso 0\n",
        "peso_0 = df[\"Item_Weight\"] == 0\n",
        "df[peso_0] #se aprecia que no hay elementos sin peso"
      ],
      "metadata": {
        "colab": {
          "base_uri": "https://localhost:8080/",
          "height": 49
        },
        "id": "Ba5dwMvD3iPd",
        "outputId": "3a18563d-669f-4d9c-b67a-50079f24e82c"
      },
      "execution_count": 11,
      "outputs": [
        {
          "output_type": "execute_result",
          "data": {
            "text/plain": [
              "Empty DataFrame\n",
              "Columns: [Item_Identifier, Item_Weight, Item_Fat_Content, Item_Visibility, Item_Type, Item_MRP, Outlet_Identifier, Outlet_Establishment_Year, Outlet_Size, Outlet_Location_Type, Outlet_Type, Item_Outlet_Sales]\n",
              "Index: []"
            ],
            "text/html": [
              "\n",
              "  <div id=\"df-16193104-5c62-4d10-a9aa-5e29a49aae21\">\n",
              "    <div class=\"colab-df-container\">\n",
              "      <div>\n",
              "<style scoped>\n",
              "    .dataframe tbody tr th:only-of-type {\n",
              "        vertical-align: middle;\n",
              "    }\n",
              "\n",
              "    .dataframe tbody tr th {\n",
              "        vertical-align: top;\n",
              "    }\n",
              "\n",
              "    .dataframe thead th {\n",
              "        text-align: right;\n",
              "    }\n",
              "</style>\n",
              "<table border=\"1\" class=\"dataframe\">\n",
              "  <thead>\n",
              "    <tr style=\"text-align: right;\">\n",
              "      <th></th>\n",
              "      <th>Item_Identifier</th>\n",
              "      <th>Item_Weight</th>\n",
              "      <th>Item_Fat_Content</th>\n",
              "      <th>Item_Visibility</th>\n",
              "      <th>Item_Type</th>\n",
              "      <th>Item_MRP</th>\n",
              "      <th>Outlet_Identifier</th>\n",
              "      <th>Outlet_Establishment_Year</th>\n",
              "      <th>Outlet_Size</th>\n",
              "      <th>Outlet_Location_Type</th>\n",
              "      <th>Outlet_Type</th>\n",
              "      <th>Item_Outlet_Sales</th>\n",
              "    </tr>\n",
              "  </thead>\n",
              "  <tbody>\n",
              "  </tbody>\n",
              "</table>\n",
              "</div>\n",
              "      <button class=\"colab-df-convert\" onclick=\"convertToInteractive('df-16193104-5c62-4d10-a9aa-5e29a49aae21')\"\n",
              "              title=\"Convert this dataframe to an interactive table.\"\n",
              "              style=\"display:none;\">\n",
              "        \n",
              "  <svg xmlns=\"http://www.w3.org/2000/svg\" height=\"24px\"viewBox=\"0 0 24 24\"\n",
              "       width=\"24px\">\n",
              "    <path d=\"M0 0h24v24H0V0z\" fill=\"none\"/>\n",
              "    <path d=\"M18.56 5.44l.94 2.06.94-2.06 2.06-.94-2.06-.94-.94-2.06-.94 2.06-2.06.94zm-11 1L8.5 8.5l.94-2.06 2.06-.94-2.06-.94L8.5 2.5l-.94 2.06-2.06.94zm10 10l.94 2.06.94-2.06 2.06-.94-2.06-.94-.94-2.06-.94 2.06-2.06.94z\"/><path d=\"M17.41 7.96l-1.37-1.37c-.4-.4-.92-.59-1.43-.59-.52 0-1.04.2-1.43.59L10.3 9.45l-7.72 7.72c-.78.78-.78 2.05 0 2.83L4 21.41c.39.39.9.59 1.41.59.51 0 1.02-.2 1.41-.59l7.78-7.78 2.81-2.81c.8-.78.8-2.07 0-2.86zM5.41 20L4 18.59l7.72-7.72 1.47 1.35L5.41 20z\"/>\n",
              "  </svg>\n",
              "      </button>\n",
              "      \n",
              "  <style>\n",
              "    .colab-df-container {\n",
              "      display:flex;\n",
              "      flex-wrap:wrap;\n",
              "      gap: 12px;\n",
              "    }\n",
              "\n",
              "    .colab-df-convert {\n",
              "      background-color: #E8F0FE;\n",
              "      border: none;\n",
              "      border-radius: 50%;\n",
              "      cursor: pointer;\n",
              "      display: none;\n",
              "      fill: #1967D2;\n",
              "      height: 32px;\n",
              "      padding: 0 0 0 0;\n",
              "      width: 32px;\n",
              "    }\n",
              "\n",
              "    .colab-df-convert:hover {\n",
              "      background-color: #E2EBFA;\n",
              "      box-shadow: 0px 1px 2px rgba(60, 64, 67, 0.3), 0px 1px 3px 1px rgba(60, 64, 67, 0.15);\n",
              "      fill: #174EA6;\n",
              "    }\n",
              "\n",
              "    [theme=dark] .colab-df-convert {\n",
              "      background-color: #3B4455;\n",
              "      fill: #D2E3FC;\n",
              "    }\n",
              "\n",
              "    [theme=dark] .colab-df-convert:hover {\n",
              "      background-color: #434B5C;\n",
              "      box-shadow: 0px 1px 3px 1px rgba(0, 0, 0, 0.15);\n",
              "      filter: drop-shadow(0px 1px 2px rgba(0, 0, 0, 0.3));\n",
              "      fill: #FFFFFF;\n",
              "    }\n",
              "  </style>\n",
              "\n",
              "      <script>\n",
              "        const buttonEl =\n",
              "          document.querySelector('#df-16193104-5c62-4d10-a9aa-5e29a49aae21 button.colab-df-convert');\n",
              "        buttonEl.style.display =\n",
              "          google.colab.kernel.accessAllowed ? 'block' : 'none';\n",
              "\n",
              "        async function convertToInteractive(key) {\n",
              "          const element = document.querySelector('#df-16193104-5c62-4d10-a9aa-5e29a49aae21');\n",
              "          const dataTable =\n",
              "            await google.colab.kernel.invokeFunction('convertToInteractive',\n",
              "                                                     [key], {});\n",
              "          if (!dataTable) return;\n",
              "\n",
              "          const docLinkHtml = 'Like what you see? Visit the ' +\n",
              "            '<a target=\"_blank\" href=https://colab.research.google.com/notebooks/data_table.ipynb>data table notebook</a>'\n",
              "            + ' to learn more about interactive tables.';\n",
              "          element.innerHTML = '';\n",
              "          dataTable['output_type'] = 'display_data';\n",
              "          await google.colab.output.renderOutput(dataTable, element);\n",
              "          const docLink = document.createElement('div');\n",
              "          docLink.innerHTML = docLinkHtml;\n",
              "          element.appendChild(docLink);\n",
              "        }\n",
              "      </script>\n",
              "    </div>\n",
              "  </div>\n",
              "  "
            ]
          },
          "metadata": {},
          "execution_count": 11
        }
      ]
    },
    {
      "cell_type": "markdown",
      "source": [
        "Dada la naturaleza del dataset, se presume que existe la posibilidad que en otras tiendas exista información sobre el peso de los ítems que presentan valores nulos. Teniendo esto en cuenta, se realizará una búsqueda del peso de estos ítems en el resto del dataset. "
      ],
      "metadata": {
        "id": "qNbv0c4h4F6T"
      }
    },
    {
      "cell_type": "code",
      "source": [
        "filtro_tiendas_datos = (df[\"Outlet_Identifier\"]!=\"OUT027\") & (df[\"Outlet_Identifier\"]!=\"OUT019\") #Se crea un filtro que contiene a las tiendas que si tienen información del peso\n",
        "df2 = df[filtro_tiendas_datos]\n",
        "df3 =df2.groupby(\"Item_Identifier\")[\"Item_Weight\"].mean().reset_index()#Se agrupan los pesos promedio para cada uno de los ítems en las tiendas con información y se crea un df con dos columnas\n",
        "df3.iloc[:,0]"
      ],
      "metadata": {
        "colab": {
          "base_uri": "https://localhost:8080/"
        },
        "id": "jeodenOZyuoZ",
        "outputId": "30f94b07-2646-4b78-8476-c630e2dbe2d5"
      },
      "execution_count": 12,
      "outputs": [
        {
          "output_type": "execute_result",
          "data": {
            "text/plain": [
              "0       DRA12\n",
              "1       DRA24\n",
              "2       DRA59\n",
              "3       DRB01\n",
              "4       DRB13\n",
              "        ...  \n",
              "1550    NCZ30\n",
              "1551    NCZ41\n",
              "1552    NCZ42\n",
              "1553    NCZ53\n",
              "1554    NCZ54\n",
              "Name: Item_Identifier, Length: 1555, dtype: object"
            ]
          },
          "metadata": {},
          "execution_count": 12
        }
      ]
    },
    {
      "cell_type": "code",
      "source": [
        "type(df3) #Se verifica que se esté trabajando con un dataframe, esto es importante para la siguiente parte"
      ],
      "metadata": {
        "colab": {
          "base_uri": "https://localhost:8080/"
        },
        "id": "Ghyp0gkSL19J",
        "outputId": "ecde207d-3a5d-48a5-d147-645e789d7b8f"
      },
      "execution_count": 13,
      "outputs": [
        {
          "output_type": "execute_result",
          "data": {
            "text/plain": [
              "pandas.core.frame.DataFrame"
            ]
          },
          "metadata": {},
          "execution_count": 13
        }
      ]
    },
    {
      "cell_type": "markdown",
      "source": [
        "A continuación se realiza una rutina que recorra todos los elementos del dataset. En aquellos casos en que el peso es nulo, buscará el valor correspondiente en la lista previamente creada y lo actualizará."
      ],
      "metadata": {
        "id": "wnetB5N_4hlH"
      }
    },
    {
      "cell_type": "code",
      "source": [
        "largo1 = df.shape[0] #Cantidad de datos del dataframe\n",
        "largo2 = df3.shape[0] #Cantidad de datos del df creado con los precios e ítems de las tiendas con datos\n",
        "for x in range (0, largo1): #Se recorren todos los elementos del dataframe\n",
        "  if pd.isna(df.at[x, \"Item_Weight\"]): #Para aquellos casos en que el valor del peso es nulo, se entra en el if\n",
        "    for y in range (0,largo2): #Se crea un nuevo for para recorrer el dataframe creado con los pesos obtenidos de las otras tiendas\n",
        "      if df3.iloc[y,0] ==df.at[x, \"Item_Identifier\"]: #Cuando hay coincidencia entre el nombre del producto en ambos df, se actualiza el valor\n",
        "        reemplazo = df3.iloc[y,1] #se obtiene el valor \"correcto\" del peso del producto\n",
        "        df.at[x, \"Item_Weight\"] = reemplazo #Se actualiza el valor\n",
        "df[\"Item_Weight\"].isna().sum() #Se verifica que hay un total de 4 elementos que siguen teniendo valores nulos. Se decide eliminar estas filas."
      ],
      "metadata": {
        "colab": {
          "base_uri": "https://localhost:8080/"
        },
        "id": "V5lK4Gis4gD0",
        "outputId": "28817c1b-a94d-4321-ef0d-e8d32e43df10"
      },
      "execution_count": 14,
      "outputs": [
        {
          "output_type": "execute_result",
          "data": {
            "text/plain": [
              "4"
            ]
          },
          "metadata": {},
          "execution_count": 14
        }
      ]
    },
    {
      "cell_type": "code",
      "source": [
        "df.dropna(subset=[\"Item_Weight\"], inplace=True) # Se eliminan las 4 filas restantes que presentaban valores nulos de peso\n",
        "df.isna().sum() #Se verifica que no queden elementos nulos en la columna Item_Weight"
      ],
      "metadata": {
        "colab": {
          "base_uri": "https://localhost:8080/"
        },
        "id": "2KhxgQRwMfGW",
        "outputId": "96bb1d26-8d76-445c-dde7-9ba5ca37e14d"
      },
      "execution_count": 15,
      "outputs": [
        {
          "output_type": "execute_result",
          "data": {
            "text/plain": [
              "Item_Identifier                 0\n",
              "Item_Weight                     0\n",
              "Item_Fat_Content                0\n",
              "Item_Visibility                 0\n",
              "Item_Type                       0\n",
              "Item_MRP                        0\n",
              "Outlet_Identifier               0\n",
              "Outlet_Establishment_Year       0\n",
              "Outlet_Size                  2410\n",
              "Outlet_Location_Type            0\n",
              "Outlet_Type                     0\n",
              "Item_Outlet_Sales               0\n",
              "dtype: int64"
            ]
          },
          "metadata": {},
          "execution_count": 15
        }
      ]
    },
    {
      "cell_type": "markdown",
      "source": [
        "Relleno información columna **Outlet_Size**"
      ],
      "metadata": {
        "id": "cb5U0IsedpW_"
      }
    },
    {
      "cell_type": "code",
      "source": [
        "df[\"Outlet_Size\"].value_counts() #Se revisan los posibles valores de la columna."
      ],
      "metadata": {
        "colab": {
          "base_uri": "https://localhost:8080/"
        },
        "id": "dtuNLK5mvqk-",
        "outputId": "6cb35166-4a13-49f6-901a-58c6dd8dac10"
      },
      "execution_count": 16,
      "outputs": [
        {
          "output_type": "execute_result",
          "data": {
            "text/plain": [
              "Medium    2790\n",
              "Small     2387\n",
              "High       932\n",
              "Name: Outlet_Size, dtype: int64"
            ]
          },
          "metadata": {},
          "execution_count": 16
        }
      ]
    },
    {
      "cell_type": "code",
      "source": [
        "#Con la intención de hacer un cruce entre la información de la columna Outlet_Size y la columna Outlet_type, se revisan los posibles valores de esta\n",
        "df[\"Outlet_Type\"].value_counts()"
      ],
      "metadata": {
        "colab": {
          "base_uri": "https://localhost:8080/"
        },
        "id": "Qaqye1-wwcXE",
        "outputId": "b684e729-3398-4ed8-9f8e-2600797974be"
      },
      "execution_count": 17,
      "outputs": [
        {
          "output_type": "execute_result",
          "data": {
            "text/plain": [
              "Supermarket Type1    5577\n",
              "Grocery Store        1082\n",
              "Supermarket Type3     932\n",
              "Supermarket Type2     928\n",
              "Name: Outlet_Type, dtype: int64"
            ]
          },
          "metadata": {},
          "execution_count": 17
        }
      ]
    },
    {
      "cell_type": "code",
      "source": [
        "#Se crea un filtro con las filas que tiene el atributo Outlet_Size nulo\n",
        "filtro_size_vacio = df[\"Outlet_Size\"].isna()\n",
        "df[filtro_size_vacio][\"Outlet_Type\"].value_counts()"
      ],
      "metadata": {
        "colab": {
          "base_uri": "https://localhost:8080/"
        },
        "id": "khuUCQ4rutU9",
        "outputId": "cab7bb5f-9d9b-4d60-d35e-3b9f65e840c3"
      },
      "execution_count": 18,
      "outputs": [
        {
          "output_type": "execute_result",
          "data": {
            "text/plain": [
              "Supermarket Type1    1855\n",
              "Grocery Store         555\n",
              "Name: Outlet_Type, dtype: int64"
            ]
          },
          "metadata": {},
          "execution_count": 18
        }
      ]
    },
    {
      "cell_type": "markdown",
      "source": [
        "Se puede apreciar que la mayoría de las filas vacías tienen como tipo de outlet Supermarket Type1\n"
      ],
      "metadata": {
        "id": "aXGiXh5-d9mG"
      }
    },
    {
      "cell_type": "code",
      "source": [
        "#Se realiza un filtro para ver la relación entre Supermarket Type1 y Outlet_Size\n",
        "filtro_supermercados = df[\"Outlet_Type\"]==\"Supermarket Type1\"\n",
        "df[filtro_supermercados][\"Outlet_Size\"].value_counts()"
      ],
      "metadata": {
        "colab": {
          "base_uri": "https://localhost:8080/"
        },
        "id": "I2jnJjnrvf7J",
        "outputId": "6490a172-23d3-4bfc-d8e1-130400c6da31"
      },
      "execution_count": 19,
      "outputs": [
        {
          "output_type": "execute_result",
          "data": {
            "text/plain": [
              "Small     1860\n",
              "High       932\n",
              "Medium     930\n",
              "Name: Outlet_Size, dtype: int64"
            ]
          },
          "metadata": {},
          "execution_count": 19
        }
      ]
    },
    {
      "cell_type": "markdown",
      "source": [
        "\n",
        "Del filtro previamente creado se aprecia que más del 50% de los outlet tipo Supermarket Type1 tienen un tamaño Small. Considerando lo anterior, a los 1855 valores de Supermarket Type 1 sin el atributo Outlet Size, se le asignará el tamaño Small. "
      ],
      "metadata": {
        "id": "IGiMC6vzeQsR"
      }
    },
    {
      "cell_type": "code",
      "source": [
        "#De forma análoga se realiza un filtro para ver la relación entre Grocery Store y Outlet_Size\n",
        "filtro_supermercados2 = df[\"Outlet_Type\"]==\"Grocery Store\"\n",
        "df[filtro_supermercados2][\"Outlet_Size\"].value_counts()"
      ],
      "metadata": {
        "colab": {
          "base_uri": "https://localhost:8080/"
        },
        "id": "Z-249XC3eQkJ",
        "outputId": "4a08ae6f-7314-433c-ac68-f63388e7ae4c"
      },
      "execution_count": 20,
      "outputs": [
        {
          "output_type": "execute_result",
          "data": {
            "text/plain": [
              "Small    527\n",
              "Name: Outlet_Size, dtype: int64"
            ]
          },
          "metadata": {},
          "execution_count": 20
        }
      ]
    },
    {
      "cell_type": "markdown",
      "source": [
        "Previamente se había visto que existen 1083 Grocery Store. El filtro previamente realizado muestra que de estos, 527 presentan tamaño Small. Tiene sentido que estos números difieran, ya que hay 555 outlet tipo Grocery Store sin información del tamaño. \n",
        "\n",
        "Considerando lo recientemente observado, se decide reemplazar todos los valores de Outlet_Size faltantes con el valor Small."
      ],
      "metadata": {
        "id": "27QfhM4Leyu9"
      }
    },
    {
      "cell_type": "code",
      "source": [
        "df[\"Outlet_Size\"].fillna(value=\"Small\", inplace = True) #Se realiza el reemplazo\n",
        "df.isna().sum()"
      ],
      "metadata": {
        "colab": {
          "base_uri": "https://localhost:8080/"
        },
        "id": "CO1ITMxfeQQ7",
        "outputId": "2ce07bbd-2661-481a-9e6f-a9472da295f1"
      },
      "execution_count": 21,
      "outputs": [
        {
          "output_type": "execute_result",
          "data": {
            "text/plain": [
              "Item_Identifier              0\n",
              "Item_Weight                  0\n",
              "Item_Fat_Content             0\n",
              "Item_Visibility              0\n",
              "Item_Type                    0\n",
              "Item_MRP                     0\n",
              "Outlet_Identifier            0\n",
              "Outlet_Establishment_Year    0\n",
              "Outlet_Size                  0\n",
              "Outlet_Location_Type         0\n",
              "Outlet_Type                  0\n",
              "Item_Outlet_Sales            0\n",
              "dtype: int64"
            ]
          },
          "metadata": {},
          "execution_count": 21
        }
      ]
    },
    {
      "cell_type": "markdown",
      "source": [
        "Con lo anterior, se verifica que no existen elementos vacíos en el dataframe. "
      ],
      "metadata": {
        "id": "mFu-EcmhgtBF"
      }
    },
    {
      "cell_type": "markdown",
      "source": [
        "## Revisión de categorías inconsistentes:\n",
        "\n",
        "Mediante el método .value_counts() se realiza una revisión de los datos que están contenidos en las variables con categorías.\n"
      ],
      "metadata": {
        "id": "5h0xGVFXg1Xz"
      }
    },
    {
      "cell_type": "code",
      "source": [
        "df[\"Item_Fat_Content\"].value_counts() #Revisión inconsistencias categoría Item_Fat_Content\n"
      ],
      "metadata": {
        "colab": {
          "base_uri": "https://localhost:8080/"
        },
        "id": "v10x_C26hCaJ",
        "outputId": "93fde154-0e05-43e5-e273-b06420f39c54"
      },
      "execution_count": 22,
      "outputs": [
        {
          "output_type": "execute_result",
          "data": {
            "text/plain": [
              "Low Fat    5088\n",
              "Regular    2886\n",
              "LF          316\n",
              "reg         117\n",
              "low fat     112\n",
              "Name: Item_Fat_Content, dtype: int64"
            ]
          },
          "metadata": {},
          "execution_count": 22
        }
      ]
    },
    {
      "cell_type": "markdown",
      "source": [
        "De la revisión se observa que hay valores mal ingresados. Se realizarán las siguientes correcciones:\n",
        "1. LF se reemplazará por Low Fat\n",
        "2. reg se reemplazará por Regular\n",
        "3. low fat se reemplazará por Low Fat"
      ],
      "metadata": {
        "id": "ZTjElLuxh5lh"
      }
    },
    {
      "cell_type": "code",
      "source": [
        "dic_reemplazo = {\"LF\":\"Low Fat\",  #Se crea un diccionario en el que se almacenan los cambios\n",
        "                 \"reg\":\"Regular\",\n",
        "                 \"low fat\":\"Low Fat\",}\n",
        "df[\"Item_Fat_Content\"].replace(dic_reemplazo, inplace = True) # Se realizan los cambios \n",
        "df[\"Item_Fat_Content\"].value_counts() #Se verifica que los cambios fueron exitosos."
      ],
      "metadata": {
        "colab": {
          "base_uri": "https://localhost:8080/"
        },
        "id": "1-Oov3b2iC7J",
        "outputId": "28962988-f150-42cf-fd72-b93cec64c4a5"
      },
      "execution_count": 23,
      "outputs": [
        {
          "output_type": "execute_result",
          "data": {
            "text/plain": [
              "Low Fat    5516\n",
              "Regular    3003\n",
              "Name: Item_Fat_Content, dtype: int64"
            ]
          },
          "metadata": {},
          "execution_count": 23
        }
      ]
    },
    {
      "cell_type": "code",
      "source": [
        "df[\"Item_Type\"].value_counts() #Revisión inconsistencias categoría Item_Type. No se encuentra ninguna inconsistencia."
      ],
      "metadata": {
        "colab": {
          "base_uri": "https://localhost:8080/"
        },
        "id": "EIh3qNSfhGvH",
        "outputId": "1efec583-4b0e-47b1-8faf-bc42b76381da"
      },
      "execution_count": 24,
      "outputs": [
        {
          "output_type": "execute_result",
          "data": {
            "text/plain": [
              "Fruits and Vegetables    1232\n",
              "Snack Foods              1199\n",
              "Household                 910\n",
              "Frozen Foods              855\n",
              "Dairy                     681\n",
              "Canned                    649\n",
              "Baking Goods              647\n",
              "Health and Hygiene        520\n",
              "Soft Drinks               445\n",
              "Meat                      425\n",
              "Breads                    251\n",
              "Hard Drinks               214\n",
              "Others                    169\n",
              "Starchy Foods             148\n",
              "Breakfast                 110\n",
              "Seafood                    64\n",
              "Name: Item_Type, dtype: int64"
            ]
          },
          "metadata": {},
          "execution_count": 24
        }
      ]
    },
    {
      "cell_type": "code",
      "source": [
        "df[\"Outlet_Establishment_Year\"].value_counts() #Revisión inconsistencias categoría Outlet_Establishment_Year\n",
        "#Se obtienen 9 valores, pero uno de ellos cuenta los años para dos tiendas, por lo que los valores son consistentes con lo esperado.\n",
        "#No se encuentra ninguna inconsistencia."
      ],
      "metadata": {
        "colab": {
          "base_uri": "https://localhost:8080/"
        },
        "id": "uJzYCwRAhLw8",
        "outputId": "5e234ba7-5d14-40e5-cb0e-c64b53096768"
      },
      "execution_count": 25,
      "outputs": [
        {
          "output_type": "execute_result",
          "data": {
            "text/plain": [
              "1985    1459\n",
              "1987     932\n",
              "1999     930\n",
              "1997     930\n",
              "2004     930\n",
              "2002     929\n",
              "2009     928\n",
              "2007     926\n",
              "1998     555\n",
              "Name: Outlet_Establishment_Year, dtype: int64"
            ]
          },
          "metadata": {},
          "execution_count": 25
        }
      ]
    },
    {
      "cell_type": "code",
      "source": [
        "df[\"Outlet_Location_Type\"].value_counts() #Revisión inconsistencias categoría Outlet_Establishment_Year. No se encuentra ninguna inconsistencia."
      ],
      "metadata": {
        "colab": {
          "base_uri": "https://localhost:8080/"
        },
        "id": "sNQiLgPNhpf4",
        "outputId": "53682521-dab4-4bd5-f9c3-c5fe233135e9"
      },
      "execution_count": 26,
      "outputs": [
        {
          "output_type": "execute_result",
          "data": {
            "text/plain": [
              "Tier 3    3347\n",
              "Tier 2    2785\n",
              "Tier 1    2387\n",
              "Name: Outlet_Location_Type, dtype: int64"
            ]
          },
          "metadata": {},
          "execution_count": 26
        }
      ]
    },
    {
      "cell_type": "code",
      "source": [],
      "metadata": {
        "id": "VXWMZXtFXh6I"
      },
      "execution_count": 26,
      "outputs": []
    },
    {
      "cell_type": "markdown",
      "source": [
        "# Resumen estadísticas"
      ],
      "metadata": {
        "id": "aeSkrasnjPg9"
      }
    },
    {
      "cell_type": "code",
      "source": [
        "df.describe()"
      ],
      "metadata": {
        "colab": {
          "base_uri": "https://localhost:8080/",
          "height": 300
        },
        "id": "SPbPeY9NjRsC",
        "outputId": "71f6a670-5c51-4403-c9c3-26275ce5e378"
      },
      "execution_count": 27,
      "outputs": [
        {
          "output_type": "execute_result",
          "data": {
            "text/plain": [
              "       Item_Weight  Item_Visibility     Item_MRP  Outlet_Establishment_Year  \\\n",
              "count  8519.000000      8519.000000  8519.000000                8519.000000   \n",
              "mean     12.875420         0.066112   141.010019                1997.837892   \n",
              "std       4.646098         0.051586    62.283594                   8.369105   \n",
              "min       4.555000         0.000000    31.290000                1985.000000   \n",
              "25%       8.785000         0.026983    93.844900                1987.000000   \n",
              "50%      12.650000         0.053925   143.047000                1999.000000   \n",
              "75%      16.850000         0.094558   185.676600                2004.000000   \n",
              "max      21.350000         0.328391   266.888400                2009.000000   \n",
              "\n",
              "       Item_Outlet_Sales  \n",
              "count        8519.000000  \n",
              "mean         2181.188779  \n",
              "std          1706.511093  \n",
              "min            33.290000  \n",
              "25%           834.247400  \n",
              "50%          1794.331000  \n",
              "75%          3100.630600  \n",
              "max         13086.964800  "
            ],
            "text/html": [
              "\n",
              "  <div id=\"df-b985b885-04bb-46c5-ad4e-8b68c685afbe\">\n",
              "    <div class=\"colab-df-container\">\n",
              "      <div>\n",
              "<style scoped>\n",
              "    .dataframe tbody tr th:only-of-type {\n",
              "        vertical-align: middle;\n",
              "    }\n",
              "\n",
              "    .dataframe tbody tr th {\n",
              "        vertical-align: top;\n",
              "    }\n",
              "\n",
              "    .dataframe thead th {\n",
              "        text-align: right;\n",
              "    }\n",
              "</style>\n",
              "<table border=\"1\" class=\"dataframe\">\n",
              "  <thead>\n",
              "    <tr style=\"text-align: right;\">\n",
              "      <th></th>\n",
              "      <th>Item_Weight</th>\n",
              "      <th>Item_Visibility</th>\n",
              "      <th>Item_MRP</th>\n",
              "      <th>Outlet_Establishment_Year</th>\n",
              "      <th>Item_Outlet_Sales</th>\n",
              "    </tr>\n",
              "  </thead>\n",
              "  <tbody>\n",
              "    <tr>\n",
              "      <th>count</th>\n",
              "      <td>8519.000000</td>\n",
              "      <td>8519.000000</td>\n",
              "      <td>8519.000000</td>\n",
              "      <td>8519.000000</td>\n",
              "      <td>8519.000000</td>\n",
              "    </tr>\n",
              "    <tr>\n",
              "      <th>mean</th>\n",
              "      <td>12.875420</td>\n",
              "      <td>0.066112</td>\n",
              "      <td>141.010019</td>\n",
              "      <td>1997.837892</td>\n",
              "      <td>2181.188779</td>\n",
              "    </tr>\n",
              "    <tr>\n",
              "      <th>std</th>\n",
              "      <td>4.646098</td>\n",
              "      <td>0.051586</td>\n",
              "      <td>62.283594</td>\n",
              "      <td>8.369105</td>\n",
              "      <td>1706.511093</td>\n",
              "    </tr>\n",
              "    <tr>\n",
              "      <th>min</th>\n",
              "      <td>4.555000</td>\n",
              "      <td>0.000000</td>\n",
              "      <td>31.290000</td>\n",
              "      <td>1985.000000</td>\n",
              "      <td>33.290000</td>\n",
              "    </tr>\n",
              "    <tr>\n",
              "      <th>25%</th>\n",
              "      <td>8.785000</td>\n",
              "      <td>0.026983</td>\n",
              "      <td>93.844900</td>\n",
              "      <td>1987.000000</td>\n",
              "      <td>834.247400</td>\n",
              "    </tr>\n",
              "    <tr>\n",
              "      <th>50%</th>\n",
              "      <td>12.650000</td>\n",
              "      <td>0.053925</td>\n",
              "      <td>143.047000</td>\n",
              "      <td>1999.000000</td>\n",
              "      <td>1794.331000</td>\n",
              "    </tr>\n",
              "    <tr>\n",
              "      <th>75%</th>\n",
              "      <td>16.850000</td>\n",
              "      <td>0.094558</td>\n",
              "      <td>185.676600</td>\n",
              "      <td>2004.000000</td>\n",
              "      <td>3100.630600</td>\n",
              "    </tr>\n",
              "    <tr>\n",
              "      <th>max</th>\n",
              "      <td>21.350000</td>\n",
              "      <td>0.328391</td>\n",
              "      <td>266.888400</td>\n",
              "      <td>2009.000000</td>\n",
              "      <td>13086.964800</td>\n",
              "    </tr>\n",
              "  </tbody>\n",
              "</table>\n",
              "</div>\n",
              "      <button class=\"colab-df-convert\" onclick=\"convertToInteractive('df-b985b885-04bb-46c5-ad4e-8b68c685afbe')\"\n",
              "              title=\"Convert this dataframe to an interactive table.\"\n",
              "              style=\"display:none;\">\n",
              "        \n",
              "  <svg xmlns=\"http://www.w3.org/2000/svg\" height=\"24px\"viewBox=\"0 0 24 24\"\n",
              "       width=\"24px\">\n",
              "    <path d=\"M0 0h24v24H0V0z\" fill=\"none\"/>\n",
              "    <path d=\"M18.56 5.44l.94 2.06.94-2.06 2.06-.94-2.06-.94-.94-2.06-.94 2.06-2.06.94zm-11 1L8.5 8.5l.94-2.06 2.06-.94-2.06-.94L8.5 2.5l-.94 2.06-2.06.94zm10 10l.94 2.06.94-2.06 2.06-.94-2.06-.94-.94-2.06-.94 2.06-2.06.94z\"/><path d=\"M17.41 7.96l-1.37-1.37c-.4-.4-.92-.59-1.43-.59-.52 0-1.04.2-1.43.59L10.3 9.45l-7.72 7.72c-.78.78-.78 2.05 0 2.83L4 21.41c.39.39.9.59 1.41.59.51 0 1.02-.2 1.41-.59l7.78-7.78 2.81-2.81c.8-.78.8-2.07 0-2.86zM5.41 20L4 18.59l7.72-7.72 1.47 1.35L5.41 20z\"/>\n",
              "  </svg>\n",
              "      </button>\n",
              "      \n",
              "  <style>\n",
              "    .colab-df-container {\n",
              "      display:flex;\n",
              "      flex-wrap:wrap;\n",
              "      gap: 12px;\n",
              "    }\n",
              "\n",
              "    .colab-df-convert {\n",
              "      background-color: #E8F0FE;\n",
              "      border: none;\n",
              "      border-radius: 50%;\n",
              "      cursor: pointer;\n",
              "      display: none;\n",
              "      fill: #1967D2;\n",
              "      height: 32px;\n",
              "      padding: 0 0 0 0;\n",
              "      width: 32px;\n",
              "    }\n",
              "\n",
              "    .colab-df-convert:hover {\n",
              "      background-color: #E2EBFA;\n",
              "      box-shadow: 0px 1px 2px rgba(60, 64, 67, 0.3), 0px 1px 3px 1px rgba(60, 64, 67, 0.15);\n",
              "      fill: #174EA6;\n",
              "    }\n",
              "\n",
              "    [theme=dark] .colab-df-convert {\n",
              "      background-color: #3B4455;\n",
              "      fill: #D2E3FC;\n",
              "    }\n",
              "\n",
              "    [theme=dark] .colab-df-convert:hover {\n",
              "      background-color: #434B5C;\n",
              "      box-shadow: 0px 1px 3px 1px rgba(0, 0, 0, 0.15);\n",
              "      filter: drop-shadow(0px 1px 2px rgba(0, 0, 0, 0.3));\n",
              "      fill: #FFFFFF;\n",
              "    }\n",
              "  </style>\n",
              "\n",
              "      <script>\n",
              "        const buttonEl =\n",
              "          document.querySelector('#df-b985b885-04bb-46c5-ad4e-8b68c685afbe button.colab-df-convert');\n",
              "        buttonEl.style.display =\n",
              "          google.colab.kernel.accessAllowed ? 'block' : 'none';\n",
              "\n",
              "        async function convertToInteractive(key) {\n",
              "          const element = document.querySelector('#df-b985b885-04bb-46c5-ad4e-8b68c685afbe');\n",
              "          const dataTable =\n",
              "            await google.colab.kernel.invokeFunction('convertToInteractive',\n",
              "                                                     [key], {});\n",
              "          if (!dataTable) return;\n",
              "\n",
              "          const docLinkHtml = 'Like what you see? Visit the ' +\n",
              "            '<a target=\"_blank\" href=https://colab.research.google.com/notebooks/data_table.ipynb>data table notebook</a>'\n",
              "            + ' to learn more about interactive tables.';\n",
              "          element.innerHTML = '';\n",
              "          dataTable['output_type'] = 'display_data';\n",
              "          await google.colab.output.renderOutput(dataTable, element);\n",
              "          const docLink = document.createElement('div');\n",
              "          docLink.innerHTML = docLinkHtml;\n",
              "          element.appendChild(docLink);\n",
              "        }\n",
              "      </script>\n",
              "    </div>\n",
              "  </div>\n",
              "  "
            ]
          },
          "metadata": {},
          "execution_count": 27
        }
      ]
    },
    {
      "cell_type": "markdown",
      "source": [
        "#Visualizaciones\n",
        "La tercera parte de este proyecto está destinada a generar visualizaciones que permitan entender de mejor forma el conjunto de datos. \n",
        "\n",
        "Se comenzará generando un mapa de calor con las correlaciones existentes entre las variables del dataframe. "
      ],
      "metadata": {
        "id": "DDwjh17ExW56"
      }
    },
    {
      "cell_type": "markdown",
      "source": [
        "A modo de estudio adicional, se realizará un cambio en la variable Item Fat Content. El cambio será ponerle el valor 1 para Low Fat y 2 para Regular.Esto se realiza en un nuevo dataframe denominado \"**dfn**\"\n",
        "\n",
        "Este cambio se realiza para ver si existe relación entre las ventas y el contenido de grasa del item."
      ],
      "metadata": {
        "id": "Mxg41g8K6QVw"
      }
    },
    {
      "cell_type": "code",
      "source": [
        "cambio_fat = {\"Low Fat\":1,\"Regular\":2}\n",
        "dfn = df.replace(to_replace = cambio_fat) #Para esto se crea un nuevo dataframe\n",
        "dfn.head()"
      ],
      "metadata": {
        "colab": {
          "base_uri": "https://localhost:8080/",
          "height": 337
        },
        "id": "iahcSe5n6Z-3",
        "outputId": "ec5426b2-7c81-4704-897e-2ceb21230c7e"
      },
      "execution_count": 28,
      "outputs": [
        {
          "output_type": "execute_result",
          "data": {
            "text/plain": [
              "  Item_Identifier  Item_Weight  Item_Fat_Content  Item_Visibility  \\\n",
              "0           FDA15         9.30                 1         0.016047   \n",
              "1           DRC01         5.92                 2         0.019278   \n",
              "2           FDN15        17.50                 1         0.016760   \n",
              "3           FDX07        19.20                 2         0.000000   \n",
              "4           NCD19         8.93                 1         0.000000   \n",
              "\n",
              "               Item_Type  Item_MRP Outlet_Identifier  \\\n",
              "0                  Dairy  249.8092            OUT049   \n",
              "1            Soft Drinks   48.2692            OUT018   \n",
              "2                   Meat  141.6180            OUT049   \n",
              "3  Fruits and Vegetables  182.0950            OUT010   \n",
              "4              Household   53.8614            OUT013   \n",
              "\n",
              "   Outlet_Establishment_Year Outlet_Size Outlet_Location_Type  \\\n",
              "0                       1999      Medium               Tier 1   \n",
              "1                       2009      Medium               Tier 3   \n",
              "2                       1999      Medium               Tier 1   \n",
              "3                       1998       Small               Tier 3   \n",
              "4                       1987        High               Tier 3   \n",
              "\n",
              "         Outlet_Type  Item_Outlet_Sales  \n",
              "0  Supermarket Type1          3735.1380  \n",
              "1  Supermarket Type2           443.4228  \n",
              "2  Supermarket Type1          2097.2700  \n",
              "3      Grocery Store           732.3800  \n",
              "4  Supermarket Type1           994.7052  "
            ],
            "text/html": [
              "\n",
              "  <div id=\"df-976233b0-06fc-487f-99ef-8cb01adcaf98\">\n",
              "    <div class=\"colab-df-container\">\n",
              "      <div>\n",
              "<style scoped>\n",
              "    .dataframe tbody tr th:only-of-type {\n",
              "        vertical-align: middle;\n",
              "    }\n",
              "\n",
              "    .dataframe tbody tr th {\n",
              "        vertical-align: top;\n",
              "    }\n",
              "\n",
              "    .dataframe thead th {\n",
              "        text-align: right;\n",
              "    }\n",
              "</style>\n",
              "<table border=\"1\" class=\"dataframe\">\n",
              "  <thead>\n",
              "    <tr style=\"text-align: right;\">\n",
              "      <th></th>\n",
              "      <th>Item_Identifier</th>\n",
              "      <th>Item_Weight</th>\n",
              "      <th>Item_Fat_Content</th>\n",
              "      <th>Item_Visibility</th>\n",
              "      <th>Item_Type</th>\n",
              "      <th>Item_MRP</th>\n",
              "      <th>Outlet_Identifier</th>\n",
              "      <th>Outlet_Establishment_Year</th>\n",
              "      <th>Outlet_Size</th>\n",
              "      <th>Outlet_Location_Type</th>\n",
              "      <th>Outlet_Type</th>\n",
              "      <th>Item_Outlet_Sales</th>\n",
              "    </tr>\n",
              "  </thead>\n",
              "  <tbody>\n",
              "    <tr>\n",
              "      <th>0</th>\n",
              "      <td>FDA15</td>\n",
              "      <td>9.30</td>\n",
              "      <td>1</td>\n",
              "      <td>0.016047</td>\n",
              "      <td>Dairy</td>\n",
              "      <td>249.8092</td>\n",
              "      <td>OUT049</td>\n",
              "      <td>1999</td>\n",
              "      <td>Medium</td>\n",
              "      <td>Tier 1</td>\n",
              "      <td>Supermarket Type1</td>\n",
              "      <td>3735.1380</td>\n",
              "    </tr>\n",
              "    <tr>\n",
              "      <th>1</th>\n",
              "      <td>DRC01</td>\n",
              "      <td>5.92</td>\n",
              "      <td>2</td>\n",
              "      <td>0.019278</td>\n",
              "      <td>Soft Drinks</td>\n",
              "      <td>48.2692</td>\n",
              "      <td>OUT018</td>\n",
              "      <td>2009</td>\n",
              "      <td>Medium</td>\n",
              "      <td>Tier 3</td>\n",
              "      <td>Supermarket Type2</td>\n",
              "      <td>443.4228</td>\n",
              "    </tr>\n",
              "    <tr>\n",
              "      <th>2</th>\n",
              "      <td>FDN15</td>\n",
              "      <td>17.50</td>\n",
              "      <td>1</td>\n",
              "      <td>0.016760</td>\n",
              "      <td>Meat</td>\n",
              "      <td>141.6180</td>\n",
              "      <td>OUT049</td>\n",
              "      <td>1999</td>\n",
              "      <td>Medium</td>\n",
              "      <td>Tier 1</td>\n",
              "      <td>Supermarket Type1</td>\n",
              "      <td>2097.2700</td>\n",
              "    </tr>\n",
              "    <tr>\n",
              "      <th>3</th>\n",
              "      <td>FDX07</td>\n",
              "      <td>19.20</td>\n",
              "      <td>2</td>\n",
              "      <td>0.000000</td>\n",
              "      <td>Fruits and Vegetables</td>\n",
              "      <td>182.0950</td>\n",
              "      <td>OUT010</td>\n",
              "      <td>1998</td>\n",
              "      <td>Small</td>\n",
              "      <td>Tier 3</td>\n",
              "      <td>Grocery Store</td>\n",
              "      <td>732.3800</td>\n",
              "    </tr>\n",
              "    <tr>\n",
              "      <th>4</th>\n",
              "      <td>NCD19</td>\n",
              "      <td>8.93</td>\n",
              "      <td>1</td>\n",
              "      <td>0.000000</td>\n",
              "      <td>Household</td>\n",
              "      <td>53.8614</td>\n",
              "      <td>OUT013</td>\n",
              "      <td>1987</td>\n",
              "      <td>High</td>\n",
              "      <td>Tier 3</td>\n",
              "      <td>Supermarket Type1</td>\n",
              "      <td>994.7052</td>\n",
              "    </tr>\n",
              "  </tbody>\n",
              "</table>\n",
              "</div>\n",
              "      <button class=\"colab-df-convert\" onclick=\"convertToInteractive('df-976233b0-06fc-487f-99ef-8cb01adcaf98')\"\n",
              "              title=\"Convert this dataframe to an interactive table.\"\n",
              "              style=\"display:none;\">\n",
              "        \n",
              "  <svg xmlns=\"http://www.w3.org/2000/svg\" height=\"24px\"viewBox=\"0 0 24 24\"\n",
              "       width=\"24px\">\n",
              "    <path d=\"M0 0h24v24H0V0z\" fill=\"none\"/>\n",
              "    <path d=\"M18.56 5.44l.94 2.06.94-2.06 2.06-.94-2.06-.94-.94-2.06-.94 2.06-2.06.94zm-11 1L8.5 8.5l.94-2.06 2.06-.94-2.06-.94L8.5 2.5l-.94 2.06-2.06.94zm10 10l.94 2.06.94-2.06 2.06-.94-2.06-.94-.94-2.06-.94 2.06-2.06.94z\"/><path d=\"M17.41 7.96l-1.37-1.37c-.4-.4-.92-.59-1.43-.59-.52 0-1.04.2-1.43.59L10.3 9.45l-7.72 7.72c-.78.78-.78 2.05 0 2.83L4 21.41c.39.39.9.59 1.41.59.51 0 1.02-.2 1.41-.59l7.78-7.78 2.81-2.81c.8-.78.8-2.07 0-2.86zM5.41 20L4 18.59l7.72-7.72 1.47 1.35L5.41 20z\"/>\n",
              "  </svg>\n",
              "      </button>\n",
              "      \n",
              "  <style>\n",
              "    .colab-df-container {\n",
              "      display:flex;\n",
              "      flex-wrap:wrap;\n",
              "      gap: 12px;\n",
              "    }\n",
              "\n",
              "    .colab-df-convert {\n",
              "      background-color: #E8F0FE;\n",
              "      border: none;\n",
              "      border-radius: 50%;\n",
              "      cursor: pointer;\n",
              "      display: none;\n",
              "      fill: #1967D2;\n",
              "      height: 32px;\n",
              "      padding: 0 0 0 0;\n",
              "      width: 32px;\n",
              "    }\n",
              "\n",
              "    .colab-df-convert:hover {\n",
              "      background-color: #E2EBFA;\n",
              "      box-shadow: 0px 1px 2px rgba(60, 64, 67, 0.3), 0px 1px 3px 1px rgba(60, 64, 67, 0.15);\n",
              "      fill: #174EA6;\n",
              "    }\n",
              "\n",
              "    [theme=dark] .colab-df-convert {\n",
              "      background-color: #3B4455;\n",
              "      fill: #D2E3FC;\n",
              "    }\n",
              "\n",
              "    [theme=dark] .colab-df-convert:hover {\n",
              "      background-color: #434B5C;\n",
              "      box-shadow: 0px 1px 3px 1px rgba(0, 0, 0, 0.15);\n",
              "      filter: drop-shadow(0px 1px 2px rgba(0, 0, 0, 0.3));\n",
              "      fill: #FFFFFF;\n",
              "    }\n",
              "  </style>\n",
              "\n",
              "      <script>\n",
              "        const buttonEl =\n",
              "          document.querySelector('#df-976233b0-06fc-487f-99ef-8cb01adcaf98 button.colab-df-convert');\n",
              "        buttonEl.style.display =\n",
              "          google.colab.kernel.accessAllowed ? 'block' : 'none';\n",
              "\n",
              "        async function convertToInteractive(key) {\n",
              "          const element = document.querySelector('#df-976233b0-06fc-487f-99ef-8cb01adcaf98');\n",
              "          const dataTable =\n",
              "            await google.colab.kernel.invokeFunction('convertToInteractive',\n",
              "                                                     [key], {});\n",
              "          if (!dataTable) return;\n",
              "\n",
              "          const docLinkHtml = 'Like what you see? Visit the ' +\n",
              "            '<a target=\"_blank\" href=https://colab.research.google.com/notebooks/data_table.ipynb>data table notebook</a>'\n",
              "            + ' to learn more about interactive tables.';\n",
              "          element.innerHTML = '';\n",
              "          dataTable['output_type'] = 'display_data';\n",
              "          await google.colab.output.renderOutput(dataTable, element);\n",
              "          const docLink = document.createElement('div');\n",
              "          docLink.innerHTML = docLinkHtml;\n",
              "          element.appendChild(docLink);\n",
              "        }\n",
              "      </script>\n",
              "    </div>\n",
              "  </div>\n",
              "  "
            ]
          },
          "metadata": {},
          "execution_count": 28
        }
      ]
    },
    {
      "cell_type": "code",
      "source": [
        "#Primero, se define la correlación entre variables\n",
        "corr = dfn.corr()\n",
        "plt.figure(figsize=(15, 10))\n",
        "sns.heatmap(corr, cmap = \"Pastel1\", annot = True, cbar = False, linewidths = 0.01,linecolor = \"grey\", square = True)\n",
        "plt.show()"
      ],
      "metadata": {
        "colab": {
          "base_uri": "https://localhost:8080/",
          "height": 715
        },
        "id": "xxv6YayixnuW",
        "outputId": "d54a8c6f-d989-4632-de81-c5e913c7198a"
      },
      "execution_count": 29,
      "outputs": [
        {
          "output_type": "display_data",
          "data": {
            "text/plain": [
              "<Figure size 1080x720 with 1 Axes>"
            ],
            "image/png": "[encoded data removed]"
          },
          "metadata": {
            "needs_background": "light"
          }
        }
      ]
    },
    {
      "cell_type": "markdown",
      "source": [
        "Del gráfico anterior se puede concluir que la mayoría de las variables no están relacionadas entre sí. La única relación que se aprecia es la existente entre **Item_Outlet_Sales** y **Item_MRP**. Es decir, las **ventas** están relacionadas positivamente con el **precio de venta**. Esta relación, dado el número del coeficiente, se puede definir como moderada. "
      ],
      "metadata": {
        "id": "A64wVVbZ3pW4"
      }
    },
    {
      "cell_type": "markdown",
      "source": [
        "Para iniciar el estudio de las variables, se realizará un groupby que permita saber en qué outlets se tienen las mayores y menores ventas. "
      ],
      "metadata": {
        "id": "McE9C3tx5grN"
      }
    },
    {
      "cell_type": "code",
      "source": [
        "pd.options.display.float_format = '{:.0f}'.format #Línea que formatea la salida de datos, para evitar la notación científica\n",
        "df.groupby(\"Outlet_Identifier\")[\"Item_Outlet_Sales\"].sum().sort_values(ascending=False) #Groupby ordenado de mayor a menor"
      ],
      "metadata": {
        "colab": {
          "base_uri": "https://localhost:8080/"
        },
        "id": "VJKOat085on4",
        "outputId": "27a3601b-bbe0-4320-8d3b-ecab02868739"
      },
      "execution_count": 30,
      "outputs": [
        {
          "output_type": "execute_result",
          "data": {
            "text/plain": [
              "Outlet_Identifier\n",
              "OUT027   3444468\n",
              "OUT035   2268123\n",
              "OUT049   2183970\n",
              "OUT017   2167465\n",
              "OUT013   2142664\n",
              "OUT046   2118395\n",
              "OUT045   2036725\n",
              "OUT018   1851823\n",
              "OUT010    188340\n",
              "OUT019    179574\n",
              "Name: Item_Outlet_Sales, dtype: float64"
            ]
          },
          "metadata": {},
          "execution_count": 30
        }
      ]
    },
    {
      "cell_type": "markdown",
      "source": [
        "A continuación, se generará una serie de histogramas para estudiar la distribución de las distintas variables."
      ],
      "metadata": {
        "id": "TJeDp2kr5NVq"
      }
    },
    {
      "cell_type": "code",
      "source": [
        "fig1 = plt.figure(figsize=(15,12))\n",
        "ax1 = fig1.add_subplot(2,2,1)\n",
        "plt.grid(axis=\"y\", color = \"grey\", alpha = 0.5)\n",
        "ax2 = fig1.add_subplot(2,2,2)\n",
        "plt.grid(axis=\"y\",color = \"grey\", alpha = 0.5)\n",
        "ax3 = fig1.add_subplot(2,2,3)\n",
        "plt.grid(axis=\"y\", color = \"grey\", alpha = 0.5)\n",
        "ax4 = fig1.add_subplot(2,2,4)\n",
        "plt.grid(axis=\"y\", color = \"grey\", alpha = 0.5)\n",
        "\n",
        "ax1.hist(df[\"Item_Outlet_Sales\"].values, bins = 10,color= \"lightpink\", alpha = 0.5, edgecolor = \"palevioletred\")\n",
        "ax2.hist(df[\"Item_MRP\"].values, bins = 10, color = \"moccasin\", alpha = 0.5, edgecolor = \"tan\")\n",
        "ax3.hist(df[\"Item_Visibility\"].values, bins = 10,color= \"lightpink\", alpha = 0.5, edgecolor = \"palevioletred\")\n",
        "ax4.hist(df[\"Item_Weight\"].values, bins = 10, color = \"moccasin\", alpha = 0.5, edgecolor = \"tan\")\n",
        "\n",
        "\n",
        "ax1.set_xlabel(\"Ventas\")\n",
        "ax1.set_ylabel(\"Cantidad de Productos\")\n",
        "ax1.set_title(\"Ventas\")\n",
        "\n",
        "ax2.set_xlabel(\"Precio Máximo de Venta\")\n",
        "ax2.set_ylabel(\"Cantidad de Productos\")\n",
        "ax2.set_title(\"Precio Máximo por producto\")\n",
        "\n",
        "ax3.set_xlabel(\"Visibilidad\")\n",
        "ax3.set_ylabel(\"Cantidad de Productos\")\n",
        "ax3.set_title(\"Visibilidad de los Productos\")\n",
        "\n",
        "ax4.set_xlabel(\"Peso\")\n",
        "ax4.set_ylabel(\"Cantidad de Productos\")\n",
        "ax4.set_title(\"Peso de los Productos\")\n",
        "\n",
        "\n",
        "plt.show()\n"
      ],
      "metadata": {
        "colab": {
          "base_uri": "https://localhost:8080/",
          "height": 730
        },
        "id": "IHU2ReLGRCd_",
        "outputId": "7619e32a-957f-4666-9f42-886eb28591bd"
      },
      "execution_count": 31,
      "outputs": [
        {
          "output_type": "display_data",
          "data": {
            "text/plain": [
              "<Figure size 1080x864 with 4 Axes>"
            ],
            "image/png": "[encoded data removed]"
          },
          "metadata": {
            "needs_background": "light"
          }
        }
      ]
    },
    {
      "cell_type": "markdown",
      "source": [
        "Adicionalmente, se creará un filtro por outlet para graficar las ventas de cada uno en un gráfico de caja\n"
      ],
      "metadata": {
        "id": "PAdix7c_x2Cz"
      }
    },
    {
      "cell_type": "code",
      "source": [
        "#Primero se crea un arreglo que almacena los nombres de los outlets\n",
        "arreglo_filtros = df[\"Outlet_Identifier\"].unique()\n",
        "type(arreglo_filtros)"
      ],
      "metadata": {
        "colab": {
          "base_uri": "https://localhost:8080/"
        },
        "id": "tV_57ISNyC6B",
        "outputId": "fe5f3688-bcc5-4405-ac42-e2657f24d837"
      },
      "execution_count": 32,
      "outputs": [
        {
          "output_type": "execute_result",
          "data": {
            "text/plain": [
              "numpy.ndarray"
            ]
          },
          "metadata": {},
          "execution_count": 32
        }
      ]
    },
    {
      "cell_type": "code",
      "source": [
        "#Se utiliza un for para crear un arreglo que almacene los filtros que se van a utilizar\n",
        "largo = len(arreglo_filtros)\n",
        "outlet = np.empty(shape = 10).astype(object)\n",
        "filtro = np.empty(shape=10).astype(object)\n",
        "for i in range (0, largo):\n",
        "  filtro[i] = df[\"Outlet_Identifier\"]==arreglo_filtros[i]"
      ],
      "metadata": {
        "id": "iRxQcEBGyyMB"
      },
      "execution_count": 33,
      "outputs": []
    },
    {
      "cell_type": "code",
      "source": [
        "#Se crea un dataframe con las ventas para cada uno de los outlets\n",
        "outlet1 = df.loc[filtro[0],'Item_Outlet_Sales']\n",
        "outlet2 = df.loc[filtro[1],'Item_Outlet_Sales']\n",
        "outlet3 = df.loc[filtro[2],'Item_Outlet_Sales']\n",
        "outlet4 = df.loc[filtro[3],'Item_Outlet_Sales']\n",
        "outlet5 = df.loc[filtro[4],'Item_Outlet_Sales']\n",
        "outlet6 = df.loc[filtro[5],'Item_Outlet_Sales']\n",
        "outlet7 = df.loc[filtro[6],'Item_Outlet_Sales']\n",
        "outlet8 = df.loc[filtro[7],'Item_Outlet_Sales']\n",
        "outlet9 = df.loc[filtro[8],'Item_Outlet_Sales']\n",
        "outlet10 = df.loc[filtro[9],'Item_Outlet_Sales']\n",
        "\n",
        "#Se crean los labels que se usarán en el gráfico\n",
        "outlettext1=arreglo_filtros[0]\n",
        "outlettext2=arreglo_filtros[1]\n",
        "outlettext3=arreglo_filtros[2]\n",
        "outlettext4=arreglo_filtros[3]\n",
        "outlettext5=arreglo_filtros[4]\n",
        "outlettext6=arreglo_filtros[5]\n",
        "outlettext7=arreglo_filtros[6]\n",
        "outlettext8=arreglo_filtros[7]\n",
        "outlettext9=arreglo_filtros[8]\n",
        "outlettext10=arreglo_filtros[9]"
      ],
      "metadata": {
        "id": "316KCo5h5UmT"
      },
      "execution_count": 34,
      "outputs": []
    },
    {
      "cell_type": "code",
      "source": [
        "#A continuación se crea un boxplot que tiene la información de ventas para cada uno de los outlets\n",
        "fig, axes = plt.subplots(1,1, figsize = (17,10));\n",
        "boxplots = axes.boxplot([outlet1,outlet2,outlet3,outlet4,outlet5,outlet6,outlet7,outlet8,outlet9, outlet10],\n",
        "           notch = True,\n",
        "           labels=[outlettext1,outlettext2,outlettext3,outlettext4,outlettext5,outlettext6,outlettext7,outlettext8,outlettext9, outlettext10],\n",
        "           widths = 0.7,\n",
        "           patch_artist=True,\n",
        "           medianprops = dict(linestyle='--', linewidth=2, color='red'),\n",
        "           boxprops = dict(linestyle='--', linewidth=1, color='Black', facecolor = 'bisque')\n",
        "          );\n",
        "\n",
        "#Modificación de colores\n",
        "boxplot1 = boxplots['boxes'][0];\n",
        "boxplot1.set_facecolor('antiquewhite'); #Esto le cambia el color al primer gráfico\n",
        "boxplot2 = boxplots['boxes'][1];\n",
        "boxplot2.set_facecolor('burlywood'); #Esto le cambia el color al segundo gráfico\n",
        "boxplot3 = boxplots['boxes'][2];\n",
        "boxplot3.set_facecolor('lightcoral'); #Esto le cambia el color al tercer gráfico\n",
        "boxplot4 = boxplots['boxes'][3];\n",
        "boxplot4.set_facecolor('mistyrose'); #Esto le cambia el color al cuarto gráfico\n",
        "boxplot5 = boxplots['boxes'][4];\n",
        "boxplot5.set_facecolor('peachpuff'); #Esto le cambia el color al quinto gráfico\n",
        "boxplot6 = boxplots['boxes'][5];\n",
        "boxplot6.set_facecolor('lightskyblue'); #Esto le cambia el color al sexto gráfico\n",
        "boxplot7 = boxplots['boxes'][6];\n",
        "boxplot7.set_facecolor('paleturquoise'); #Esto le cambia el color al séptimo gráfico\n",
        "boxplot8 = boxplots['boxes'][7];\n",
        "boxplot8.set_facecolor('lavender'); #Esto le cambia el color al octavo gráfico\n",
        "boxplot9 = boxplots['boxes'][8];\n",
        "boxplot9.set_facecolor('lavender'); #Esto le cambia el color al noveno gráfico\n",
        "boxplot10 = boxplots['boxes'][9];\n",
        "boxplot10.set_facecolor('lavender'); #Esto le cambia el color al noveno gráfico\n",
        "np.warnings.filterwarnings('ignore', category=np.VisibleDeprecationWarning) \n",
        "\n",
        "plt.title(\"Descripción estadística de ventas por outlet\", fontsize = 20)\n",
        "plt.ylabel('Ventas', fontsize = 15);\n",
        "plt.xticks(fontsize = 15, rotation = 45);\n",
        "plt.xlabel(\"Outlet\")\n",
        "plt.yticks(fontsize = 8);\n",
        "plt.grid(axis=\"y\", color =  \"grey\", alpha = 0.5);\n",
        "plt.show();"
      ],
      "metadata": {
        "colab": {
          "base_uri": "https://localhost:8080/",
          "height": 671
        },
        "id": "VS-UnAYd5JyM",
        "outputId": "a90c6a11-1755-4568-cd72-5468029e31a5"
      },
      "execution_count": 88,
      "outputs": [
        {
          "output_type": "display_data",
          "data": {
            "text/plain": [
              "<Figure size 1224x720 with 1 Axes>"
            ],
            "image/png": "[encoded data removed]"
          },
          "metadata": {
            "needs_background": "light"
          }
        }
      ]
    },
    {
      "cell_type": "markdown",
      "source": [
        "A continuación se crea una visualización con el total de ventas por outlet. Para esto se genera un nuevo dataframe utilizando un groupby, este nuevo df almacena el valor del total de ventas para cada uno de los outlets."
      ],
      "metadata": {
        "id": "aOyfORtTBCHR"
      }
    },
    {
      "cell_type": "code",
      "source": [
        "#Creación nuevo df\n",
        "dfn = df.groupby(\"Outlet_Identifier\")[\"Item_Outlet_Sales\"].sum().reset_index()\n",
        "dfn"
      ],
      "metadata": {
        "colab": {
          "base_uri": "https://localhost:8080/",
          "height": 363
        },
        "id": "8_MvBUVQ-_vR",
        "outputId": "13385f52-cbfd-4954-9102-eb78b1e0e440"
      },
      "execution_count": 36,
      "outputs": [
        {
          "output_type": "execute_result",
          "data": {
            "text/plain": [
              "  Outlet_Identifier  Item_Outlet_Sales\n",
              "0            OUT010             188340\n",
              "1            OUT013            2142664\n",
              "2            OUT017            2167465\n",
              "3            OUT018            1851823\n",
              "4            OUT019             179574\n",
              "5            OUT027            3444468\n",
              "6            OUT035            2268123\n",
              "7            OUT045            2036725\n",
              "8            OUT046            2118395\n",
              "9            OUT049            2183970"
            ],
            "text/html": [
              "\n",
              "  <div id=\"df-156aa47d-2334-4c90-a872-e32d245100f6\">\n",
              "    <div class=\"colab-df-container\">\n",
              "      <div>\n",
              "<style scoped>\n",
              "    .dataframe tbody tr th:only-of-type {\n",
              "        vertical-align: middle;\n",
              "    }\n",
              "\n",
              "    .dataframe tbody tr th {\n",
              "        vertical-align: top;\n",
              "    }\n",
              "\n",
              "    .dataframe thead th {\n",
              "        text-align: right;\n",
              "    }\n",
              "</style>\n",
              "<table border=\"1\" class=\"dataframe\">\n",
              "  <thead>\n",
              "    <tr style=\"text-align: right;\">\n",
              "      <th></th>\n",
              "      <th>Outlet_Identifier</th>\n",
              "      <th>Item_Outlet_Sales</th>\n",
              "    </tr>\n",
              "  </thead>\n",
              "  <tbody>\n",
              "    <tr>\n",
              "      <th>0</th>\n",
              "      <td>OUT010</td>\n",
              "      <td>188340</td>\n",
              "    </tr>\n",
              "    <tr>\n",
              "      <th>1</th>\n",
              "      <td>OUT013</td>\n",
              "      <td>2142664</td>\n",
              "    </tr>\n",
              "    <tr>\n",
              "      <th>2</th>\n",
              "      <td>OUT017</td>\n",
              "      <td>2167465</td>\n",
              "    </tr>\n",
              "    <tr>\n",
              "      <th>3</th>\n",
              "      <td>OUT018</td>\n",
              "      <td>1851823</td>\n",
              "    </tr>\n",
              "    <tr>\n",
              "      <th>4</th>\n",
              "      <td>OUT019</td>\n",
              "      <td>179574</td>\n",
              "    </tr>\n",
              "    <tr>\n",
              "      <th>5</th>\n",
              "      <td>OUT027</td>\n",
              "      <td>3444468</td>\n",
              "    </tr>\n",
              "    <tr>\n",
              "      <th>6</th>\n",
              "      <td>OUT035</td>\n",
              "      <td>2268123</td>\n",
              "    </tr>\n",
              "    <tr>\n",
              "      <th>7</th>\n",
              "      <td>OUT045</td>\n",
              "      <td>2036725</td>\n",
              "    </tr>\n",
              "    <tr>\n",
              "      <th>8</th>\n",
              "      <td>OUT046</td>\n",
              "      <td>2118395</td>\n",
              "    </tr>\n",
              "    <tr>\n",
              "      <th>9</th>\n",
              "      <td>OUT049</td>\n",
              "      <td>2183970</td>\n",
              "    </tr>\n",
              "  </tbody>\n",
              "</table>\n",
              "</div>\n",
              "      <button class=\"colab-df-convert\" onclick=\"convertToInteractive('df-156aa47d-2334-4c90-a872-e32d245100f6')\"\n",
              "              title=\"Convert this dataframe to an interactive table.\"\n",
              "              style=\"display:none;\">\n",
              "        \n",
              "  <svg xmlns=\"http://www.w3.org/2000/svg\" height=\"24px\"viewBox=\"0 0 24 24\"\n",
              "       width=\"24px\">\n",
              "    <path d=\"M0 0h24v24H0V0z\" fill=\"none\"/>\n",
              "    <path d=\"M18.56 5.44l.94 2.06.94-2.06 2.06-.94-2.06-.94-.94-2.06-.94 2.06-2.06.94zm-11 1L8.5 8.5l.94-2.06 2.06-.94-2.06-.94L8.5 2.5l-.94 2.06-2.06.94zm10 10l.94 2.06.94-2.06 2.06-.94-2.06-.94-.94-2.06-.94 2.06-2.06.94z\"/><path d=\"M17.41 7.96l-1.37-1.37c-.4-.4-.92-.59-1.43-.59-.52 0-1.04.2-1.43.59L10.3 9.45l-7.72 7.72c-.78.78-.78 2.05 0 2.83L4 21.41c.39.39.9.59 1.41.59.51 0 1.02-.2 1.41-.59l7.78-7.78 2.81-2.81c.8-.78.8-2.07 0-2.86zM5.41 20L4 18.59l7.72-7.72 1.47 1.35L5.41 20z\"/>\n",
              "  </svg>\n",
              "      </button>\n",
              "      \n",
              "  <style>\n",
              "    .colab-df-container {\n",
              "      display:flex;\n",
              "      flex-wrap:wrap;\n",
              "      gap: 12px;\n",
              "    }\n",
              "\n",
              "    .colab-df-convert {\n",
              "      background-color: #E8F0FE;\n",
              "      border: none;\n",
              "      border-radius: 50%;\n",
              "      cursor: pointer;\n",
              "      display: none;\n",
              "      fill: #1967D2;\n",
              "      height: 32px;\n",
              "      padding: 0 0 0 0;\n",
              "      width: 32px;\n",
              "    }\n",
              "\n",
              "    .colab-df-convert:hover {\n",
              "      background-color: #E2EBFA;\n",
              "      box-shadow: 0px 1px 2px rgba(60, 64, 67, 0.3), 0px 1px 3px 1px rgba(60, 64, 67, 0.15);\n",
              "      fill: #174EA6;\n",
              "    }\n",
              "\n",
              "    [theme=dark] .colab-df-convert {\n",
              "      background-color: #3B4455;\n",
              "      fill: #D2E3FC;\n",
              "    }\n",
              "\n",
              "    [theme=dark] .colab-df-convert:hover {\n",
              "      background-color: #434B5C;\n",
              "      box-shadow: 0px 1px 3px 1px rgba(0, 0, 0, 0.15);\n",
              "      filter: drop-shadow(0px 1px 2px rgba(0, 0, 0, 0.3));\n",
              "      fill: #FFFFFF;\n",
              "    }\n",
              "  </style>\n",
              "\n",
              "      <script>\n",
              "        const buttonEl =\n",
              "          document.querySelector('#df-156aa47d-2334-4c90-a872-e32d245100f6 button.colab-df-convert');\n",
              "        buttonEl.style.display =\n",
              "          google.colab.kernel.accessAllowed ? 'block' : 'none';\n",
              "\n",
              "        async function convertToInteractive(key) {\n",
              "          const element = document.querySelector('#df-156aa47d-2334-4c90-a872-e32d245100f6');\n",
              "          const dataTable =\n",
              "            await google.colab.kernel.invokeFunction('convertToInteractive',\n",
              "                                                     [key], {});\n",
              "          if (!dataTable) return;\n",
              "\n",
              "          const docLinkHtml = 'Like what you see? Visit the ' +\n",
              "            '<a target=\"_blank\" href=https://colab.research.google.com/notebooks/data_table.ipynb>data table notebook</a>'\n",
              "            + ' to learn more about interactive tables.';\n",
              "          element.innerHTML = '';\n",
              "          dataTable['output_type'] = 'display_data';\n",
              "          await google.colab.output.renderOutput(dataTable, element);\n",
              "          const docLink = document.createElement('div');\n",
              "          docLink.innerHTML = docLinkHtml;\n",
              "          element.appendChild(docLink);\n",
              "        }\n",
              "      </script>\n",
              "    </div>\n",
              "  </div>\n",
              "  "
            ]
          },
          "metadata": {},
          "execution_count": 36
        }
      ]
    },
    {
      "cell_type": "code",
      "source": [
        "data = dfn[\"Item_Outlet_Sales\"] #Se utiliza la columna del dataframe recién creado\n",
        "fig2 = plt.figure(figsize=(10,10), facecolor=\"whitesmoke\") #Creación de la figura\n",
        "ax1 = fig2.add_subplot(1,1,1) #Se agrega el gráfico a la figura recientemente creada\n",
        "labels = [dfn.loc[0,\"Outlet_Identifier\"], dfn.loc[1,\"Outlet_Identifier\"], dfn.loc[2,\"Outlet_Identifier\"], dfn.loc[3,\"Outlet_Identifier\"],dfn.loc[4,\"Outlet_Identifier\"],dfn.loc[5,\"Outlet_Identifier\"],\n",
        "         dfn.loc[6,\"Outlet_Identifier\"],dfn.loc[7,\"Outlet_Identifier\"],dfn.loc[8,\"Outlet_Identifier\"],dfn.loc[9,\"Outlet_Identifier\"]] #Se agregan los labels del gráfico\n",
        "colors = sns.color_palette(\"Paired\") #Se define la paleta de colores a utilizar \n",
        "ax1.pie(data, labels=labels,colors = colors, autopct = '%0.00f%%', wedgeprops = {'linewidth': 4})  #Se crea el gráfico\n",
        "ax1.axis(\"equal\") #Se asegura que los valores sumen 100%\n",
        "ax1.set_title(\"Porcentaje de ventas por outlet\", fontsize = 20, pad = 40) #Título del gráfico\n",
        "plt.show()"
      ],
      "metadata": {
        "colab": {
          "base_uri": "https://localhost:8080/",
          "height": 632
        },
        "id": "-KghKb13_WgY",
        "outputId": "5f8479cb-d6f9-46fc-e328-4339aea8ea2e"
      },
      "execution_count": 37,
      "outputs": [
        {
          "output_type": "display_data",
          "data": {
            "text/plain": [
              "<Figure size 720x720 with 1 Axes>"
            ],
            "image/png": "[encoded data removed]"
          },
          "metadata": {}
        }
      ]
    },
    {
      "cell_type": "markdown",
      "source": [
        "Adicionalmente, se creará una gráfica que permita observar la relación existente entre el tipo de outlet y la cantidad de ventas. Para esto se crea un arreglo con los tipos de outlet y otro con las ventas para cada uno"
      ],
      "metadata": {
        "id": "2ab0qawKfOBJ"
      }
    },
    {
      "cell_type": "code",
      "source": [
        "pd.options.display.float_format = '{:.0f}'.format #Línea que formatea la salida de datos, para evitar la notación científica\n",
        "ventas = df.groupby(\"Outlet_Type\")[\"Item_Outlet_Sales\"].sum()\n",
        "tipo_outlet = df.groupby(\"Outlet_Type\")[\"Item_Outlet_Sales\"].sum().index"
      ],
      "metadata": {
        "id": "K7uF4pJyfN54"
      },
      "execution_count": 38,
      "outputs": []
    },
    {
      "cell_type": "code",
      "source": [
        "fig3 = plt.figure(figsize = (10,6), dpi = 100);\n",
        "plt.ticklabel_format(useOffset=False, style='plain'); #Para sacar la notación científica\n",
        "\n",
        "def add_value_label(x_list,y_list):\n",
        "    for i in range(1, len(x_list)+1):\n",
        "        plt.annotate(round(y_list[i-1]/1000),(i-1,y_list[i-1]/1000+300),ha =\"center\",\n",
        "                     bbox=dict(boxstyle=\"round\", fc=\"w\"))\n",
        "\n",
        "\n",
        "plt.bar(tipo_outlet, ventas/1000, label = \"Ventas totales\", color =\"mediumaquamarine\", width=0.3);\n",
        "add_value_label(tipo_outlet, ventas)\n",
        "\n",
        "plt.grid(axis=\"y\", color = \"grey\", alpha = 0.5)\n",
        "plt.ylim(top = 14000000/1000);\n",
        "plt.title(\"Ventas (M $USD) por tipo de outlet\");\n",
        "plt.ylabel(\"Ventas (M $USD)\");"
      ],
      "metadata": {
        "colab": {
          "base_uri": "https://localhost:8080/",
          "height": 536
        },
        "id": "pW0253WLfNcX",
        "outputId": "d34e6246-2d62-4583-f65f-ad59f3554e0d"
      },
      "execution_count": 39,
      "outputs": [
        {
          "output_type": "display_data",
          "data": {
            "text/plain": [
              "<Figure size 1000x600 with 1 Axes>"
            ],
            "image/png": "[encoded data removed]"
          },
          "metadata": {
            "needs_background": "light"
          }
        }
      ]
    },
    {
      "cell_type": "markdown",
      "source": [
        "Finalmente, se crearán visualizaciones que permitan dimensionar la relación entre las ventas y el tipo de item.\n",
        "\n",
        "La primera visualización utiliza la librería seaborn. Creando un gráfico de barras con el valor medio de ventas y los respectivos intervalos de confianza del 95%"
      ],
      "metadata": {
        "id": "cU1SMG9sp9-c"
      }
    },
    {
      "cell_type": "code",
      "source": [
        "plt.figure(figsize = (15,8));\n",
        "\n",
        "ax = sns.barplot(x=\"Item_Type\", y='Item_Outlet_Sales', data=df);\n",
        "\n",
        "\n",
        "plt.xticks(rotation = 45)\n",
        "plt.xlabel(\"Tipo de Item\", fontsize = 15)\n",
        "plt.ylabel(\"Ventas (USD)\", fontsize = 15)\n",
        "plt.title(\"Ventas por tipo de Item\", fontsize = 20, fontweight = \"bold\")\n",
        "plt.grid(axis=\"y\", color = \"grey\", alpha = 0.5)\n",
        "plt.show()"
      ],
      "metadata": {
        "colab": {
          "base_uri": "https://localhost:8080/",
          "height": 596
        },
        "id": "Oorn7O3TtpY-",
        "outputId": "cc1402ae-8969-4a09-e119-342ddcd93a74"
      },
      "execution_count": 40,
      "outputs": [
        {
          "output_type": "display_data",
          "data": {
            "text/plain": [
              "<Figure size 1080x576 with 1 Axes>"
            ],
            "image/png": "[encoded data removed]"
          },
          "metadata": {
            "needs_background": "light"
          }
        }
      ]
    },
    {
      "cell_type": "markdown",
      "source": [
        "A continuación, se crea una visualización con las ventas totales por tipo de ítem, para esto se crean dos arreglos."
      ],
      "metadata": {
        "id": "a0gyjI7fxG2l"
      }
    },
    {
      "cell_type": "code",
      "source": [
        "ventas2 = df.groupby(\"Item_Type\")[\"Item_Outlet_Sales\"].sum()/1000  #Arreglo que almacena las ventas totales (partidas por mil) según tipo de ítem\n",
        "tipos =  df.groupby(\"Item_Type\")[\"Item_Outlet_Sales\"].sum().index #Arreglo que almacena los nombres de los tipos"
      ],
      "metadata": {
        "id": "jN6Q_x41t3SG"
      },
      "execution_count": 41,
      "outputs": []
    },
    {
      "cell_type": "code",
      "source": [
        "fig5 = plt.figure(figsize = (10,6), dpi = 100);\n",
        "plt.ticklabel_format(useOffset=False, style='plain'); #Para sacar la notación científica\n",
        "\n",
        "def add_value_label(x_list,y_list):\n",
        "    for i in range(1, len(x_list)+1):\n",
        "        plt.annotate(round(y_list[i-1]),(i-1,y_list[i-1]+80),ha =\"center\",\n",
        "                     bbox=dict(boxstyle=\"round\", fc=\"w\"))\n",
        "\n",
        "\n",
        "plt.bar(tipos, ventas2, label = \"Ventas totales\", color =\"mediumaquamarine\", width=0.3);\n",
        "add_value_label(tipos, ventas2)\n",
        "\n",
        "plt.xticks(rotation = 45)\n",
        "plt.grid(axis=\"y\", color = \"grey\", alpha = 0.5)\n",
        "plt.ylim(top = 3500);\n",
        "plt.title(\"Ventas (M $USD) por tipo de item\");\n",
        "plt.ylabel(\"Ventas (M $USD)\");\n",
        "plt.show();"
      ],
      "metadata": {
        "colab": {
          "base_uri": "https://localhost:8080/",
          "height": 637
        },
        "id": "v4vAFt_-v8Yp",
        "outputId": "cc88b22f-ab1a-4754-8304-e2f148849d45"
      },
      "execution_count": 42,
      "outputs": [
        {
          "output_type": "display_data",
          "data": {
            "text/plain": [
              "<Figure size 1000x600 with 1 Axes>"
            ],
            "image/png": "[encoded data removed]"
          },
          "metadata": {
            "needs_background": "light"
          }
        }
      ]
    },
    {
      "cell_type": "markdown",
      "source": [
        "#Preparación modelo de Regresión\n",
        "En esta quinta parte del proyecto se busca realizar lo siguiente:\n",
        "\n",
        "\n",
        "*   Identificar la **mátriz de características (X)** y el **vector objetivo (y)**. Asignar la columna **\"Item_Outlet_sales\"** como el objetivo y el resto de variables relevantes como la matriz característica.\n",
        "*   Realizar un **Train Test Split**.\n",
        "*   Crear un pipeline de preprocesamiento que prepare el conjunto de datos para el aprendizaje automático. \n"
      ],
      "metadata": {
        "id": "gukXpuyKeaon"
      }
    },
    {
      "cell_type": "code",
      "source": [
        "#Se revisan las variables que contiene el dataset\n",
        "df.info()"
      ],
      "metadata": {
        "colab": {
          "base_uri": "https://localhost:8080/"
        },
        "id": "BF57YiD-fGiC",
        "outputId": "d4e2c5e2-f51c-4cdf-827b-0e3caa225656"
      },
      "execution_count": 43,
      "outputs": [
        {
          "output_type": "stream",
          "name": "stdout",
          "text": [
            "<class 'pandas.core.frame.DataFrame'>\n",
            "Int64Index: 8519 entries, 0 to 8522\n",
            "Data columns (total 12 columns):\n",
            " #   Column                     Non-Null Count  Dtype  \n",
            "---  ------                     --------------  -----  \n",
            " 0   Item_Identifier            8519 non-null   object \n",
            " 1   Item_Weight                8519 non-null   float64\n",
            " 2   Item_Fat_Content           8519 non-null   object \n",
            " 3   Item_Visibility            8519 non-null   float64\n",
            " 4   Item_Type                  8519 non-null   object \n",
            " 5   Item_MRP                   8519 non-null   float64\n",
            " 6   Outlet_Identifier          8519 non-null   object \n",
            " 7   Outlet_Establishment_Year  8519 non-null   int64  \n",
            " 8   Outlet_Size                8519 non-null   object \n",
            " 9   Outlet_Location_Type       8519 non-null   object \n",
            " 10  Outlet_Type                8519 non-null   object \n",
            " 11  Item_Outlet_Sales          8519 non-null   float64\n",
            "dtypes: float64(4), int64(1), object(7)\n",
            "memory usage: 1.1+ MB\n"
          ]
        }
      ]
    },
    {
      "cell_type": "markdown",
      "source": [
        "Se revisan las columnas tipo object para analizar a qué tipo de variable corresponden y si van a ser incluidas en el modelo."
      ],
      "metadata": {
        "id": "uxCTfz_KfZff"
      }
    },
    {
      "cell_type": "code",
      "source": [
        "#La columna Item Identifier es un identificador de los productos. La información que puede entregar esta columna es redundante, por lo que se decide no incluirla\n",
        "#en el modelo\n",
        "df[\"Item_Identifier\"].value_counts()"
      ],
      "metadata": {
        "colab": {
          "base_uri": "https://localhost:8080/"
        },
        "id": "_BzQ7SpIfJb9",
        "outputId": "83300c9b-2e20-4791-8c1a-e153bfac897a"
      },
      "execution_count": 44,
      "outputs": [
        {
          "output_type": "execute_result",
          "data": {
            "text/plain": [
              "FDG33    10\n",
              "FDW13    10\n",
              "FDV60     9\n",
              "FDU12     9\n",
              "FDX20     9\n",
              "         ..\n",
              "DRF48     1\n",
              "FDY43     1\n",
              "FDC23     1\n",
              "FDO33     1\n",
              "FDT35     1\n",
              "Name: Item_Identifier, Length: 1555, dtype: int64"
            ]
          },
          "metadata": {},
          "execution_count": 44
        }
      ]
    },
    {
      "cell_type": "code",
      "source": [
        "df.drop(columns = \"Item_Identifier\", inplace = True)"
      ],
      "metadata": {
        "id": "9eui29rEprEr"
      },
      "execution_count": 45,
      "outputs": []
    },
    {
      "cell_type": "code",
      "source": [
        "#Corresponde a una variable ordinal, debe ser modificada antes de hacer el train test split\n",
        "df[\"Item_Fat_Content\"].value_counts()"
      ],
      "metadata": {
        "colab": {
          "base_uri": "https://localhost:8080/"
        },
        "id": "Y-URhLcUfREA",
        "outputId": "2750c943-6599-43b4-9d0a-7ab5684c0f77"
      },
      "execution_count": 46,
      "outputs": [
        {
          "output_type": "execute_result",
          "data": {
            "text/plain": [
              "Low Fat    5516\n",
              "Regular    3003\n",
              "Name: Item_Fat_Content, dtype: int64"
            ]
          },
          "metadata": {},
          "execution_count": 46
        }
      ]
    },
    {
      "cell_type": "code",
      "source": [
        "#Se reemplaza la variable categórica por los valores 0 y 1\n",
        "df[\"Item_Fat_Content\"].replace({\"Low Fat\":0, \"Regular\":1}, inplace = True)\n",
        "df[\"Item_Fat_Content\"].value_counts()"
      ],
      "metadata": {
        "colab": {
          "base_uri": "https://localhost:8080/"
        },
        "id": "oUP19H_5gTXy",
        "outputId": "86a9034f-568c-45fc-ae0d-e571159d2e6c"
      },
      "execution_count": 47,
      "outputs": [
        {
          "output_type": "execute_result",
          "data": {
            "text/plain": [
              "0    5516\n",
              "1    3003\n",
              "Name: Item_Fat_Content, dtype: int64"
            ]
          },
          "metadata": {},
          "execution_count": 47
        }
      ]
    },
    {
      "cell_type": "code",
      "source": [
        "#Item Type corresponde a una categoría nominal, por lo que se le debe realizar un one hot encoder\n",
        "df[\"Item_Type\"].value_counts()"
      ],
      "metadata": {
        "colab": {
          "base_uri": "https://localhost:8080/"
        },
        "id": "MD6B3UOAhRAh",
        "outputId": "3da953e4-d3fd-4801-d476-5de12816eaf0"
      },
      "execution_count": 48,
      "outputs": [
        {
          "output_type": "execute_result",
          "data": {
            "text/plain": [
              "Fruits and Vegetables    1232\n",
              "Snack Foods              1199\n",
              "Household                 910\n",
              "Frozen Foods              855\n",
              "Dairy                     681\n",
              "Canned                    649\n",
              "Baking Goods              647\n",
              "Health and Hygiene        520\n",
              "Soft Drinks               445\n",
              "Meat                      425\n",
              "Breads                    251\n",
              "Hard Drinks               214\n",
              "Others                    169\n",
              "Starchy Foods             148\n",
              "Breakfast                 110\n",
              "Seafood                    64\n",
              "Name: Item_Type, dtype: int64"
            ]
          },
          "metadata": {},
          "execution_count": 48
        }
      ]
    },
    {
      "cell_type": "code",
      "source": [
        "#Outlet Identifier corresponde a una categoría nominal, por lo que se le debe realizar un one hot encoder\n",
        "df[\"Outlet_Identifier\"].value_counts()"
      ],
      "metadata": {
        "colab": {
          "base_uri": "https://localhost:8080/"
        },
        "id": "modI49HYhU1w",
        "outputId": "1902c80e-91f7-4a2f-c388-067ff2936cf3"
      },
      "execution_count": 49,
      "outputs": [
        {
          "output_type": "execute_result",
          "data": {
            "text/plain": [
              "OUT013    932\n",
              "OUT027    932\n",
              "OUT049    930\n",
              "OUT046    930\n",
              "OUT035    930\n",
              "OUT045    929\n",
              "OUT018    928\n",
              "OUT017    926\n",
              "OUT010    555\n",
              "OUT019    527\n",
              "Name: Outlet_Identifier, dtype: int64"
            ]
          },
          "metadata": {},
          "execution_count": 49
        }
      ]
    },
    {
      "cell_type": "code",
      "source": [
        "#Corresponde a una variable ordinal, debe ser modificada antes de hacer el train test split\n",
        "df[\"Outlet_Size\"].value_counts()"
      ],
      "metadata": {
        "colab": {
          "base_uri": "https://localhost:8080/"
        },
        "id": "681n_IPhhh3R",
        "outputId": "d4fb40ac-6b76-4193-98d3-1778b2d9782d"
      },
      "execution_count": 50,
      "outputs": [
        {
          "output_type": "execute_result",
          "data": {
            "text/plain": [
              "Small     4797\n",
              "Medium    2790\n",
              "High       932\n",
              "Name: Outlet_Size, dtype: int64"
            ]
          },
          "metadata": {},
          "execution_count": 50
        }
      ]
    },
    {
      "cell_type": "code",
      "source": [
        "#Se reemplaza la variable categórica por los valores 0, 1 y 2\n",
        "df[\"Outlet_Size\"].replace({\"Small\":0, \"Medium\":1, \"High\":2}, inplace = True)\n",
        "df[\"Outlet_Size\"].value_counts()"
      ],
      "metadata": {
        "colab": {
          "base_uri": "https://localhost:8080/"
        },
        "id": "Vs2G81j6hqCZ",
        "outputId": "1caadba5-b3f2-4351-fb36-fb5223014071"
      },
      "execution_count": 51,
      "outputs": [
        {
          "output_type": "execute_result",
          "data": {
            "text/plain": [
              "0    4797\n",
              "1    2790\n",
              "2     932\n",
              "Name: Outlet_Size, dtype: int64"
            ]
          },
          "metadata": {},
          "execution_count": 51
        }
      ]
    },
    {
      "cell_type": "code",
      "source": [
        "#Corresponde a una variable ordinal, debe ser modificada antes de hacer el train test split\n",
        "df[\"Outlet_Location_Type\"].value_counts()"
      ],
      "metadata": {
        "colab": {
          "base_uri": "https://localhost:8080/"
        },
        "id": "s5cnXFHWh3XP",
        "outputId": "1651c9b6-f533-4337-be4b-f6d217421e9c"
      },
      "execution_count": 52,
      "outputs": [
        {
          "output_type": "execute_result",
          "data": {
            "text/plain": [
              "Tier 3    3347\n",
              "Tier 2    2785\n",
              "Tier 1    2387\n",
              "Name: Outlet_Location_Type, dtype: int64"
            ]
          },
          "metadata": {},
          "execution_count": 52
        }
      ]
    },
    {
      "cell_type": "code",
      "source": [
        "#Se reemplaza la variable categórica por los valores 0, 1 y 2\n",
        "df[\"Outlet_Size\"].replace({\"Tier 1\":0, \"Tier 2\":1, \"Tier 3\":2}, inplace = True)\n",
        "df[\"Outlet_Size\"].value_counts()"
      ],
      "metadata": {
        "colab": {
          "base_uri": "https://localhost:8080/"
        },
        "id": "c0A8Vmp9h9wA",
        "outputId": "e03db90d-718a-4bab-a9e1-f8343583ac18"
      },
      "execution_count": 53,
      "outputs": [
        {
          "output_type": "execute_result",
          "data": {
            "text/plain": [
              "0    4797\n",
              "1    2790\n",
              "2     932\n",
              "Name: Outlet_Size, dtype: int64"
            ]
          },
          "metadata": {},
          "execution_count": 53
        }
      ]
    },
    {
      "cell_type": "code",
      "source": [
        "#Corresponde a una variable ordinal, debe ser modificada antes de hacer el train test split\n",
        "df[\"Outlet_Type\"].value_counts()"
      ],
      "metadata": {
        "colab": {
          "base_uri": "https://localhost:8080/"
        },
        "id": "x5TNy-TNiGCx",
        "outputId": "2d48bbc3-4e8e-46bf-d67d-e2c72fade636"
      },
      "execution_count": 54,
      "outputs": [
        {
          "output_type": "execute_result",
          "data": {
            "text/plain": [
              "Supermarket Type1    5577\n",
              "Grocery Store        1082\n",
              "Supermarket Type3     932\n",
              "Supermarket Type2     928\n",
              "Name: Outlet_Type, dtype: int64"
            ]
          },
          "metadata": {},
          "execution_count": 54
        }
      ]
    },
    {
      "cell_type": "code",
      "source": [
        "#Se reemplaza la variable categórica por los valores 0, 1, 2 y 3\n",
        "df[\"Outlet_Type\"].replace({\"Grocery Store\":0, \"Supermarket Type1\":1, \"Supermarket Type2\":2, \"Supermarket Type3\": 3}, inplace = True)\n",
        "df[\"Outlet_Type\"].value_counts()"
      ],
      "metadata": {
        "colab": {
          "base_uri": "https://localhost:8080/"
        },
        "id": "NlICsSB7iNCI",
        "outputId": "025e3cbd-43b4-47ca-95b2-bbf197c935f1"
      },
      "execution_count": 55,
      "outputs": [
        {
          "output_type": "execute_result",
          "data": {
            "text/plain": [
              "1    5577\n",
              "0    1082\n",
              "3     932\n",
              "2     928\n",
              "Name: Outlet_Type, dtype: int64"
            ]
          },
          "metadata": {},
          "execution_count": 55
        }
      ]
    },
    {
      "cell_type": "code",
      "source": [
        "#Corresponde a una variable ordinal, debe ser modificada antes de hacer el train test split\n",
        "df[\"Outlet_Location_Type\"].value_counts()"
      ],
      "metadata": {
        "colab": {
          "base_uri": "https://localhost:8080/"
        },
        "id": "beZj5FLHq4kp",
        "outputId": "18c14a9d-80c1-4142-9bf3-859a8b806243"
      },
      "execution_count": 56,
      "outputs": [
        {
          "output_type": "execute_result",
          "data": {
            "text/plain": [
              "Tier 3    3347\n",
              "Tier 2    2785\n",
              "Tier 1    2387\n",
              "Name: Outlet_Location_Type, dtype: int64"
            ]
          },
          "metadata": {},
          "execution_count": 56
        }
      ]
    },
    {
      "cell_type": "code",
      "source": [
        "#Se reemplaza la variable categórica por los valores 0, 1 y 2.\n",
        "df[\"Outlet_Location_Type\"].replace({\"Tier 1\":0, \"Tier 2\":1, \"Tier 3\":2}, inplace = True)\n",
        "df[\"Outlet_Location_Type\"].value_counts()"
      ],
      "metadata": {
        "colab": {
          "base_uri": "https://localhost:8080/"
        },
        "id": "d_TJCFb6q8bG",
        "outputId": "14550499-9717-49fb-8d02-8b5ca87eb078"
      },
      "execution_count": 57,
      "outputs": [
        {
          "output_type": "execute_result",
          "data": {
            "text/plain": [
              "2    3347\n",
              "1    2785\n",
              "0    2387\n",
              "Name: Outlet_Location_Type, dtype: int64"
            ]
          },
          "metadata": {},
          "execution_count": 57
        }
      ]
    },
    {
      "cell_type": "markdown",
      "source": [
        "Finalmente, se tiene que:\n",
        "\n",
        "\n",
        "*   Las variables **Item_Fat_Content, Outlet_Size, Outlet_Location_Type, Outlet_Size, Outlet_Type y Outlet_Location_Type** corresponden a características nominales que ya fueron tratadas.\n",
        "*   La variable **Item_Type** y **Outlet_Identifier** corresponden categoría nominal, por lo que se debe aplicar un one hot encoder\n",
        "*   La variable **Item_Identifier** no entrega información útil, por lo que se deja afuera del modelo. \n",
        "*   El resto de las variables corresponden al tipo numérico y deben ser escaladas.\n",
        "\n"
      ],
      "metadata": {
        "id": "uJvQjs_WjXWb"
      }
    },
    {
      "cell_type": "markdown",
      "source": [
        "#Test de validación\n",
        "Para la aplicación del test se define la matriz de características **(X)** y el vector objetivo **(y)**."
      ],
      "metadata": {
        "id": "u6G7KJSkqRse"
      }
    },
    {
      "cell_type": "code",
      "source": [
        "X = df.drop(columns = \"Item_Outlet_Sales\")\n",
        "y = df[\"Item_Outlet_Sales\"]\n",
        "X"
      ],
      "metadata": {
        "colab": {
          "base_uri": "https://localhost:8080/",
          "height": 423
        },
        "id": "t0wY-x-ciccE",
        "outputId": "b4f295fa-6617-4a41-8e57-4596373453c8"
      },
      "execution_count": 58,
      "outputs": [
        {
          "output_type": "execute_result",
          "data": {
            "text/plain": [
              "      Item_Weight  Item_Fat_Content  Item_Visibility              Item_Type  \\\n",
              "0               9                 0                0                  Dairy   \n",
              "1               6                 1                0            Soft Drinks   \n",
              "2              18                 0                0                   Meat   \n",
              "3              19                 1                0  Fruits and Vegetables   \n",
              "4               9                 0                0              Household   \n",
              "...           ...               ...              ...                    ...   \n",
              "8518            7                 0                0            Snack Foods   \n",
              "8519            8                 1                0           Baking Goods   \n",
              "8520           11                 0                0     Health and Hygiene   \n",
              "8521            7                 1                0            Snack Foods   \n",
              "8522           15                 0                0            Soft Drinks   \n",
              "\n",
              "      Item_MRP Outlet_Identifier  Outlet_Establishment_Year  Outlet_Size  \\\n",
              "0          250            OUT049                       1999            1   \n",
              "1           48            OUT018                       2009            1   \n",
              "2          142            OUT049                       1999            1   \n",
              "3          182            OUT010                       1998            0   \n",
              "4           54            OUT013                       1987            2   \n",
              "...        ...               ...                        ...          ...   \n",
              "8518       215            OUT013                       1987            2   \n",
              "8519       108            OUT045                       2002            0   \n",
              "8520        85            OUT035                       2004            0   \n",
              "8521       103            OUT018                       2009            1   \n",
              "8522        75            OUT046                       1997            0   \n",
              "\n",
              "      Outlet_Location_Type  Outlet_Type  \n",
              "0                        0            1  \n",
              "1                        2            2  \n",
              "2                        0            1  \n",
              "3                        2            0  \n",
              "4                        2            1  \n",
              "...                    ...          ...  \n",
              "8518                     2            1  \n",
              "8519                     1            1  \n",
              "8520                     1            1  \n",
              "8521                     2            2  \n",
              "8522                     0            1  \n",
              "\n",
              "[8519 rows x 10 columns]"
            ],
            "text/html": [
              "\n",
              "  <div id=\"df-ebd785e0-e21f-473b-9e85-3ab19efaae21\">\n",
              "    <div class=\"colab-df-container\">\n",
              "      <div>\n",
              "<style scoped>\n",
              "    .dataframe tbody tr th:only-of-type {\n",
              "        vertical-align: middle;\n",
              "    }\n",
              "\n",
              "    .dataframe tbody tr th {\n",
              "        vertical-align: top;\n",
              "    }\n",
              "\n",
              "    .dataframe thead th {\n",
              "        text-align: right;\n",
              "    }\n",
              "</style>\n",
              "<table border=\"1\" class=\"dataframe\">\n",
              "  <thead>\n",
              "    <tr style=\"text-align: right;\">\n",
              "      <th></th>\n",
              "      <th>Item_Weight</th>\n",
              "      <th>Item_Fat_Content</th>\n",
              "      <th>Item_Visibility</th>\n",
              "      <th>Item_Type</th>\n",
              "      <th>Item_MRP</th>\n",
              "      <th>Outlet_Identifier</th>\n",
              "      <th>Outlet_Establishment_Year</th>\n",
              "      <th>Outlet_Size</th>\n",
              "      <th>Outlet_Location_Type</th>\n",
              "      <th>Outlet_Type</th>\n",
              "    </tr>\n",
              "  </thead>\n",
              "  <tbody>\n",
              "    <tr>\n",
              "      <th>0</th>\n",
              "      <td>9</td>\n",
              "      <td>0</td>\n",
              "      <td>0</td>\n",
              "      <td>Dairy</td>\n",
              "      <td>250</td>\n",
              "      <td>OUT049</td>\n",
              "      <td>1999</td>\n",
              "      <td>1</td>\n",
              "      <td>0</td>\n",
              "      <td>1</td>\n",
              "    </tr>\n",
              "    <tr>\n",
              "      <th>1</th>\n",
              "      <td>6</td>\n",
              "      <td>1</td>\n",
              "      <td>0</td>\n",
              "      <td>Soft Drinks</td>\n",
              "      <td>48</td>\n",
              "      <td>OUT018</td>\n",
              "      <td>2009</td>\n",
              "      <td>1</td>\n",
              "      <td>2</td>\n",
              "      <td>2</td>\n",
              "    </tr>\n",
              "    <tr>\n",
              "      <th>2</th>\n",
              "      <td>18</td>\n",
              "      <td>0</td>\n",
              "      <td>0</td>\n",
              "      <td>Meat</td>\n",
              "      <td>142</td>\n",
              "      <td>OUT049</td>\n",
              "      <td>1999</td>\n",
              "      <td>1</td>\n",
              "      <td>0</td>\n",
              "      <td>1</td>\n",
              "    </tr>\n",
              "    <tr>\n",
              "      <th>3</th>\n",
              "      <td>19</td>\n",
              "      <td>1</td>\n",
              "      <td>0</td>\n",
              "      <td>Fruits and Vegetables</td>\n",
              "      <td>182</td>\n",
              "      <td>OUT010</td>\n",
              "      <td>1998</td>\n",
              "      <td>0</td>\n",
              "      <td>2</td>\n",
              "      <td>0</td>\n",
              "    </tr>\n",
              "    <tr>\n",
              "      <th>4</th>\n",
              "      <td>9</td>\n",
              "      <td>0</td>\n",
              "      <td>0</td>\n",
              "      <td>Household</td>\n",
              "      <td>54</td>\n",
              "      <td>OUT013</td>\n",
              "      <td>1987</td>\n",
              "      <td>2</td>\n",
              "      <td>2</td>\n",
              "      <td>1</td>\n",
              "    </tr>\n",
              "    <tr>\n",
              "      <th>...</th>\n",
              "      <td>...</td>\n",
              "      <td>...</td>\n",
              "      <td>...</td>\n",
              "      <td>...</td>\n",
              "      <td>...</td>\n",
              "      <td>...</td>\n",
              "      <td>...</td>\n",
              "      <td>...</td>\n",
              "      <td>...</td>\n",
              "      <td>...</td>\n",
              "    </tr>\n",
              "    <tr>\n",
              "      <th>8518</th>\n",
              "      <td>7</td>\n",
              "      <td>0</td>\n",
              "      <td>0</td>\n",
              "      <td>Snack Foods</td>\n",
              "      <td>215</td>\n",
              "      <td>OUT013</td>\n",
              "      <td>1987</td>\n",
              "      <td>2</td>\n",
              "      <td>2</td>\n",
              "      <td>1</td>\n",
              "    </tr>\n",
              "    <tr>\n",
              "      <th>8519</th>\n",
              "      <td>8</td>\n",
              "      <td>1</td>\n",
              "      <td>0</td>\n",
              "      <td>Baking Goods</td>\n",
              "      <td>108</td>\n",
              "      <td>OUT045</td>\n",
              "      <td>2002</td>\n",
              "      <td>0</td>\n",
              "      <td>1</td>\n",
              "      <td>1</td>\n",
              "    </tr>\n",
              "    <tr>\n",
              "      <th>8520</th>\n",
              "      <td>11</td>\n",
              "      <td>0</td>\n",
              "      <td>0</td>\n",
              "      <td>Health and Hygiene</td>\n",
              "      <td>85</td>\n",
              "      <td>OUT035</td>\n",
              "      <td>2004</td>\n",
              "      <td>0</td>\n",
              "      <td>1</td>\n",
              "      <td>1</td>\n",
              "    </tr>\n",
              "    <tr>\n",
              "      <th>8521</th>\n",
              "      <td>7</td>\n",
              "      <td>1</td>\n",
              "      <td>0</td>\n",
              "      <td>Snack Foods</td>\n",
              "      <td>103</td>\n",
              "      <td>OUT018</td>\n",
              "      <td>2009</td>\n",
              "      <td>1</td>\n",
              "      <td>2</td>\n",
              "      <td>2</td>\n",
              "    </tr>\n",
              "    <tr>\n",
              "      <th>8522</th>\n",
              "      <td>15</td>\n",
              "      <td>0</td>\n",
              "      <td>0</td>\n",
              "      <td>Soft Drinks</td>\n",
              "      <td>75</td>\n",
              "      <td>OUT046</td>\n",
              "      <td>1997</td>\n",
              "      <td>0</td>\n",
              "      <td>0</td>\n",
              "      <td>1</td>\n",
              "    </tr>\n",
              "  </tbody>\n",
              "</table>\n",
              "<p>8519 rows × 10 columns</p>\n",
              "</div>\n",
              "      <button class=\"colab-df-convert\" onclick=\"convertToInteractive('df-ebd785e0-e21f-473b-9e85-3ab19efaae21')\"\n",
              "              title=\"Convert this dataframe to an interactive table.\"\n",
              "              style=\"display:none;\">\n",
              "        \n",
              "  <svg xmlns=\"http://www.w3.org/2000/svg\" height=\"24px\"viewBox=\"0 0 24 24\"\n",
              "       width=\"24px\">\n",
              "    <path d=\"M0 0h24v24H0V0z\" fill=\"none\"/>\n",
              "    <path d=\"M18.56 5.44l.94 2.06.94-2.06 2.06-.94-2.06-.94-.94-2.06-.94 2.06-2.06.94zm-11 1L8.5 8.5l.94-2.06 2.06-.94-2.06-.94L8.5 2.5l-.94 2.06-2.06.94zm10 10l.94 2.06.94-2.06 2.06-.94-2.06-.94-.94-2.06-.94 2.06-2.06.94z\"/><path d=\"M17.41 7.96l-1.37-1.37c-.4-.4-.92-.59-1.43-.59-.52 0-1.04.2-1.43.59L10.3 9.45l-7.72 7.72c-.78.78-.78 2.05 0 2.83L4 21.41c.39.39.9.59 1.41.59.51 0 1.02-.2 1.41-.59l7.78-7.78 2.81-2.81c.8-.78.8-2.07 0-2.86zM5.41 20L4 18.59l7.72-7.72 1.47 1.35L5.41 20z\"/>\n",
              "  </svg>\n",
              "      </button>\n",
              "      \n",
              "  <style>\n",
              "    .colab-df-container {\n",
              "      display:flex;\n",
              "      flex-wrap:wrap;\n",
              "      gap: 12px;\n",
              "    }\n",
              "\n",
              "    .colab-df-convert {\n",
              "      background-color: #E8F0FE;\n",
              "      border: none;\n",
              "      border-radius: 50%;\n",
              "      cursor: pointer;\n",
              "      display: none;\n",
              "      fill: #1967D2;\n",
              "      height: 32px;\n",
              "      padding: 0 0 0 0;\n",
              "      width: 32px;\n",
              "    }\n",
              "\n",
              "    .colab-df-convert:hover {\n",
              "      background-color: #E2EBFA;\n",
              "      box-shadow: 0px 1px 2px rgba(60, 64, 67, 0.3), 0px 1px 3px 1px rgba(60, 64, 67, 0.15);\n",
              "      fill: #174EA6;\n",
              "    }\n",
              "\n",
              "    [theme=dark] .colab-df-convert {\n",
              "      background-color: #3B4455;\n",
              "      fill: #D2E3FC;\n",
              "    }\n",
              "\n",
              "    [theme=dark] .colab-df-convert:hover {\n",
              "      background-color: #434B5C;\n",
              "      box-shadow: 0px 1px 3px 1px rgba(0, 0, 0, 0.15);\n",
              "      filter: drop-shadow(0px 1px 2px rgba(0, 0, 0, 0.3));\n",
              "      fill: #FFFFFF;\n",
              "    }\n",
              "  </style>\n",
              "\n",
              "      <script>\n",
              "        const buttonEl =\n",
              "          document.querySelector('#df-ebd785e0-e21f-473b-9e85-3ab19efaae21 button.colab-df-convert');\n",
              "        buttonEl.style.display =\n",
              "          google.colab.kernel.accessAllowed ? 'block' : 'none';\n",
              "\n",
              "        async function convertToInteractive(key) {\n",
              "          const element = document.querySelector('#df-ebd785e0-e21f-473b-9e85-3ab19efaae21');\n",
              "          const dataTable =\n",
              "            await google.colab.kernel.invokeFunction('convertToInteractive',\n",
              "                                                     [key], {});\n",
              "          if (!dataTable) return;\n",
              "\n",
              "          const docLinkHtml = 'Like what you see? Visit the ' +\n",
              "            '<a target=\"_blank\" href=https://colab.research.google.com/notebooks/data_table.ipynb>data table notebook</a>'\n",
              "            + ' to learn more about interactive tables.';\n",
              "          element.innerHTML = '';\n",
              "          dataTable['output_type'] = 'display_data';\n",
              "          await google.colab.output.renderOutput(dataTable, element);\n",
              "          const docLink = document.createElement('div');\n",
              "          docLink.innerHTML = docLinkHtml;\n",
              "          element.appendChild(docLink);\n",
              "        }\n",
              "      </script>\n",
              "    </div>\n",
              "  </div>\n",
              "  "
            ]
          },
          "metadata": {},
          "execution_count": 58
        }
      ]
    },
    {
      "cell_type": "code",
      "source": [
        "#Liberías necesarias \n",
        "from sklearn.preprocessing import StandardScaler, OneHotEncoder\n",
        "from sklearn.impute import SimpleImputer\n",
        "from sklearn.compose import make_column_transformer, make_column_selector\n",
        "from sklearn.pipeline import make_pipeline\n",
        "from sklearn.model_selection import train_test_split\n",
        "from sklearn import set_config\n",
        "set_config(display='diagram')"
      ],
      "metadata": {
        "id": "d8A98eCGrnHC"
      },
      "execution_count": 59,
      "outputs": []
    },
    {
      "cell_type": "code",
      "source": [
        "#Train test split\n",
        "X_train, X_test, y_train, y_test = train_test_split(X, y, random_state = 42)"
      ],
      "metadata": {
        "id": "4agP9THqqmqR"
      },
      "execution_count": 74,
      "outputs": []
    },
    {
      "cell_type": "markdown",
      "source": [
        "#Preprocesamiento\n",
        "Debido a que los datos fueron previamente tratados, no es necesario la implementación de un pipeline, basta con la utilización de un ColumnTransformer que escale las variables numéricas y le aplique un one hot encoder a las variables categóricas."
      ],
      "metadata": {
        "id": "zoOePZzTr85R"
      }
    },
    {
      "cell_type": "code",
      "source": [
        "# Instanciación de selectores de columna\n",
        "num_selector = make_column_selector(dtype_include = \"number\")\n",
        "cat_selector = make_column_selector(dtype_include = \"object\")"
      ],
      "metadata": {
        "id": "xnkDFDdTr5Qe"
      },
      "execution_count": 61,
      "outputs": []
    },
    {
      "cell_type": "code",
      "source": [
        "num_selector(X_train)"
      ],
      "metadata": {
        "colab": {
          "base_uri": "https://localhost:8080/"
        },
        "id": "oolqhwQpuXHI",
        "outputId": "da164ec7-bbc3-4d26-8556-907c4f1235d8"
      },
      "execution_count": 62,
      "outputs": [
        {
          "output_type": "execute_result",
          "data": {
            "text/plain": [
              "['Item_Weight',\n",
              " 'Item_Fat_Content',\n",
              " 'Item_Visibility',\n",
              " 'Item_MRP',\n",
              " 'Outlet_Establishment_Year',\n",
              " 'Outlet_Size',\n",
              " 'Outlet_Location_Type',\n",
              " 'Outlet_Type']"
            ]
          },
          "metadata": {},
          "execution_count": 62
        }
      ]
    },
    {
      "cell_type": "code",
      "source": [
        "#Instanciación de transformadores\n",
        "#Scaler\n",
        "scaler = StandardScaler()\n",
        "#One hot encoder\n",
        "ohe = OneHotEncoder(handle_unknown=\"ignore\", sparse = False)"
      ],
      "metadata": {
        "id": "cddjNr7esNwd"
      },
      "execution_count": 63,
      "outputs": []
    },
    {
      "cell_type": "code",
      "source": [
        "#Instanciación de ColumnTransformer\n",
        "#Creación de las tuplas\n",
        "num_tuple = (scaler, num_selector)\n",
        "cat_tuple = (ohe, cat_selector)\n",
        "\n",
        "preprocessor = make_column_transformer(num_tuple, cat_tuple)\n",
        "preprocessor"
      ],
      "metadata": {
        "colab": {
          "base_uri": "https://localhost:8080/",
          "height": 118
        },
        "id": "b0yJuscHtFE8",
        "outputId": "4324bf86-dd9b-4de3-bc30-a3c8334327ad"
      },
      "execution_count": 64,
      "outputs": [
        {
          "output_type": "execute_result",
          "data": {
            "text/plain": [
              "ColumnTransformer(transformers=[('standardscaler', StandardScaler(),\n",
              "                                 <sklearn.compose._column_transformer.make_column_selector object at 0x7f7cbef0d730>),\n",
              "                                ('onehotencoder',\n",
              "                                 OneHotEncoder(handle_unknown='ignore',\n",
              "                                               sparse=False),\n",
              "                                 <sklearn.compose._column_transformer.make_column_selector object at 0x7f7cbef0d9d0>)])"
            ],
            "text/html": [
              "<style>#sk-ef9b3f11-98eb-48ea-9d96-14f3560b25ea {color: black;background-color: white;}#sk-ef9b3f11-98eb-48ea-9d96-14f3560b25ea pre{padding: 0;}#sk-ef9b3f11-98eb-48ea-9d96-14f3560b25ea div.sk-toggleable {background-color: white;}#sk-ef9b3f11-98eb-48ea-9d96-14f3560b25ea label.sk-toggleable__label {cursor: pointer;display: block;width: 100%;margin-bottom: 0;padding: 0.3em;box-sizing: border-box;text-align: center;}#sk-ef9b3f11-98eb-48ea-9d96-14f3560b25ea label.sk-toggleable__label-arrow:before {content: \"▸\";float: left;margin-right: 0.25em;color: #696969;}#sk-ef9b3f11-98eb-48ea-9d96-14f3560b25ea label.sk-toggleable__label-arrow:hover:before {color: black;}#sk-ef9b3f11-98eb-48ea-9d96-14f3560b25ea div.sk-estimator:hover label.sk-toggleable__label-arrow:before {color: black;}#sk-ef9b3f11-98eb-48ea-9d96-14f3560b25ea div.sk-toggleable__content {max-height: 0;max-width: 0;overflow: hidden;text-align: left;background-color: #f0f8ff;}#sk-ef9b3f11-98eb-48ea-9d96-14f3560b25ea div.sk-toggleable__content pre {margin: 0.2em;color: black;border-radius: 0.25em;background-color: #f0f8ff;}#sk-ef9b3f11-98eb-48ea-9d96-14f3560b25ea input.sk-toggleable__control:checked~div.sk-toggleable__content {max-height: 200px;max-width: 100%;overflow: auto;}#sk-ef9b3f11-98eb-48ea-9d96-14f3560b25ea input.sk-toggleable__control:checked~label.sk-toggleable__label-arrow:before {content: \"▾\";}#sk-ef9b3f11-98eb-48ea-9d96-14f3560b25ea div.sk-estimator input.sk-toggleable__control:checked~label.sk-toggleable__label {background-color: #d4ebff;}#sk-ef9b3f11-98eb-48ea-9d96-14f3560b25ea div.sk-label input.sk-toggleable__control:checked~label.sk-toggleable__label {background-color: #d4ebff;}#sk-ef9b3f11-98eb-48ea-9d96-14f3560b25ea input.sk-hidden--visually {border: 0;clip: rect(1px 1px 1px 1px);clip: rect(1px, 1px, 1px, 1px);height: 1px;margin: -1px;overflow: hidden;padding: 0;position: absolute;width: 1px;}#sk-ef9b3f11-98eb-48ea-9d96-14f3560b25ea div.sk-estimator {font-family: monospace;background-color: #f0f8ff;border: 1px dotted black;border-radius: 0.25em;box-sizing: border-box;margin-bottom: 0.5em;}#sk-ef9b3f11-98eb-48ea-9d96-14f3560b25ea div.sk-estimator:hover {background-color: #d4ebff;}#sk-ef9b3f11-98eb-48ea-9d96-14f3560b25ea div.sk-parallel-item::after {content: \"\";width: 100%;border-bottom: 1px solid gray;flex-grow: 1;}#sk-ef9b3f11-98eb-48ea-9d96-14f3560b25ea div.sk-label:hover label.sk-toggleable__label {background-color: #d4ebff;}#sk-ef9b3f11-98eb-48ea-9d96-14f3560b25ea div.sk-serial::before {content: \"\";position: absolute;border-left: 1px solid gray;box-sizing: border-box;top: 2em;bottom: 0;left: 50%;}#sk-ef9b3f11-98eb-48ea-9d96-14f3560b25ea div.sk-serial {display: flex;flex-direction: column;align-items: center;background-color: white;padding-right: 0.2em;padding-left: 0.2em;}#sk-ef9b3f11-98eb-48ea-9d96-14f3560b25ea div.sk-item {z-index: 1;}#sk-ef9b3f11-98eb-48ea-9d96-14f3560b25ea div.sk-parallel {display: flex;align-items: stretch;justify-content: center;background-color: white;}#sk-ef9b3f11-98eb-48ea-9d96-14f3560b25ea div.sk-parallel::before {content: \"\";position: absolute;border-left: 1px solid gray;box-sizing: border-box;top: 2em;bottom: 0;left: 50%;}#sk-ef9b3f11-98eb-48ea-9d96-14f3560b25ea div.sk-parallel-item {display: flex;flex-direction: column;position: relative;background-color: white;}#sk-ef9b3f11-98eb-48ea-9d96-14f3560b25ea div.sk-parallel-item:first-child::after {align-self: flex-end;width: 50%;}#sk-ef9b3f11-98eb-48ea-9d96-14f3560b25ea div.sk-parallel-item:last-child::after {align-self: flex-start;width: 50%;}#sk-ef9b3f11-98eb-48ea-9d96-14f3560b25ea div.sk-parallel-item:only-child::after {width: 0;}#sk-ef9b3f11-98eb-48ea-9d96-14f3560b25ea div.sk-dashed-wrapped {border: 1px dashed gray;margin: 0 0.4em 0.5em 0.4em;box-sizing: border-box;padding-bottom: 0.4em;background-color: white;position: relative;}#sk-ef9b3f11-98eb-48ea-9d96-14f3560b25ea div.sk-label label {font-family: monospace;font-weight: bold;background-color: white;display: inline-block;line-height: 1.2em;}#sk-ef9b3f11-98eb-48ea-9d96-14f3560b25ea div.sk-label-container {position: relative;z-index: 2;text-align: center;}#sk-ef9b3f11-98eb-48ea-9d96-14f3560b25ea div.sk-container {/* jupyter's `normalize.less` sets `[hidden] { display: none; }` but bootstrap.min.css set `[hidden] { display: none !important; }` so we also need the `!important` here to be able to override the default hidden behavior on the sphinx rendered scikit-learn.org. See: https://github.com/scikit-learn/scikit-learn/issues/21755 */display: inline-block !important;position: relative;}#sk-ef9b3f11-98eb-48ea-9d96-14f3560b25ea div.sk-text-repr-fallback {display: none;}</style><div id=\"sk-ef9b3f11-98eb-48ea-9d96-14f3560b25ea\" class=\"sk-top-container\"><div class=\"sk-text-repr-fallback\"><pre>ColumnTransformer(transformers=[(&#x27;standardscaler&#x27;, StandardScaler(),\n",
              "                                 &lt;sklearn.compose._column_transformer.make_column_selector object at 0x7f7cbef0d730&gt;),\n",
              "                                (&#x27;onehotencoder&#x27;,\n",
              "                                 OneHotEncoder(handle_unknown=&#x27;ignore&#x27;,\n",
              "                                               sparse=False),\n",
              "                                 &lt;sklearn.compose._column_transformer.make_column_selector object at 0x7f7cbef0d9d0&gt;)])</pre><b>Please rerun this cell to show the HTML repr or trust the notebook.</b></div><div class=\"sk-container\" hidden><div class=\"sk-item sk-dashed-wrapped\"><div class=\"sk-label-container\"><div class=\"sk-label sk-toggleable\"><input class=\"sk-toggleable__control sk-hidden--visually\" id=\"44a50f8b-59ba-4744-923b-198219ddb5a2\" type=\"checkbox\" ><label for=\"44a50f8b-59ba-4744-923b-198219ddb5a2\" class=\"sk-toggleable__label sk-toggleable__label-arrow\">ColumnTransformer</label><div class=\"sk-toggleable__content\"><pre>ColumnTransformer(transformers=[(&#x27;standardscaler&#x27;, StandardScaler(),\n",
              "                                 &lt;sklearn.compose._column_transformer.make_column_selector object at 0x7f7cbef0d730&gt;),\n",
              "                                (&#x27;onehotencoder&#x27;,\n",
              "                                 OneHotEncoder(handle_unknown=&#x27;ignore&#x27;,\n",
              "                                               sparse=False),\n",
              "                                 &lt;sklearn.compose._column_transformer.make_column_selector object at 0x7f7cbef0d9d0&gt;)])</pre></div></div></div><div class=\"sk-parallel\"><div class=\"sk-parallel-item\"><div class=\"sk-item\"><div class=\"sk-label-container\"><div class=\"sk-label sk-toggleable\"><input class=\"sk-toggleable__control sk-hidden--visually\" id=\"bf98c85e-d56c-409e-87d8-9de3608db82e\" type=\"checkbox\" ><label for=\"bf98c85e-d56c-409e-87d8-9de3608db82e\" class=\"sk-toggleable__label sk-toggleable__label-arrow\">standardscaler</label><div class=\"sk-toggleable__content\"><pre>&lt;sklearn.compose._column_transformer.make_column_selector object at 0x7f7cbef0d730&gt;</pre></div></div></div><div class=\"sk-serial\"><div class=\"sk-item\"><div class=\"sk-estimator sk-toggleable\"><input class=\"sk-toggleable__control sk-hidden--visually\" id=\"d1642be6-ccee-402c-b36b-59ae93c48348\" type=\"checkbox\" ><label for=\"d1642be6-ccee-402c-b36b-59ae93c48348\" class=\"sk-toggleable__label sk-toggleable__label-arrow\">StandardScaler</label><div class=\"sk-toggleable__content\"><pre>StandardScaler()</pre></div></div></div></div></div></div><div class=\"sk-parallel-item\"><div class=\"sk-item\"><div class=\"sk-label-container\"><div class=\"sk-label sk-toggleable\"><input class=\"sk-toggleable__control sk-hidden--visually\" id=\"dd0f035a-539a-451b-8d62-a4c8f7400eeb\" type=\"checkbox\" ><label for=\"dd0f035a-539a-451b-8d62-a4c8f7400eeb\" class=\"sk-toggleable__label sk-toggleable__label-arrow\">onehotencoder</label><div class=\"sk-toggleable__content\"><pre>&lt;sklearn.compose._column_transformer.make_column_selector object at 0x7f7cbef0d9d0&gt;</pre></div></div></div><div class=\"sk-serial\"><div class=\"sk-item\"><div class=\"sk-estimator sk-toggleable\"><input class=\"sk-toggleable__control sk-hidden--visually\" id=\"fba66a8d-6895-421f-b792-fd43b9f48915\" type=\"checkbox\" ><label for=\"fba66a8d-6895-421f-b792-fd43b9f48915\" class=\"sk-toggleable__label sk-toggleable__label-arrow\">OneHotEncoder</label><div class=\"sk-toggleable__content\"><pre>OneHotEncoder(handle_unknown=&#x27;ignore&#x27;, sparse=False)</pre></div></div></div></div></div></div></div></div></div></div>"
            ]
          },
          "metadata": {},
          "execution_count": 64
        }
      ]
    },
    {
      "cell_type": "code",
      "source": [
        "#Ajuste del ColumnTransformer\n",
        "preprocessor.fit(X_train)"
      ],
      "metadata": {
        "colab": {
          "base_uri": "https://localhost:8080/",
          "height": 118
        },
        "id": "HMcr4iPWt9gN",
        "outputId": "9dc985bf-46b3-4ab2-9a53-4a684c5bc53f"
      },
      "execution_count": 65,
      "outputs": [
        {
          "output_type": "execute_result",
          "data": {
            "text/plain": [
              "ColumnTransformer(transformers=[('standardscaler', StandardScaler(),\n",
              "                                 <sklearn.compose._column_transformer.make_column_selector object at 0x7f7cbef0d730>),\n",
              "                                ('onehotencoder',\n",
              "                                 OneHotEncoder(handle_unknown='ignore',\n",
              "                                               sparse=False),\n",
              "                                 <sklearn.compose._column_transformer.make_column_selector object at 0x7f7cbef0d9d0>)])"
            ],
            "text/html": [
              "<style>#sk-8043e953-1e2f-43f2-ba8d-fbd2dc329b34 {color: black;background-color: white;}#sk-8043e953-1e2f-43f2-ba8d-fbd2dc329b34 pre{padding: 0;}#sk-8043e953-1e2f-43f2-ba8d-fbd2dc329b34 div.sk-toggleable {background-color: white;}#sk-8043e953-1e2f-43f2-ba8d-fbd2dc329b34 label.sk-toggleable__label {cursor: pointer;display: block;width: 100%;margin-bottom: 0;padding: 0.3em;box-sizing: border-box;text-align: center;}#sk-8043e953-1e2f-43f2-ba8d-fbd2dc329b34 label.sk-toggleable__label-arrow:before {content: \"▸\";float: left;margin-right: 0.25em;color: #696969;}#sk-8043e953-1e2f-43f2-ba8d-fbd2dc329b34 label.sk-toggleable__label-arrow:hover:before {color: black;}#sk-8043e953-1e2f-43f2-ba8d-fbd2dc329b34 div.sk-estimator:hover label.sk-toggleable__label-arrow:before {color: black;}#sk-8043e953-1e2f-43f2-ba8d-fbd2dc329b34 div.sk-toggleable__content {max-height: 0;max-width: 0;overflow: hidden;text-align: left;background-color: #f0f8ff;}#sk-8043e953-1e2f-43f2-ba8d-fbd2dc329b34 div.sk-toggleable__content pre {margin: 0.2em;color: black;border-radius: 0.25em;background-color: #f0f8ff;}#sk-8043e953-1e2f-43f2-ba8d-fbd2dc329b34 input.sk-toggleable__control:checked~div.sk-toggleable__content {max-height: 200px;max-width: 100%;overflow: auto;}#sk-8043e953-1e2f-43f2-ba8d-fbd2dc329b34 input.sk-toggleable__control:checked~label.sk-toggleable__label-arrow:before {content: \"▾\";}#sk-8043e953-1e2f-43f2-ba8d-fbd2dc329b34 div.sk-estimator input.sk-toggleable__control:checked~label.sk-toggleable__label {background-color: #d4ebff;}#sk-8043e953-1e2f-43f2-ba8d-fbd2dc329b34 div.sk-label input.sk-toggleable__control:checked~label.sk-toggleable__label {background-color: #d4ebff;}#sk-8043e953-1e2f-43f2-ba8d-fbd2dc329b34 input.sk-hidden--visually {border: 0;clip: rect(1px 1px 1px 1px);clip: rect(1px, 1px, 1px, 1px);height: 1px;margin: -1px;overflow: hidden;padding: 0;position: absolute;width: 1px;}#sk-8043e953-1e2f-43f2-ba8d-fbd2dc329b34 div.sk-estimator {font-family: monospace;background-color: #f0f8ff;border: 1px dotted black;border-radius: 0.25em;box-sizing: border-box;margin-bottom: 0.5em;}#sk-8043e953-1e2f-43f2-ba8d-fbd2dc329b34 div.sk-estimator:hover {background-color: #d4ebff;}#sk-8043e953-1e2f-43f2-ba8d-fbd2dc329b34 div.sk-parallel-item::after {content: \"\";width: 100%;border-bottom: 1px solid gray;flex-grow: 1;}#sk-8043e953-1e2f-43f2-ba8d-fbd2dc329b34 div.sk-label:hover label.sk-toggleable__label {background-color: #d4ebff;}#sk-8043e953-1e2f-43f2-ba8d-fbd2dc329b34 div.sk-serial::before {content: \"\";position: absolute;border-left: 1px solid gray;box-sizing: border-box;top: 2em;bottom: 0;left: 50%;}#sk-8043e953-1e2f-43f2-ba8d-fbd2dc329b34 div.sk-serial {display: flex;flex-direction: column;align-items: center;background-color: white;padding-right: 0.2em;padding-left: 0.2em;}#sk-8043e953-1e2f-43f2-ba8d-fbd2dc329b34 div.sk-item {z-index: 1;}#sk-8043e953-1e2f-43f2-ba8d-fbd2dc329b34 div.sk-parallel {display: flex;align-items: stretch;justify-content: center;background-color: white;}#sk-8043e953-1e2f-43f2-ba8d-fbd2dc329b34 div.sk-parallel::before {content: \"\";position: absolute;border-left: 1px solid gray;box-sizing: border-box;top: 2em;bottom: 0;left: 50%;}#sk-8043e953-1e2f-43f2-ba8d-fbd2dc329b34 div.sk-parallel-item {display: flex;flex-direction: column;position: relative;background-color: white;}#sk-8043e953-1e2f-43f2-ba8d-fbd2dc329b34 div.sk-parallel-item:first-child::after {align-self: flex-end;width: 50%;}#sk-8043e953-1e2f-43f2-ba8d-fbd2dc329b34 div.sk-parallel-item:last-child::after {align-self: flex-start;width: 50%;}#sk-8043e953-1e2f-43f2-ba8d-fbd2dc329b34 div.sk-parallel-item:only-child::after {width: 0;}#sk-8043e953-1e2f-43f2-ba8d-fbd2dc329b34 div.sk-dashed-wrapped {border: 1px dashed gray;margin: 0 0.4em 0.5em 0.4em;box-sizing: border-box;padding-bottom: 0.4em;background-color: white;position: relative;}#sk-8043e953-1e2f-43f2-ba8d-fbd2dc329b34 div.sk-label label {font-family: monospace;font-weight: bold;background-color: white;display: inline-block;line-height: 1.2em;}#sk-8043e953-1e2f-43f2-ba8d-fbd2dc329b34 div.sk-label-container {position: relative;z-index: 2;text-align: center;}#sk-8043e953-1e2f-43f2-ba8d-fbd2dc329b34 div.sk-container {/* jupyter's `normalize.less` sets `[hidden] { display: none; }` but bootstrap.min.css set `[hidden] { display: none !important; }` so we also need the `!important` here to be able to override the default hidden behavior on the sphinx rendered scikit-learn.org. See: https://github.com/scikit-learn/scikit-learn/issues/21755 */display: inline-block !important;position: relative;}#sk-8043e953-1e2f-43f2-ba8d-fbd2dc329b34 div.sk-text-repr-fallback {display: none;}</style><div id=\"sk-8043e953-1e2f-43f2-ba8d-fbd2dc329b34\" class=\"sk-top-container\"><div class=\"sk-text-repr-fallback\"><pre>ColumnTransformer(transformers=[(&#x27;standardscaler&#x27;, StandardScaler(),\n",
              "                                 &lt;sklearn.compose._column_transformer.make_column_selector object at 0x7f7cbef0d730&gt;),\n",
              "                                (&#x27;onehotencoder&#x27;,\n",
              "                                 OneHotEncoder(handle_unknown=&#x27;ignore&#x27;,\n",
              "                                               sparse=False),\n",
              "                                 &lt;sklearn.compose._column_transformer.make_column_selector object at 0x7f7cbef0d9d0&gt;)])</pre><b>Please rerun this cell to show the HTML repr or trust the notebook.</b></div><div class=\"sk-container\" hidden><div class=\"sk-item sk-dashed-wrapped\"><div class=\"sk-label-container\"><div class=\"sk-label sk-toggleable\"><input class=\"sk-toggleable__control sk-hidden--visually\" id=\"1208bb83-4f39-4dfe-ab1e-f9123e01015a\" type=\"checkbox\" ><label for=\"1208bb83-4f39-4dfe-ab1e-f9123e01015a\" class=\"sk-toggleable__label sk-toggleable__label-arrow\">ColumnTransformer</label><div class=\"sk-toggleable__content\"><pre>ColumnTransformer(transformers=[(&#x27;standardscaler&#x27;, StandardScaler(),\n",
              "                                 &lt;sklearn.compose._column_transformer.make_column_selector object at 0x7f7cbef0d730&gt;),\n",
              "                                (&#x27;onehotencoder&#x27;,\n",
              "                                 OneHotEncoder(handle_unknown=&#x27;ignore&#x27;,\n",
              "                                               sparse=False),\n",
              "                                 &lt;sklearn.compose._column_transformer.make_column_selector object at 0x7f7cbef0d9d0&gt;)])</pre></div></div></div><div class=\"sk-parallel\"><div class=\"sk-parallel-item\"><div class=\"sk-item\"><div class=\"sk-label-container\"><div class=\"sk-label sk-toggleable\"><input class=\"sk-toggleable__control sk-hidden--visually\" id=\"1d0633b5-9581-4ccd-8d3c-5f2618ec5324\" type=\"checkbox\" ><label for=\"1d0633b5-9581-4ccd-8d3c-5f2618ec5324\" class=\"sk-toggleable__label sk-toggleable__label-arrow\">standardscaler</label><div class=\"sk-toggleable__content\"><pre>&lt;sklearn.compose._column_transformer.make_column_selector object at 0x7f7cbef0d730&gt;</pre></div></div></div><div class=\"sk-serial\"><div class=\"sk-item\"><div class=\"sk-estimator sk-toggleable\"><input class=\"sk-toggleable__control sk-hidden--visually\" id=\"784b06b9-d971-40c8-a2ee-b44105c3de7d\" type=\"checkbox\" ><label for=\"784b06b9-d971-40c8-a2ee-b44105c3de7d\" class=\"sk-toggleable__label sk-toggleable__label-arrow\">StandardScaler</label><div class=\"sk-toggleable__content\"><pre>StandardScaler()</pre></div></div></div></div></div></div><div class=\"sk-parallel-item\"><div class=\"sk-item\"><div class=\"sk-label-container\"><div class=\"sk-label sk-toggleable\"><input class=\"sk-toggleable__control sk-hidden--visually\" id=\"10559f36-e46d-43f4-8e19-10252dc4160b\" type=\"checkbox\" ><label for=\"10559f36-e46d-43f4-8e19-10252dc4160b\" class=\"sk-toggleable__label sk-toggleable__label-arrow\">onehotencoder</label><div class=\"sk-toggleable__content\"><pre>&lt;sklearn.compose._column_transformer.make_column_selector object at 0x7f7cbef0d9d0&gt;</pre></div></div></div><div class=\"sk-serial\"><div class=\"sk-item\"><div class=\"sk-estimator sk-toggleable\"><input class=\"sk-toggleable__control sk-hidden--visually\" id=\"00930364-b120-42c0-bb2c-f05dd8a0076b\" type=\"checkbox\" ><label for=\"00930364-b120-42c0-bb2c-f05dd8a0076b\" class=\"sk-toggleable__label sk-toggleable__label-arrow\">OneHotEncoder</label><div class=\"sk-toggleable__content\"><pre>OneHotEncoder(handle_unknown=&#x27;ignore&#x27;, sparse=False)</pre></div></div></div></div></div></div></div></div></div></div>"
            ]
          },
          "metadata": {},
          "execution_count": 65
        }
      ]
    },
    {
      "cell_type": "code",
      "source": [
        "#A continuación se aplican las transformaciones\n",
        "X_train_procesado = preprocessor.transform(X_train)\n",
        "X_test_procesado = preprocessor.transform(X_test)"
      ],
      "metadata": {
        "id": "P0UwLVvIaSiE"
      },
      "execution_count": 66,
      "outputs": []
    },
    {
      "cell_type": "code",
      "source": [
        "#Revisión de los datos obtenidos\n",
        "print(np.isnan(X_train_procesado).sum().sum(), 'Valores faltantes en los datos de entrenamiento')\n",
        "print(np.isnan(X_test_procesado).sum().sum(), 'Valores faltantes en los datos de testeo')\n",
        "print('\\n')\n",
        "print('Toda la data en X_train_procesado es del tipo', X_train_procesado.dtype)\n",
        "print('Toda la data en X_test_procesado es del tipo', X_test_procesado.dtype)\n",
        "print('\\n')\n",
        "print('La forma de la data es', X_train_procesado.shape)\n",
        "print('\\n')"
      ],
      "metadata": {
        "colab": {
          "base_uri": "https://localhost:8080/"
        },
        "id": "xwL8TV_4a8e8",
        "outputId": "997ff810-2037-4c17-fc69-985c35ef2572"
      },
      "execution_count": 67,
      "outputs": [
        {
          "output_type": "stream",
          "name": "stdout",
          "text": [
            "0 Valores faltantes en los datos de entrenamiento\n",
            "0 Valores faltantes en los datos de testeo\n",
            "\n",
            "\n",
            "Toda la data en X_train_procesado es del tipo float64\n",
            "Toda la data en X_test_procesado es del tipo float64\n",
            "\n",
            "\n",
            "La forma de la data es (6389, 34)\n",
            "\n",
            "\n"
          ]
        }
      ]
    },
    {
      "cell_type": "code",
      "source": [
        "#Creación de dataframes con los datos procesados\n",
        "X_train_df = pd.DataFrame(X_train_procesado)\n",
        "X_test_df = pd.DataFrame(X_test_procesado)\n",
        "X_train_df.head()"
      ],
      "metadata": {
        "colab": {
          "base_uri": "https://localhost:8080/",
          "height": 235
        },
        "id": "zf68mR-bar87",
        "outputId": "e5fe4b74-4794-4fe3-97ea-70dae13e1192"
      },
      "execution_count": 68,
      "outputs": [
        {
          "output_type": "execute_result",
          "data": {
            "text/plain": [
              "   0   1   2   3   4   5   6   7   8   9   ...  24  25  26  27  28  29  30  \\\n",
              "0   1  -1  -1   2   1   1   1   1   0   0  ...   0   0   0   1   0   0   0   \n",
              "1  -0  -1   1  -0  -2  -1  -1  -2   1   0  ...   0   0   0   0   1   0   0   \n",
              "2  -2  -1   0   2   0   1  -1  -0   0   0  ...   0   0   0   0   0   0   0   \n",
              "3  -0  -1   1   1   0  -1  -0  -0   0   0  ...   0   0   0   0   0   0   0   \n",
              "4   0   1  -1  -2   1   1   1   1   0   0  ...   0   0   0   1   0   0   0   \n",
              "\n",
              "   31  32  33  \n",
              "0   0   0   0  \n",
              "1   0   0   0  \n",
              "2   0   0   1  \n",
              "3   1   0   0  \n",
              "4   0   0   0  \n",
              "\n",
              "[5 rows x 34 columns]"
            ],
            "text/html": [
              "\n",
              "  <div id=\"df-86242094-7ca2-41a8-aea5-fba3363bab0c\">\n",
              "    <div class=\"colab-df-container\">\n",
              "      <div>\n",
              "<style scoped>\n",
              "    .dataframe tbody tr th:only-of-type {\n",
              "        vertical-align: middle;\n",
              "    }\n",
              "\n",
              "    .dataframe tbody tr th {\n",
              "        vertical-align: top;\n",
              "    }\n",
              "\n",
              "    .dataframe thead th {\n",
              "        text-align: right;\n",
              "    }\n",
              "</style>\n",
              "<table border=\"1\" class=\"dataframe\">\n",
              "  <thead>\n",
              "    <tr style=\"text-align: right;\">\n",
              "      <th></th>\n",
              "      <th>0</th>\n",
              "      <th>1</th>\n",
              "      <th>2</th>\n",
              "      <th>3</th>\n",
              "      <th>4</th>\n",
              "      <th>5</th>\n",
              "      <th>6</th>\n",
              "      <th>7</th>\n",
              "      <th>8</th>\n",
              "      <th>9</th>\n",
              "      <th>...</th>\n",
              "      <th>24</th>\n",
              "      <th>25</th>\n",
              "      <th>26</th>\n",
              "      <th>27</th>\n",
              "      <th>28</th>\n",
              "      <th>29</th>\n",
              "      <th>30</th>\n",
              "      <th>31</th>\n",
              "      <th>32</th>\n",
              "      <th>33</th>\n",
              "    </tr>\n",
              "  </thead>\n",
              "  <tbody>\n",
              "    <tr>\n",
              "      <th>0</th>\n",
              "      <td>1</td>\n",
              "      <td>-1</td>\n",
              "      <td>-1</td>\n",
              "      <td>2</td>\n",
              "      <td>1</td>\n",
              "      <td>1</td>\n",
              "      <td>1</td>\n",
              "      <td>1</td>\n",
              "      <td>0</td>\n",
              "      <td>0</td>\n",
              "      <td>...</td>\n",
              "      <td>0</td>\n",
              "      <td>0</td>\n",
              "      <td>0</td>\n",
              "      <td>1</td>\n",
              "      <td>0</td>\n",
              "      <td>0</td>\n",
              "      <td>0</td>\n",
              "      <td>0</td>\n",
              "      <td>0</td>\n",
              "      <td>0</td>\n",
              "    </tr>\n",
              "    <tr>\n",
              "      <th>1</th>\n",
              "      <td>-0</td>\n",
              "      <td>-1</td>\n",
              "      <td>1</td>\n",
              "      <td>-0</td>\n",
              "      <td>-2</td>\n",
              "      <td>-1</td>\n",
              "      <td>-1</td>\n",
              "      <td>-2</td>\n",
              "      <td>1</td>\n",
              "      <td>0</td>\n",
              "      <td>...</td>\n",
              "      <td>0</td>\n",
              "      <td>0</td>\n",
              "      <td>0</td>\n",
              "      <td>0</td>\n",
              "      <td>1</td>\n",
              "      <td>0</td>\n",
              "      <td>0</td>\n",
              "      <td>0</td>\n",
              "      <td>0</td>\n",
              "      <td>0</td>\n",
              "    </tr>\n",
              "    <tr>\n",
              "      <th>2</th>\n",
              "      <td>-2</td>\n",
              "      <td>-1</td>\n",
              "      <td>0</td>\n",
              "      <td>2</td>\n",
              "      <td>0</td>\n",
              "      <td>1</td>\n",
              "      <td>-1</td>\n",
              "      <td>-0</td>\n",
              "      <td>0</td>\n",
              "      <td>0</td>\n",
              "      <td>...</td>\n",
              "      <td>0</td>\n",
              "      <td>0</td>\n",
              "      <td>0</td>\n",
              "      <td>0</td>\n",
              "      <td>0</td>\n",
              "      <td>0</td>\n",
              "      <td>0</td>\n",
              "      <td>0</td>\n",
              "      <td>0</td>\n",
              "      <td>1</td>\n",
              "    </tr>\n",
              "    <tr>\n",
              "      <th>3</th>\n",
              "      <td>-0</td>\n",
              "      <td>-1</td>\n",
              "      <td>1</td>\n",
              "      <td>1</td>\n",
              "      <td>0</td>\n",
              "      <td>-1</td>\n",
              "      <td>-0</td>\n",
              "      <td>-0</td>\n",
              "      <td>0</td>\n",
              "      <td>0</td>\n",
              "      <td>...</td>\n",
              "      <td>0</td>\n",
              "      <td>0</td>\n",
              "      <td>0</td>\n",
              "      <td>0</td>\n",
              "      <td>0</td>\n",
              "      <td>0</td>\n",
              "      <td>0</td>\n",
              "      <td>1</td>\n",
              "      <td>0</td>\n",
              "      <td>0</td>\n",
              "    </tr>\n",
              "    <tr>\n",
              "      <th>4</th>\n",
              "      <td>0</td>\n",
              "      <td>1</td>\n",
              "      <td>-1</td>\n",
              "      <td>-2</td>\n",
              "      <td>1</td>\n",
              "      <td>1</td>\n",
              "      <td>1</td>\n",
              "      <td>1</td>\n",
              "      <td>0</td>\n",
              "      <td>0</td>\n",
              "      <td>...</td>\n",
              "      <td>0</td>\n",
              "      <td>0</td>\n",
              "      <td>0</td>\n",
              "      <td>1</td>\n",
              "      <td>0</td>\n",
              "      <td>0</td>\n",
              "      <td>0</td>\n",
              "      <td>0</td>\n",
              "      <td>0</td>\n",
              "      <td>0</td>\n",
              "    </tr>\n",
              "  </tbody>\n",
              "</table>\n",
              "<p>5 rows × 34 columns</p>\n",
              "</div>\n",
              "      <button class=\"colab-df-convert\" onclick=\"convertToInteractive('df-86242094-7ca2-41a8-aea5-fba3363bab0c')\"\n",
              "              title=\"Convert this dataframe to an interactive table.\"\n",
              "              style=\"display:none;\">\n",
              "        \n",
              "  <svg xmlns=\"http://www.w3.org/2000/svg\" height=\"24px\"viewBox=\"0 0 24 24\"\n",
              "       width=\"24px\">\n",
              "    <path d=\"M0 0h24v24H0V0z\" fill=\"none\"/>\n",
              "    <path d=\"M18.56 5.44l.94 2.06.94-2.06 2.06-.94-2.06-.94-.94-2.06-.94 2.06-2.06.94zm-11 1L8.5 8.5l.94-2.06 2.06-.94-2.06-.94L8.5 2.5l-.94 2.06-2.06.94zm10 10l.94 2.06.94-2.06 2.06-.94-2.06-.94-.94-2.06-.94 2.06-2.06.94z\"/><path d=\"M17.41 7.96l-1.37-1.37c-.4-.4-.92-.59-1.43-.59-.52 0-1.04.2-1.43.59L10.3 9.45l-7.72 7.72c-.78.78-.78 2.05 0 2.83L4 21.41c.39.39.9.59 1.41.59.51 0 1.02-.2 1.41-.59l7.78-7.78 2.81-2.81c.8-.78.8-2.07 0-2.86zM5.41 20L4 18.59l7.72-7.72 1.47 1.35L5.41 20z\"/>\n",
              "  </svg>\n",
              "      </button>\n",
              "      \n",
              "  <style>\n",
              "    .colab-df-container {\n",
              "      display:flex;\n",
              "      flex-wrap:wrap;\n",
              "      gap: 12px;\n",
              "    }\n",
              "\n",
              "    .colab-df-convert {\n",
              "      background-color: #E8F0FE;\n",
              "      border: none;\n",
              "      border-radius: 50%;\n",
              "      cursor: pointer;\n",
              "      display: none;\n",
              "      fill: #1967D2;\n",
              "      height: 32px;\n",
              "      padding: 0 0 0 0;\n",
              "      width: 32px;\n",
              "    }\n",
              "\n",
              "    .colab-df-convert:hover {\n",
              "      background-color: #E2EBFA;\n",
              "      box-shadow: 0px 1px 2px rgba(60, 64, 67, 0.3), 0px 1px 3px 1px rgba(60, 64, 67, 0.15);\n",
              "      fill: #174EA6;\n",
              "    }\n",
              "\n",
              "    [theme=dark] .colab-df-convert {\n",
              "      background-color: #3B4455;\n",
              "      fill: #D2E3FC;\n",
              "    }\n",
              "\n",
              "    [theme=dark] .colab-df-convert:hover {\n",
              "      background-color: #434B5C;\n",
              "      box-shadow: 0px 1px 3px 1px rgba(0, 0, 0, 0.15);\n",
              "      filter: drop-shadow(0px 1px 2px rgba(0, 0, 0, 0.3));\n",
              "      fill: #FFFFFF;\n",
              "    }\n",
              "  </style>\n",
              "\n",
              "      <script>\n",
              "        const buttonEl =\n",
              "          document.querySelector('#df-86242094-7ca2-41a8-aea5-fba3363bab0c button.colab-df-convert');\n",
              "        buttonEl.style.display =\n",
              "          google.colab.kernel.accessAllowed ? 'block' : 'none';\n",
              "\n",
              "        async function convertToInteractive(key) {\n",
              "          const element = document.querySelector('#df-86242094-7ca2-41a8-aea5-fba3363bab0c');\n",
              "          const dataTable =\n",
              "            await google.colab.kernel.invokeFunction('convertToInteractive',\n",
              "                                                     [key], {});\n",
              "          if (!dataTable) return;\n",
              "\n",
              "          const docLinkHtml = 'Like what you see? Visit the ' +\n",
              "            '<a target=\"_blank\" href=https://colab.research.google.com/notebooks/data_table.ipynb>data table notebook</a>'\n",
              "            + ' to learn more about interactive tables.';\n",
              "          element.innerHTML = '';\n",
              "          dataTable['output_type'] = 'display_data';\n",
              "          await google.colab.output.renderOutput(dataTable, element);\n",
              "          const docLink = document.createElement('div');\n",
              "          docLink.innerHTML = docLinkHtml;\n",
              "          element.appendChild(docLink);\n",
              "        }\n",
              "      </script>\n",
              "    </div>\n",
              "  </div>\n",
              "  "
            ]
          },
          "metadata": {},
          "execution_count": 68
        }
      ]
    },
    {
      "cell_type": "markdown",
      "source": [
        "# Modelos de Machine Learning"
      ],
      "metadata": {
        "id": "MOXADnS4im3s"
      }
    },
    {
      "cell_type": "markdown",
      "source": [
        "En la presente sección se implementarán dos modelos de Machine Learning (Regresión Lineal y Árbol de Regresión). Posteriormente se evaluarán los modelos mediante distintos parámetros para decidir cual utilizar."
      ],
      "metadata": {
        "id": "sIE0tx-RipDV"
      }
    },
    {
      "cell_type": "code",
      "source": [
        "#Librerías\n",
        "from sklearn.linear_model import LinearRegression\n",
        "from sklearn.tree import DecisionTreeRegressor\n",
        "from sklearn.metrics import r2_score\n",
        "from sklearn.metrics import mean_absolute_error\n",
        "from sklearn.metrics import mean_squared_error"
      ],
      "metadata": {
        "id": "0np0tlA-cERW"
      },
      "execution_count": 78,
      "outputs": []
    },
    {
      "cell_type": "code",
      "source": [
        "#Se instancian los modelos\n",
        "reg = LinearRegression()\n",
        "dec = DecisionTreeRegressor(random_state = 42)"
      ],
      "metadata": {
        "id": "z-Jr6HyTjn0Y"
      },
      "execution_count": 70,
      "outputs": []
    },
    {
      "cell_type": "code",
      "source": [
        "#Se ajustan los modelos\n",
        "reg.fit(X_train_df,y_train)\n",
        "dec.fit(X_train_df, y_train)"
      ],
      "metadata": {
        "colab": {
          "base_uri": "https://localhost:8080/",
          "height": 75
        },
        "id": "96jSSTDUjsP3",
        "outputId": "24086e14-75f6-4ed5-ed5c-42b4b8329e00"
      },
      "execution_count": 71,
      "outputs": [
        {
          "output_type": "execute_result",
          "data": {
            "text/plain": [
              "DecisionTreeRegressor(random_state=42)"
            ],
            "text/html": [
              "<style>#sk-fd76b8a1-96c6-4535-b471-52401f39251b {color: black;background-color: white;}#sk-fd76b8a1-96c6-4535-b471-52401f39251b pre{padding: 0;}#sk-fd76b8a1-96c6-4535-b471-52401f39251b div.sk-toggleable {background-color: white;}#sk-fd76b8a1-96c6-4535-b471-52401f39251b label.sk-toggleable__label {cursor: pointer;display: block;width: 100%;margin-bottom: 0;padding: 0.3em;box-sizing: border-box;text-align: center;}#sk-fd76b8a1-96c6-4535-b471-52401f39251b label.sk-toggleable__label-arrow:before {content: \"▸\";float: left;margin-right: 0.25em;color: #696969;}#sk-fd76b8a1-96c6-4535-b471-52401f39251b label.sk-toggleable__label-arrow:hover:before {color: black;}#sk-fd76b8a1-96c6-4535-b471-52401f39251b div.sk-estimator:hover label.sk-toggleable__label-arrow:before {color: black;}#sk-fd76b8a1-96c6-4535-b471-52401f39251b div.sk-toggleable__content {max-height: 0;max-width: 0;overflow: hidden;text-align: left;background-color: #f0f8ff;}#sk-fd76b8a1-96c6-4535-b471-52401f39251b div.sk-toggleable__content pre {margin: 0.2em;color: black;border-radius: 0.25em;background-color: #f0f8ff;}#sk-fd76b8a1-96c6-4535-b471-52401f39251b input.sk-toggleable__control:checked~div.sk-toggleable__content {max-height: 200px;max-width: 100%;overflow: auto;}#sk-fd76b8a1-96c6-4535-b471-52401f39251b input.sk-toggleable__control:checked~label.sk-toggleable__label-arrow:before {content: \"▾\";}#sk-fd76b8a1-96c6-4535-b471-52401f39251b div.sk-estimator input.sk-toggleable__control:checked~label.sk-toggleable__label {background-color: #d4ebff;}#sk-fd76b8a1-96c6-4535-b471-52401f39251b div.sk-label input.sk-toggleable__control:checked~label.sk-toggleable__label {background-color: #d4ebff;}#sk-fd76b8a1-96c6-4535-b471-52401f39251b input.sk-hidden--visually {border: 0;clip: rect(1px 1px 1px 1px);clip: rect(1px, 1px, 1px, 1px);height: 1px;margin: -1px;overflow: hidden;padding: 0;position: absolute;width: 1px;}#sk-fd76b8a1-96c6-4535-b471-52401f39251b div.sk-estimator {font-family: monospace;background-color: #f0f8ff;border: 1px dotted black;border-radius: 0.25em;box-sizing: border-box;margin-bottom: 0.5em;}#sk-fd76b8a1-96c6-4535-b471-52401f39251b div.sk-estimator:hover {background-color: #d4ebff;}#sk-fd76b8a1-96c6-4535-b471-52401f39251b div.sk-parallel-item::after {content: \"\";width: 100%;border-bottom: 1px solid gray;flex-grow: 1;}#sk-fd76b8a1-96c6-4535-b471-52401f39251b div.sk-label:hover label.sk-toggleable__label {background-color: #d4ebff;}#sk-fd76b8a1-96c6-4535-b471-52401f39251b div.sk-serial::before {content: \"\";position: absolute;border-left: 1px solid gray;box-sizing: border-box;top: 2em;bottom: 0;left: 50%;}#sk-fd76b8a1-96c6-4535-b471-52401f39251b div.sk-serial {display: flex;flex-direction: column;align-items: center;background-color: white;padding-right: 0.2em;padding-left: 0.2em;}#sk-fd76b8a1-96c6-4535-b471-52401f39251b div.sk-item {z-index: 1;}#sk-fd76b8a1-96c6-4535-b471-52401f39251b div.sk-parallel {display: flex;align-items: stretch;justify-content: center;background-color: white;}#sk-fd76b8a1-96c6-4535-b471-52401f39251b div.sk-parallel::before {content: \"\";position: absolute;border-left: 1px solid gray;box-sizing: border-box;top: 2em;bottom: 0;left: 50%;}#sk-fd76b8a1-96c6-4535-b471-52401f39251b div.sk-parallel-item {display: flex;flex-direction: column;position: relative;background-color: white;}#sk-fd76b8a1-96c6-4535-b471-52401f39251b div.sk-parallel-item:first-child::after {align-self: flex-end;width: 50%;}#sk-fd76b8a1-96c6-4535-b471-52401f39251b div.sk-parallel-item:last-child::after {align-self: flex-start;width: 50%;}#sk-fd76b8a1-96c6-4535-b471-52401f39251b div.sk-parallel-item:only-child::after {width: 0;}#sk-fd76b8a1-96c6-4535-b471-52401f39251b div.sk-dashed-wrapped {border: 1px dashed gray;margin: 0 0.4em 0.5em 0.4em;box-sizing: border-box;padding-bottom: 0.4em;background-color: white;position: relative;}#sk-fd76b8a1-96c6-4535-b471-52401f39251b div.sk-label label {font-family: monospace;font-weight: bold;background-color: white;display: inline-block;line-height: 1.2em;}#sk-fd76b8a1-96c6-4535-b471-52401f39251b div.sk-label-container {position: relative;z-index: 2;text-align: center;}#sk-fd76b8a1-96c6-4535-b471-52401f39251b div.sk-container {/* jupyter's `normalize.less` sets `[hidden] { display: none; }` but bootstrap.min.css set `[hidden] { display: none !important; }` so we also need the `!important` here to be able to override the default hidden behavior on the sphinx rendered scikit-learn.org. See: https://github.com/scikit-learn/scikit-learn/issues/21755 */display: inline-block !important;position: relative;}#sk-fd76b8a1-96c6-4535-b471-52401f39251b div.sk-text-repr-fallback {display: none;}</style><div id=\"sk-fd76b8a1-96c6-4535-b471-52401f39251b\" class=\"sk-top-container\"><div class=\"sk-text-repr-fallback\"><pre>DecisionTreeRegressor(random_state=42)</pre><b>Please rerun this cell to show the HTML repr or trust the notebook.</b></div><div class=\"sk-container\" hidden><div class=\"sk-item\"><div class=\"sk-estimator sk-toggleable\"><input class=\"sk-toggleable__control sk-hidden--visually\" id=\"b925624d-5628-4385-b246-75a14b4b556d\" type=\"checkbox\" checked><label for=\"b925624d-5628-4385-b246-75a14b4b556d\" class=\"sk-toggleable__label sk-toggleable__label-arrow\">DecisionTreeRegressor</label><div class=\"sk-toggleable__content\"><pre>DecisionTreeRegressor(random_state=42)</pre></div></div></div></div></div>"
            ]
          },
          "metadata": {},
          "execution_count": 71
        }
      ]
    },
    {
      "cell_type": "markdown",
      "source": [
        "A continuación se evalua el rendimiento de los modelos mediante el score (R2) y el error RECM."
      ],
      "metadata": {
        "id": "KY3osrDEkY36"
      }
    },
    {
      "cell_type": "code",
      "source": [
        "#Obtención de predicciones\n",
        "y_pred_reg_train = reg.predict(X_train_df)\n",
        "y_pred_dec_train = dec.predict(X_train_df)\n",
        "y_pred_reg_test = reg.predict(X_test_df)\n",
        "y_pred_dec_test = dec.predict(X_test_df)\n",
        "\n",
        "#Evaluación de los modelos mediante R2\n",
        "r2_reg_train = reg.score(X_train_df, y_train)\n",
        "r2_reg_test = reg.score(X_test_df, y_test)\n",
        "r2_dec_train = dec.score(X_train_df, y_train)\n",
        "r2_dec_test = dec.score(X_test_df, y_test)\n",
        "r2_train = r2_score(y_train, y_pred_reg_train)\n",
        "\n",
        "print(\"R2 del modelo de regresión lineal con los datos de entrenamiento es:\", r2_reg_train.round(3))\n",
        "print(\"R2 del modelo de árbol de regresión con los datos de entrenamiento es:\", r2_dec_train.round(3))\n",
        "print(\"R2 del modelo de regresión lineal con los datos de testeo es:\", r2_reg_test.round(3))\n",
        "print(\"R2 del modelo de árbol de regresión con los datos de testeo es:\", r2_dec_test.round(3))"
      ],
      "metadata": {
        "colab": {
          "base_uri": "https://localhost:8080/"
        },
        "id": "TerWExQjkPK5",
        "outputId": "a196edfd-f2fe-4816-fb09-6c3746777e22"
      },
      "execution_count": 82,
      "outputs": [
        {
          "output_type": "stream",
          "name": "stdout",
          "text": [
            "R2 del modelo de regresión lineal con los datos de entrenamiento es: 0.565\n",
            "R2 del modelo de árbol de regresión con los datos de entrenamiento es: 1.0\n",
            "R2 del modelo de regresión lineal con los datos de testeo es: 0.559\n",
            "R2 del modelo de árbol de regresión con los datos de testeo es: 0.132\n"
          ]
        }
      ]
    },
    {
      "cell_type": "markdown",
      "source": [
        "De los resultados previamente mostrados se observa que el modelo de regresión lineal tiene un R2 similar para los datos de entrenamiento y testeo. Por otro lado, el modelo de árbol de regresión presenta un R2 muy diferente para los datos de entrenamiento y testeo, mostrando un claro sobreajuste del modelo"
      ],
      "metadata": {
        "id": "A7Z9idoJTBwW"
      }
    },
    {
      "cell_type": "code",
      "source": [
        "#Evaluación de los modelos mediante RECM\n",
        "recm_reg_train = np.sqrt(mean_squared_error(y_train, y_pred_reg_train))\n",
        "recm_reg_test = np.sqrt(mean_squared_error(y_test, y_pred_reg_test))\n",
        "recm_dec_train = np.sqrt(mean_squared_error(y_train, y_pred_dec_train))\n",
        "recm_dec_test = np.sqrt(mean_squared_error(y_test, y_pred_dec_test))\n",
        "print(\"RECM del modelo de regresión lineal con los datos de entrenamiento es:\", recm_reg_train.round(3))\n",
        "print(\"RECM del modelo de árbol de regresión con los datos de entrenamiento es:\", recm_dec_train.round(3))\n",
        "print(\"RECM del modelo de regresión lineal con los datos de testeo es:\", recm_reg_test.round(3))\n",
        "print(\"RECM del modelo de árbol de regresión con los datos de testeo es:\", recm_dec_test.round(3))"
      ],
      "metadata": {
        "colab": {
          "base_uri": "https://localhost:8080/"
        },
        "id": "bcgELJ8XROa9",
        "outputId": "28ae155b-0b9a-456b-b5b0-c7287ca7269a"
      },
      "execution_count": 87,
      "outputs": [
        {
          "output_type": "stream",
          "name": "stdout",
          "text": [
            "RECM del modelo de regresión lineal con los datos de entrenamiento es: 1127.773\n",
            "RECM del modelo de árbol de regresión con los datos de entrenamiento es: 0.0\n",
            "RECM del modelo de regresión lineal con los datos de testeo es: 1127.231\n",
            "RECM del modelo de árbol de regresión con los datos de testeo es: 1580.28\n"
          ]
        }
      ]
    },
    {
      "cell_type": "markdown",
      "source": [
        "Mediante el RECM se aprecia que el modelo de regresión lineal presenta un nivel de error menor y está menos sobreajustado que el modelo de árbol de regresión."
      ],
      "metadata": {
        "id": "49cjJArlTV4T"
      }
    },
    {
      "cell_type": "markdown",
      "source": [
        "Considerando lo previamente expuesto, se determina que el modelo a usar es el modelo de regresión lineal. Sin embargo, es importante destacar que el nivel del error que presenta es considerable."
      ],
      "metadata": {
        "id": "fdMY0ERZTgsh"
      }
    }
  ]
}