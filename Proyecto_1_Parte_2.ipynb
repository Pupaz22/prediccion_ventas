{
  "nbformat": 4,
  "nbformat_minor": 0,
  "metadata": {
    "colab": {
      "provenance": [],
      "mount_file_id": "1YRZuF34noV-_4jCYOgeT_a_dT93in6p4",
      "authorship_tag": "ABX9TyPpca0Aqufzk7uiJ1LzNiG2",
      "include_colab_link": true
    },
    "kernelspec": {
      "name": "python3",
      "display_name": "Python 3"
    },
    "language_info": {
      "name": "python"
    }
  },
  "cells": [
    {
      "cell_type": "markdown",
      "metadata": {
        "id": "view-in-github",
        "colab_type": "text"
      },
      "source": [
        "<a href=\"https://colab.research.google.com/github/gsalgadod/prediccion_ventas/blob/main/Proyecto_1_Parte_2.ipynb\" target=\"_parent\"><img src=\"https://colab.research.google.com/assets/colab-badge.svg\" alt=\"Open In Colab\"/></a>"
      ]
    },
    {
      "cell_type": "code",
      "execution_count": null,
      "metadata": {
        "id": "4gXOiBoPmhxp"
      },
      "outputs": [],
      "source": [
        "import pandas as pd\n",
        "import numpy as np\n",
        "import datetime as dt\n",
        "import matplotlib.pyplot as plt"
      ]
    },
    {
      "cell_type": "code",
      "source": [
        "filename = \"/content/drive/MyDrive/Coding Dojo/Data Frames/sales_predictions.csv\"\n",
        "df = pd.read_csv(filename)\n",
        "dfo = df.copy() # Se genera una copia del dataframe original para futuras revisiones. \n",
        "df.head(10)"
      ],
      "metadata": {
        "colab": {
          "base_uri": "https://localhost:8080/",
          "height": 363
        },
        "id": "sARk1Sb3UGEe",
        "outputId": "536ff0f7-afa8-4800-ad84-f790cea83243"
      },
      "execution_count": 160,
      "outputs": [
        {
          "output_type": "execute_result",
          "data": {
            "text/plain": [
              "  Item_Identifier  Item_Weight Item_Fat_Content  Item_Visibility  \\\n",
              "0           FDA15        9.300          Low Fat         0.016047   \n",
              "1           DRC01        5.920          Regular         0.019278   \n",
              "2           FDN15       17.500          Low Fat         0.016760   \n",
              "3           FDX07       19.200          Regular         0.000000   \n",
              "4           NCD19        8.930          Low Fat         0.000000   \n",
              "5           FDP36       10.395          Regular         0.000000   \n",
              "6           FDO10       13.650          Regular         0.012741   \n",
              "7           FDP10          NaN          Low Fat         0.127470   \n",
              "8           FDH17       16.200          Regular         0.016687   \n",
              "9           FDU28       19.200          Regular         0.094450   \n",
              "\n",
              "               Item_Type  Item_MRP Outlet_Identifier  \\\n",
              "0                  Dairy  249.8092            OUT049   \n",
              "1            Soft Drinks   48.2692            OUT018   \n",
              "2                   Meat  141.6180            OUT049   \n",
              "3  Fruits and Vegetables  182.0950            OUT010   \n",
              "4              Household   53.8614            OUT013   \n",
              "5           Baking Goods   51.4008            OUT018   \n",
              "6            Snack Foods   57.6588            OUT013   \n",
              "7            Snack Foods  107.7622            OUT027   \n",
              "8           Frozen Foods   96.9726            OUT045   \n",
              "9           Frozen Foods  187.8214            OUT017   \n",
              "\n",
              "   Outlet_Establishment_Year Outlet_Size Outlet_Location_Type  \\\n",
              "0                       1999      Medium               Tier 1   \n",
              "1                       2009      Medium               Tier 3   \n",
              "2                       1999      Medium               Tier 1   \n",
              "3                       1998         NaN               Tier 3   \n",
              "4                       1987        High               Tier 3   \n",
              "5                       2009      Medium               Tier 3   \n",
              "6                       1987        High               Tier 3   \n",
              "7                       1985      Medium               Tier 3   \n",
              "8                       2002         NaN               Tier 2   \n",
              "9                       2007         NaN               Tier 2   \n",
              "\n",
              "         Outlet_Type  Item_Outlet_Sales  \n",
              "0  Supermarket Type1          3735.1380  \n",
              "1  Supermarket Type2           443.4228  \n",
              "2  Supermarket Type1          2097.2700  \n",
              "3      Grocery Store           732.3800  \n",
              "4  Supermarket Type1           994.7052  \n",
              "5  Supermarket Type2           556.6088  \n",
              "6  Supermarket Type1           343.5528  \n",
              "7  Supermarket Type3          4022.7636  \n",
              "8  Supermarket Type1          1076.5986  \n",
              "9  Supermarket Type1          4710.5350  "
            ],
            "text/html": [
              "\n",
              "  <div id=\"df-fc65d5db-7715-4b52-b5c8-111927630a88\">\n",
              "    <div class=\"colab-df-container\">\n",
              "      <div>\n",
              "<style scoped>\n",
              "    .dataframe tbody tr th:only-of-type {\n",
              "        vertical-align: middle;\n",
              "    }\n",
              "\n",
              "    .dataframe tbody tr th {\n",
              "        vertical-align: top;\n",
              "    }\n",
              "\n",
              "    .dataframe thead th {\n",
              "        text-align: right;\n",
              "    }\n",
              "</style>\n",
              "<table border=\"1\" class=\"dataframe\">\n",
              "  <thead>\n",
              "    <tr style=\"text-align: right;\">\n",
              "      <th></th>\n",
              "      <th>Item_Identifier</th>\n",
              "      <th>Item_Weight</th>\n",
              "      <th>Item_Fat_Content</th>\n",
              "      <th>Item_Visibility</th>\n",
              "      <th>Item_Type</th>\n",
              "      <th>Item_MRP</th>\n",
              "      <th>Outlet_Identifier</th>\n",
              "      <th>Outlet_Establishment_Year</th>\n",
              "      <th>Outlet_Size</th>\n",
              "      <th>Outlet_Location_Type</th>\n",
              "      <th>Outlet_Type</th>\n",
              "      <th>Item_Outlet_Sales</th>\n",
              "    </tr>\n",
              "  </thead>\n",
              "  <tbody>\n",
              "    <tr>\n",
              "      <th>0</th>\n",
              "      <td>FDA15</td>\n",
              "      <td>9.300</td>\n",
              "      <td>Low Fat</td>\n",
              "      <td>0.016047</td>\n",
              "      <td>Dairy</td>\n",
              "      <td>249.8092</td>\n",
              "      <td>OUT049</td>\n",
              "      <td>1999</td>\n",
              "      <td>Medium</td>\n",
              "      <td>Tier 1</td>\n",
              "      <td>Supermarket Type1</td>\n",
              "      <td>3735.1380</td>\n",
              "    </tr>\n",
              "    <tr>\n",
              "      <th>1</th>\n",
              "      <td>DRC01</td>\n",
              "      <td>5.920</td>\n",
              "      <td>Regular</td>\n",
              "      <td>0.019278</td>\n",
              "      <td>Soft Drinks</td>\n",
              "      <td>48.2692</td>\n",
              "      <td>OUT018</td>\n",
              "      <td>2009</td>\n",
              "      <td>Medium</td>\n",
              "      <td>Tier 3</td>\n",
              "      <td>Supermarket Type2</td>\n",
              "      <td>443.4228</td>\n",
              "    </tr>\n",
              "    <tr>\n",
              "      <th>2</th>\n",
              "      <td>FDN15</td>\n",
              "      <td>17.500</td>\n",
              "      <td>Low Fat</td>\n",
              "      <td>0.016760</td>\n",
              "      <td>Meat</td>\n",
              "      <td>141.6180</td>\n",
              "      <td>OUT049</td>\n",
              "      <td>1999</td>\n",
              "      <td>Medium</td>\n",
              "      <td>Tier 1</td>\n",
              "      <td>Supermarket Type1</td>\n",
              "      <td>2097.2700</td>\n",
              "    </tr>\n",
              "    <tr>\n",
              "      <th>3</th>\n",
              "      <td>FDX07</td>\n",
              "      <td>19.200</td>\n",
              "      <td>Regular</td>\n",
              "      <td>0.000000</td>\n",
              "      <td>Fruits and Vegetables</td>\n",
              "      <td>182.0950</td>\n",
              "      <td>OUT010</td>\n",
              "      <td>1998</td>\n",
              "      <td>NaN</td>\n",
              "      <td>Tier 3</td>\n",
              "      <td>Grocery Store</td>\n",
              "      <td>732.3800</td>\n",
              "    </tr>\n",
              "    <tr>\n",
              "      <th>4</th>\n",
              "      <td>NCD19</td>\n",
              "      <td>8.930</td>\n",
              "      <td>Low Fat</td>\n",
              "      <td>0.000000</td>\n",
              "      <td>Household</td>\n",
              "      <td>53.8614</td>\n",
              "      <td>OUT013</td>\n",
              "      <td>1987</td>\n",
              "      <td>High</td>\n",
              "      <td>Tier 3</td>\n",
              "      <td>Supermarket Type1</td>\n",
              "      <td>994.7052</td>\n",
              "    </tr>\n",
              "    <tr>\n",
              "      <th>5</th>\n",
              "      <td>FDP36</td>\n",
              "      <td>10.395</td>\n",
              "      <td>Regular</td>\n",
              "      <td>0.000000</td>\n",
              "      <td>Baking Goods</td>\n",
              "      <td>51.4008</td>\n",
              "      <td>OUT018</td>\n",
              "      <td>2009</td>\n",
              "      <td>Medium</td>\n",
              "      <td>Tier 3</td>\n",
              "      <td>Supermarket Type2</td>\n",
              "      <td>556.6088</td>\n",
              "    </tr>\n",
              "    <tr>\n",
              "      <th>6</th>\n",
              "      <td>FDO10</td>\n",
              "      <td>13.650</td>\n",
              "      <td>Regular</td>\n",
              "      <td>0.012741</td>\n",
              "      <td>Snack Foods</td>\n",
              "      <td>57.6588</td>\n",
              "      <td>OUT013</td>\n",
              "      <td>1987</td>\n",
              "      <td>High</td>\n",
              "      <td>Tier 3</td>\n",
              "      <td>Supermarket Type1</td>\n",
              "      <td>343.5528</td>\n",
              "    </tr>\n",
              "    <tr>\n",
              "      <th>7</th>\n",
              "      <td>FDP10</td>\n",
              "      <td>NaN</td>\n",
              "      <td>Low Fat</td>\n",
              "      <td>0.127470</td>\n",
              "      <td>Snack Foods</td>\n",
              "      <td>107.7622</td>\n",
              "      <td>OUT027</td>\n",
              "      <td>1985</td>\n",
              "      <td>Medium</td>\n",
              "      <td>Tier 3</td>\n",
              "      <td>Supermarket Type3</td>\n",
              "      <td>4022.7636</td>\n",
              "    </tr>\n",
              "    <tr>\n",
              "      <th>8</th>\n",
              "      <td>FDH17</td>\n",
              "      <td>16.200</td>\n",
              "      <td>Regular</td>\n",
              "      <td>0.016687</td>\n",
              "      <td>Frozen Foods</td>\n",
              "      <td>96.9726</td>\n",
              "      <td>OUT045</td>\n",
              "      <td>2002</td>\n",
              "      <td>NaN</td>\n",
              "      <td>Tier 2</td>\n",
              "      <td>Supermarket Type1</td>\n",
              "      <td>1076.5986</td>\n",
              "    </tr>\n",
              "    <tr>\n",
              "      <th>9</th>\n",
              "      <td>FDU28</td>\n",
              "      <td>19.200</td>\n",
              "      <td>Regular</td>\n",
              "      <td>0.094450</td>\n",
              "      <td>Frozen Foods</td>\n",
              "      <td>187.8214</td>\n",
              "      <td>OUT017</td>\n",
              "      <td>2007</td>\n",
              "      <td>NaN</td>\n",
              "      <td>Tier 2</td>\n",
              "      <td>Supermarket Type1</td>\n",
              "      <td>4710.5350</td>\n",
              "    </tr>\n",
              "  </tbody>\n",
              "</table>\n",
              "</div>\n",
              "      <button class=\"colab-df-convert\" onclick=\"convertToInteractive('df-fc65d5db-7715-4b52-b5c8-111927630a88')\"\n",
              "              title=\"Convert this dataframe to an interactive table.\"\n",
              "              style=\"display:none;\">\n",
              "        \n",
              "  <svg xmlns=\"http://www.w3.org/2000/svg\" height=\"24px\"viewBox=\"0 0 24 24\"\n",
              "       width=\"24px\">\n",
              "    <path d=\"M0 0h24v24H0V0z\" fill=\"none\"/>\n",
              "    <path d=\"M18.56 5.44l.94 2.06.94-2.06 2.06-.94-2.06-.94-.94-2.06-.94 2.06-2.06.94zm-11 1L8.5 8.5l.94-2.06 2.06-.94-2.06-.94L8.5 2.5l-.94 2.06-2.06.94zm10 10l.94 2.06.94-2.06 2.06-.94-2.06-.94-.94-2.06-.94 2.06-2.06.94z\"/><path d=\"M17.41 7.96l-1.37-1.37c-.4-.4-.92-.59-1.43-.59-.52 0-1.04.2-1.43.59L10.3 9.45l-7.72 7.72c-.78.78-.78 2.05 0 2.83L4 21.41c.39.39.9.59 1.41.59.51 0 1.02-.2 1.41-.59l7.78-7.78 2.81-2.81c.8-.78.8-2.07 0-2.86zM5.41 20L4 18.59l7.72-7.72 1.47 1.35L5.41 20z\"/>\n",
              "  </svg>\n",
              "      </button>\n",
              "      \n",
              "  <style>\n",
              "    .colab-df-container {\n",
              "      display:flex;\n",
              "      flex-wrap:wrap;\n",
              "      gap: 12px;\n",
              "    }\n",
              "\n",
              "    .colab-df-convert {\n",
              "      background-color: #E8F0FE;\n",
              "      border: none;\n",
              "      border-radius: 50%;\n",
              "      cursor: pointer;\n",
              "      display: none;\n",
              "      fill: #1967D2;\n",
              "      height: 32px;\n",
              "      padding: 0 0 0 0;\n",
              "      width: 32px;\n",
              "    }\n",
              "\n",
              "    .colab-df-convert:hover {\n",
              "      background-color: #E2EBFA;\n",
              "      box-shadow: 0px 1px 2px rgba(60, 64, 67, 0.3), 0px 1px 3px 1px rgba(60, 64, 67, 0.15);\n",
              "      fill: #174EA6;\n",
              "    }\n",
              "\n",
              "    [theme=dark] .colab-df-convert {\n",
              "      background-color: #3B4455;\n",
              "      fill: #D2E3FC;\n",
              "    }\n",
              "\n",
              "    [theme=dark] .colab-df-convert:hover {\n",
              "      background-color: #434B5C;\n",
              "      box-shadow: 0px 1px 3px 1px rgba(0, 0, 0, 0.15);\n",
              "      filter: drop-shadow(0px 1px 2px rgba(0, 0, 0, 0.3));\n",
              "      fill: #FFFFFF;\n",
              "    }\n",
              "  </style>\n",
              "\n",
              "      <script>\n",
              "        const buttonEl =\n",
              "          document.querySelector('#df-fc65d5db-7715-4b52-b5c8-111927630a88 button.colab-df-convert');\n",
              "        buttonEl.style.display =\n",
              "          google.colab.kernel.accessAllowed ? 'block' : 'none';\n",
              "\n",
              "        async function convertToInteractive(key) {\n",
              "          const element = document.querySelector('#df-fc65d5db-7715-4b52-b5c8-111927630a88');\n",
              "          const dataTable =\n",
              "            await google.colab.kernel.invokeFunction('convertToInteractive',\n",
              "                                                     [key], {});\n",
              "          if (!dataTable) return;\n",
              "\n",
              "          const docLinkHtml = 'Like what you see? Visit the ' +\n",
              "            '<a target=\"_blank\" href=https://colab.research.google.com/notebooks/data_table.ipynb>data table notebook</a>'\n",
              "            + ' to learn more about interactive tables.';\n",
              "          element.innerHTML = '';\n",
              "          dataTable['output_type'] = 'display_data';\n",
              "          await google.colab.output.renderOutput(dataTable, element);\n",
              "          const docLink = document.createElement('div');\n",
              "          docLink.innerHTML = docLinkHtml;\n",
              "          element.appendChild(docLink);\n",
              "        }\n",
              "      </script>\n",
              "    </div>\n",
              "  </div>\n",
              "  "
            ]
          },
          "metadata": {},
          "execution_count": 160
        }
      ]
    },
    {
      "cell_type": "markdown",
      "source": [
        "# Información del proyecto\n",
        "\n",
        "El proyecto está basado en un dataframe con información sobre ventas de productos alimenticios que se venden en varias tiendas. Se tiene como objetivo ayudar al vendedor a comprender las propiedades de los productos y los puntos de venta que desempeñan un papel crucial en el aumento de ventas.\n",
        "\n",
        "A continuación se presenta la información de las columnas del dataset:"
      ],
      "metadata": {
        "id": "hS3vuBt8VB48"
      }
    },
    {
      "cell_type": "markdown",
      "source": [
        "![image_2022-11-24_125836122.png](data:image/png;base64,iVBORw0KGgoAAAANSUhEUgAABEcAAAFVCAIAAACCYhbuAAAgAElEQVR4nO3dO3ajvtvAcfGe/1LsFDlZAV6BPU2qaafDpd1MlzLdNLgM3a9NlSawgrCCnBSBvfgt8EUSkhAXX3C+n2piQHp0w8gIJthutwIAAAAARuv/Lh0AAAAAAPTCrAYAAADAuDGrAQAAADBuzGoAAAAAjBuzGgAAAADjxqwGAAAAwLgxqwEAAAAwbsxqAAAAAIwbsxoAAAAA48asBgAAAMC4MasBAAAAMG7MagAAAACMG7MaAAAAAOPWelYTBMEp4gAc6HUAAAAQ9stC7tUAAAAAGDdmNQAAAADGjVkNAAAAgHFjVgMAAABg3JjVAAAAABg3ZjUAAAAAxu2HzGrKzSwIgmCZnTifbBkEQTDblP6H7EJrdcyZOWtvBPEDABwOJ3nO4wBG7GKzmur6X78crj49+eQDQggmJADQ1u68eTSbLTdnmQ30P2PbUsj+rXMhovRlPukbJABczuXv1eTrf0xiAACjlOfJejEd8c9D2XKRiDAuXuaXjgQAernwrCYMQyGS59F+G4zbZPWx3W63Hyt+ngOANsK42G632+22SKNQCCHy9Z8Tf5P1P2ObU5i/8D0A4CZceFbz8PQUOW/XlNlydrzdL9/or26lL7MyW84Om7NSHP+eLWvfMd/ZxrA1WwZBMNtkuyN3C+DKw667lK0BHnf6rm32SsRWXlMRDov3pHV68oMv9hRqxVRXIzRnba69vkUGgPGazF8+0kgIIfLX9+P3k/k0WGab2cxwdpT2P3zuPmMfvwFtp2VDmrUVaC2/YfkBEsB127bU4RCj6lsgSrdFHIrD716HT6vfwOLQEPFuq3lju513W6tclU+1j4SQfpqrlcK2p1ciu9CqDab09rVRy/WwYZdElLpTqBXTN2tn7SmJ+NZbW2KgXgcA/ainvB3lpGw9DeqnUtsZ1nhO1s7YltPyPixzmmrsXb5h699HAHB2tsvCyz9XM1nZbtdUDzBKN/qrs6y2YC2MUuUUr/79+a38thTGaWFPqjpy+zIvN8+JlHORRkL5He4Q4VsijvsVqfI14JuIbP43TYv9d2URR4YiCCHmj5EQQiRvmVxP0ePcL4VDMdtm7a69jkUGgLGb3h9O/o7TYPGVCyHCKFW+L9RvOu17RNjO2HvaaXl3vm1Ks55v0zfsbo5V/z4CgKtx+VmNEPO/senpmt2UIXraL/et5j9C5F/Fca/oqXpry+TX71D5++6htq+InlbVK15MSYXx3/37X6rvHpGvp0EQBMF0kdTTEkKU359yhJP5LtVWiagmU/Hvz+5+/3SdWPZSpjX7enqce6UgFbNl1s7a615kABi53blP+qfpNFidufNkEQSzP293/73Mhel75EN+xsV6xq6YT8sNaQohWn/D7r51AOCKXcOsRkxW/8UhL0MTotzMposkzxt33H3BfH6Xh98F/85bpdA5awCAYn/b/n7q3m/+si3SOAqFyPNkMZ1tSmVCNJhTpAkAV+8qZjX7H4mS5+fP42e7W/rHezi7C/jDXYn2kufqWcgycye1y1p/IsSyAmAf4SHVLokIIdT1CYdlYEa73/xe//17zYUQ4e9fk5YptM+6ufY6FBkAxqzMlrPqfkx1HnacBrPlbFlMVy8fu9Ve+et7qX/TldmmzVP55tOyT5on+IYFgMu6klnNbhlaLt8rONwO393ID6a7RcB/u59y8/ViGgTBdLHOhbCfvXdZH3IO9JeOGSPcp9ouEVn1NZMni4YVaOK4lCFRJjVtUmifdWPtdSgyAIzQ8YtpkVQnxLRa5OU8DebJYnr8NhMPdxPT98inJU9zHIbTsk+ap/iGBYCLuppZzW4ZmmL+srtZvxOGUVr0eKt+lO7/ZwFRPQNpv4kwfynSKGx8y9r8pYiVFJW31ngmcjRZ/ScHGLtutUirnI8Lo1ul0DJrr9prXWQAGLUwjOK0kO5JW0+D87/SOfR4ElX3D6P4P/9vuSg2n5Z90hz6GxYALizYbrftDghaHwL0RK8DAEm5mU3XuYhSlvgC+HFsl4XXc68GAAAAALpgVgMAAABg3FiBhhGg1wEAAECwAg0AAADArfpfh2OCIBg8DsCNXgcAAACbLrMa1gLhzFiBBgAAAGH/pZsVaAAAAADGjVkNAAAAgHFjVgMAAABg3JjVAAAAABg3ZjUAAAAAxu3GZzXZMghmm3LIJMvNTE2z3MyCIAiqD2tbcXa30ujWZAcpoHciJ+zSnjGcoEGvLkcAANBT71nNxb//LxxAufmzzqN0u91uP1aTS0Xx0/zkRi83z0kY/9cv30ESAQAAuBpD36u5+CRncHqJJqsP+Vq2+MpFeD+1bMU4XUWjG5MtN3/Wov+cpkUidOn2bu80CADA1evyv3ACuJDJ6mO7uopEAAAArsiQ92qyZRAsEiHy9XT/xMFxw570C2a2DIJldnhCYbfpsHPX3zqPuS0z+zaPSCwlOv4Oq27Wt3rkuNvIr7q9XVWjH9O09wUtTuMhel+Sd1ITsJVFVW5mymFy+o4U+pfO3BreLeVIarYppXiOKZrHl70C7YG5Ks1YG9bToDN3AADQ05CzmvnLdptGQoRxcXzioNzMgoVIt5UiFuupfL2SLKZfT9vtdrtNo+oy4O3x8Oef9lf72TJYJNUTD9vi/nmRHDe1iqTK2lgiW4Hri3Qac9xtZHlPP9fW6NO1qI7dbovfr7tenC2D5/viEEiYLA7XtbZD9EJO1w/7kmzTKFmoV/6msrTjkUKH0mmF6NhSFvl6uo+5iMNk4Rhfzgp0BOZgrA1z/2lsPgAA0NO2Jf0Q6fvb8Oc2jYSIUvP+7kP1lGyU/UzZS7m5IpG2OZPUPuiRo7oRDs5ed1WNXsShT7ct4vCQu/UQLVmtv8hdyFUWc6b6bo4U+pXOUiD97xYnCt/klPTcFdjQoJaasdeGnl5D8wEAAH+2+cuJ3+xcfn8KkSykhReev4L2yO7hznTn48yR+OQYPc5PG8HPcF2N/v6aW4JRViBN17nPIQfFV673l/ljJMTn9zl/7u9QOmWXE7SUnNz0PhT5V7H/U6kvZwU6AnPwajiP3AEAwBDO8f/V1H6QvNiKq/NHcj1l/7GuownUxUrVj/ctjv7+NG9ofSl+Gv1Kt3fClrpsBV578wEAcAtOPKuZ3D2c8wdJR3ZnjuQiOf5Mo2j08v01F9GT6SrdJ8jJ3YMQyZvyqEr2lsivl/YNro8OpfM53L3JTT5Ge+F2LX1rBbpyt1eaf8zDNB8AAHAZelajLQIR879xqDx4XL23aOBcj9k9RiJf/8v2WUnLWLpGopeoRTDnLfuPdc2NXm5ms02pX9dmS3mNluWQWrJCfgQ/Wy4Sj4mEanofiuT58Hx/++V4HUqnHD58S+Xr6XKfnqtG3BXoCMxRafaGM50G+zcfAABwGHpWM1k9Rbv18dVX+GT1UcSieslpEATB831xyhVA85ciDnfr85/vC3kpTMdIaiXyd+ay/1hX3OjT19/Vf3YpxxgsRJpGjYfoyVYvzto/dvIZF9uXlg9mTVb/xeHujcNaRZ2udLLhWypKi/vn3YM4YVzYa8Rdgc7ArJVmbTjTabB/8wEAAIegepNAiwOC1ocAPdHrUJctg4VImRwAAPCj2C4Lz/G2AAAAAAA4neuf1Sj/ZbmK/54bAAAAACvQMAb0OgAAAAhWoAEAAAC4VcxqAAAAAIwbsxoAAAAA48asBgAAAMC4MasBAAAAMG7MagAAAACMG7MaAAAAAOPGrAYAAADAuDGrOSg3syCYbUrnTtkyCJbZmSLCFcuWzb3Ff7cBnT9HAACAi+s9q7noNZRpIpItg9pnXhMWjEa5mQUy5pkAAAA/29D3as47yZn8+h2K/PVdyq/8/hRC+0wUX7kIf/+auBNbfWy3Hyv3Ti78SH5OYVxsK2mULKj4wdCNAQDACI18BVptWlO+v+ZhqE11srekeVKDsZr/jfW5LQAAAH6UIWc12TIIFokQ+XoaKKvAsuVxsZD0K3D1jMpxNVG16bCz1+/F1bTmq9j/XXzl4uG3+lltUuOI5/invspJXuekx+woO05vcveg/G1pX7lJlTVralM7lrMdE67vZMvUntRsUxojqsbFLr1DUs4gLYGVm5nyiXYbRk7yOPiM3di7igAAAC5iyFnN/GW7TaPD2qBqMVe5mQULke4WCxWxWE/la75kMf162q0jqi6l3h4Pf/7xmBtMfv0ORfK2u8zK3hIRPa6Uz8rvT2lS0xCPOOw1XT+k+xVOQogo3b7MTTFXQRrLjvOoVh3u/m1t32w5XYvdsrXi/nl/ZZ4tg2NTu5azZctgkUTp/vhFIjwydcnX031HKuIwWajjYpde1ZOcQToCc1XaZnasj23x+/XPprR0Y+8qAgAAuJhtS/oh0jWQ4c9tGgkRpeb93YfqKVntJx1ybkUc7j+T/ukfj7qbdYMapHfEaEvrdUUcHmu6iMNDB3C1r7F51N5xOEL7SE2o9neLTu6bnJKeO0hHSvqB2iZzZ9XT868iAACAk7PNX078XE35/SlEspAWr3j+ktzC/DES4vO73N2VuZ+K3R2c6rP311xEj/N28UzvtRtA4uGOuy9XZbdIKgiqOw7VjTRX+87/xmG+nqrrw4ovqXfs9jv0J1n5/WnrBJ07uZzc9F5ZNanE5AzSEZhD+f6aex7lXUUAAACXc463BdR+1B14fdb8MRL563tZvr/m+6Vmk7uH6gFywzWZbzz7C9VFIi0/w5WQbido7Wdr38nqY3tc6bjMhLp2TdF6mnDCTj5ckOPLHQAAwM+JZzWTu4cz/Ki7m9a8f0k/P+8+27wl8qTGM57y/TWXF+EwpRkJj/adv1SLqpK3bLf/4aZcJXtLdnf8PFPu3MnlY4qv3JDrMX1rkK7c9dcodInZv4oAAAAuZ+hZjbaQZrfs54/yorHhHzSeP0YiX6+VCYzpM994JncPxxVOvm+1qpUd52dv32x5fHXXcQox/xuHIlnILyBbJCJ6qt9oqfrTv2yfqrTKrGsnz9fT5T49S66H9O1BOgKrVlI+79+W4Ii53Mz2EZuGsF8VAQAAXE6rp3O2jW8L2D1JLIS0Jqd6nHvH+/UArZ6932VheKbZkIZHPEUcyokVcbjb5HpbgKnsGIRwvC2gxtW+wtRA8gZXnzsmHMaFFoNnJ1fyjFIlRXWT6QBbkI7AfGPW3zeg1ZJvFQEAAJyWbf4SVNv8BUHrQ0Zn/17n48Kz+ic4p9vrddkyWAg6FAAAQDu2y8JzvC1gnORHCbJ/69o7BwAAAABch+uf1cj/Z7vmVP/F+WT1UcSh9K7exefh3cEAAAAArgwr0DAC9DoAAAAIVqABAAAAuFXMagAAAACMG7MaAAAAAOPGrAYAAADAuDGrAQAAADBuzGoAAAAAjBuzGgAAAADjxqwGAAAAwLgxq8HNKDezIJhtyjbHZMvWh/R0/hwHkS2DYJm1PKhLi2BYI+1vAAC01XtWc+nvzHIzC1QniUbNhouES5Pbg9YAAAD46Ya+V3ORSU4YF9ujj9WkYf+WQWbLIJiuH9JDDsXv12nfQg5VUZeeVV5CuZlN12Lf6MXv1z9VBUxWHz7NP3JjavGf0SIAAOAK/O/SAVy9bLlIRJRuX+aHjyarj+3qgiH9dMVXLsL41+5aebL6+LhsPAAAALiwIe/VZMsgWCRC5OupujAoWxoXb1Ur9Y9riapNh517/x4tZ3t4JMAapFm5eU5EGP+du3aZGfKxF3CoimpdlpuSfxX1D123MSx1a5Mtg9mmlNr22LBVc+zSOyRl7wZK5sqGcjNTPtHiry+zs7a4M3evejAW1XW4spdxrNVL1D9O21ioqS9NXWaWtrMFb6sT6/7OEGw7mruTtbsay9XQkWz1qh9SDwMAgBHZtqQfkkbKCjDtz+22iEMholT+a789jYQQh427v+Q/1ZVlZkUcGvdLI+ljNQjvtPdRHY9s2p5GQkq6XsBjrv0qypHOTdJ6XRGHQoh6wW2V0VC3lv4j1bmjOY4fObuBnNBhm9YvlWCULLdFHNojdubuVw9azoYe764Q21hTgh0gTudYsCQgZ1tvO3vw5jpxnVhq9eVT2HpI9uLbyuXqSNq/XS3lPtcBAHAdbPOXU89q0kj7opR2cB/qebm+v8A98LhMajmrse9quKjRL6EslxqtK8o3ndtk6L7Hhm+c4rXohKZdTIco6bm7gSMlx8WobbZeT6+hE/rVQ3M3chRDZZsZDBKncyzYUnC1nSN4n6Flm9b4F7b+eUMzmcrlO6txBNlUMwAAXAvbrObEb3Yuvz+FSBbSmodFMnwuynf24dlkeanGdJ13T9642EkIUT3gET0qq9Pmj5EQn99tF3Ccp6JuyWT1sa0uzPL11PnK4c51+3B3fMx9eh/KHUFpdWc3KL8/1ZS8lO+vuedR3p3QVQ/zv3GYr6cNa4+sFeIz1gaJ09P0PhTJ237R6VuihK4FYQ3eVieDFrYekqv4znJ5cQav1wwAAGNyjv+vpvYD4BleiqS+Jqt+R8fX9D60T1LK70/zUa0vYiuXqKiRm6w+0kgcr/SsTli3Q3eDk+Zuq4dqkphG1RM7rf5jGr+xNlCcLexnBotEfdmHd/CmOjlJYetcxfcql9FQZ0UAAK7RiWc1k7uHLncueivfX3MRPfW/cJ38+h2KfP3PeJU3uXuoXVBnb4kI76et87lQRd2A6X3DtVnnupWPKb5yW7u6u4Er98ndQ++Y/TuhR5rzl+pa1zJLNFaI51gbNM4G5ftrLt/AtV/6ewSv1MnghbUcay6+tVz2jqQfPshZEQCAazT0rEZbqLNbxfFHeYfRGV6wo15VZEt1rYUepDOl1X9xKJKF/hKk2aasSieShfx6rEXid90wVEW1KcuNUGqm3PxZ1xb7aLrW7XFpm7td3d1g/hgd58XZUllONb0PRfJchaJu0mIuN7N9xKae49cJ7fWQLY/92zF/M1aIe6z51pJfnJ4mdw/718Tt2A53BG+sk+ELaz7WXHx7uewdya+wAADcgG1L+iG1Z1H37zLTXuKz5/16gBZvC7A/tHwIxfCQsRpkcy7CWAgpLeMW+5PN7SqqTTq3R5jfgdbQo/ocUtW56ZUE9ae5D5+au4H2ZgO1xzo2KTHrD+prLe7K3bseRC1ZtXy7COuZ2Mea6R0DveNsfltAEYe1l4qFcWFsO3fw9Tpxnlj0KvMorDEFS/Gt5XJ0JKWK3IW94TMIAOCGCMv8Jai2+QuC1ocAPZ2/12XLYCFaPraAmmwZLD7j4rwPiJWb2XT9IDde/ZMxutVyAQDQiu2y8BxvCwDwI3V7Adwg5Kdasn+NqxRH41bLBQBAX9c/q1H+L2xVqzc1XSp94CcqN7MgmK7zKD37jYTJ6qOIQ+nlyIvPuLiB+xm3Wi4AAAbBCjSMAL0OAAAAghVoAAAAAG4VsxoAAAAA48asBgAAAMC4MasBAAAAMG7MagAAAACMG7MaAAAAAOPGrAYAAADAuDGrAQAAADButz2rKTezIJhtSr8dsmUQLDOv3Xb/bkwfsBmg80hd8YSHXFK5mQVBEFQx+9TY1Q1JzwofWbsI4VfV1n2GKu/5623AHEfR6Fce5JWHd4oz0umLfL6z6LBlGfXZAEPpPau5aKtaMi83M9v8BLfgcK27Q1vfpnLzZ51H6Xa73X6sJpeOBoMpN89JGP9HmwIAhjT0vZrzTnLmj5HI1/+0a9ry/TUX0eNciMnqw3091LiDezf1c6bt5xTGxbaSRsniWiq+RR/w7Hs/WfGVi/B+uv/Tp8Y61WrbkctIF6JHc5SbP2txwTkNzXdOP6229fKO8Tw/xpjH6fZGxxWUaOQr0OaPkRDJmzKtOU5q8CPM/8ahyF/fb+nUANysyeqDSyYAwPCGnNVkyyBYJELk6+l+Jfxxw540i6ueYzmuJqo2HXb2mu/VpzXKpEaZN0rrlg5LlgwTy2O0x4VNtvnn4fN62bOlvjTqCiaxt2ly96D8rS5Qk9ug6nK7Ft63hby70j6t+q29/8vJyNHo/cGSncbUPdulYDvCupDPMHD0RZ5yWbJlMNuUptHmClJvGrU2j+cG6RBjw7WtVetZy9KL2raywwBNadxNWxUvnYkamsY+cHxOnl7N0TQ268Nq2Hpr29zNObasNJceSTla1njS61Re16gXpg7QpbY9Kq3fwGk4dzk6YeMYN5bX84zkm3UtX88zj3W35qGtr/iuduxcVycsi33/GxkdKuulS9fTrPUcXq8iUzfuX6JhbFvSD0kjeTGQ/ud2W8ShENXS+P1f++1pJIQ4bNz9Jf+pJGSTRkLKQMtPSkVOsIhDQzZqPLVQm/6th6xGov+JNrReV8RhraaVVjzWcxoJrYmUzeqx2yIOd/9u1W/l1XBat00j6W9r53RlJ5MLV8ShEJ1SkApii81yxGHg6Ht7jiPvWq2naqwxQ8N1qFXDycbZizq3sp5nv6Z07Cb9oZTE0TTOIjefPH2ao83YtJ7/+9db2+Z25Nih0qyB9E/K8eWljayO5XWNelsHaFnbniXt0wH8z116+3icLc0nh/YnQGvX0IrsGZV9t8ahXdtbu2JrWVenLIv7ZHsDo0PhTLPLadZ1DjdcNVkGWo8StWWbv5x6VpNG9gsV96He0xqlhrXrXXtuhlwc11BdZjX1wJjUdOWa1VSnFvk8o1Zz7UQsb9b6i3KQq99aTl5Nvdb2feLKzvFp+xQcAdp6qPGIpisDc5RNtapn7yivreG61Il75B53MV4JGFivGvyK1qIz2HfbfXXE9S8Uc67uIjd2R5/m8BibtmFlr4vTN3dDJ2xbaZZABkxK/9t40hukvD4doGdtty2oRwdoOnc1d0JzKWzHeEZoz9pRZO+orLs1Dm01Ls/vQe/sBi2L94gf6+jQC25Ks/Np1nkOr037rAOte4las81qTvxcTfn9KUSykG4+LZKh85j8+h3uF6GV7695+PuXacn2/G8c5utpw9Kch7vjsdP7UORfxWCB8bDPkHY3OYNguhZxsX2pqrb4qlXz/DES4vP70Ojy5vL9NVfafP/5gP1Wvvk6XefGXfyyK78/hSna7gF7xOY5cDTGcdQYpP8AsTWcsk/nRvToRbXMPGpSj61XUzbsNn9JI5Gv14mI0helJOZTnLvITX3Apzm61Go9o8GHQFNgjhx7VtrgSTm+vJSkO5fXzqsDeOTe3NNO0QE8tRzjQ0XY0CKeUdl2a+xa0/vwuMY/e0v8eoclu9OWxekWRodPml1Ps+4glaumVt14iNN+S+d4W0BtUjbwk6LH2YNjUrN7r8c2jarL4XO8DHiyeopE8rwpmdQMT/o54Nifyu9P896tT0RimH5bbmbVrKuyu2V9ouxapuAb27AD59RngwGya92LWrSyJ8+wfXbz+vZoKvIAfWDQsWlzlub2PbBFpZ2h/r3zOq0Tl/Rkp5fBxvigEXpG5drNq8L317CLJEq3L03XMd3qaoCyDOC6R8c5UvDj240vUZ8nntVM7h5OOinb5bKb1mT/1vZJzc78pRoI2ovT9uRYtffKdjF/jET++p69v+Zh/JdJzalN7h5q78TL3hJrM9r651D9tprNPjV9bXlm59itQ8Cese2pA0d/QYPOOI4GPBv4JNU5u7a9qGVNNsTWvzMIIUS2XCRhXKSRyNd/lF9h7U3TWGTrydO7OVrUqj2RwYaAT2BNOXavtMGT8vzy6lxex6j3r/zT9TTfGJrOXUYdxrgl59Zd1HGUZ1Qeu1krvHx/zeUFRY1TGmd2ZymL2Q2NDleanU+zLYP07caDnPbb2rakH6KtoqstotMf2Usj2wK8rs/VHHIRonaEsqTf9EyZviBQmB/B8HquxrgQdJfoME9H/VjC+bYAfVPt0TSl5dUWsj0h19BvbeuJTWtr1Uctrc9p2rKT6QtkRacUTCuKtdiUA0wDR85Oi8QxjvxrtVZD7hpzvC2guU4sZy1rL+rcynrZ+jWl36l194CNX9NYiuxx8vRuDt+xebp6a9vcTTm2qzS9LAMm5fjyMpz0OpfXPOqtzy63qm3fkg42cAznLvvDLc1nS1N5Pc9Ijv5vL7JnVPbdmof2/grmoF9dnbAsDSeN8Y8OlfPSpctp1nUOd101qQOtR4naEmd6W4A0CA5xK/cIvacxtg5qUWXruiySR6fxzFk1zTFaSzC2fxvLvi89k5pehPesZrvVzsO1zlkbT3L/rD3mZum39ssvvQ/IqUSpfKx2oC07W7C7vtoyBSVTe2y26qx1bEMkVTrGceRfq6YactXY4eNOtWoaufZeZNjfu5WNNdGtKa27mXrk4bcdR9M0DJxaH+jQHP5j86T11rK5XTm2rTQ9jAGTsrSseVx3LK9v5RuL5VPbjSUdogM0nLuUYFqeLevl9TwjOfu/vcieUblPULUKl3Iv4rB22g/jontdnbgstlnNTYwOR01YR1Gb06z1HO68atJi7FOiVoRlVhNU2/wFQetDfrb9MlD+27kebrLXZctg8XmDHSNbBgvhsfoaZ0fT3CpaFqdQbmbT9YPcseqfXD9Gx02yXRae420BP9og63Fxg7q9TgUAgLORH4vI/q158RGu2vXPapT/RlZ1jveY9cQ5AHXlZhYE03Wuv3QXAIArMVl9FHEovcZ38RkX3PTANWMFGkaAXgcAAADBCjQAAAAAt4pZDQAAAIBxY1YDAAAAYNyY1QAAAAAYN2Y1AAAAAMaNWQ0AAACAcWNWAwAAAGDcmNUAAAAAGDdmNcDJlZtZECyzoZPNlkEw25RDJ3sK5w91RJUDAAD66z2rueS1Q7mZBWbDX0Di+qjtf8VXsNm/dR6lL/NLxwEAAHCrhr5Xc9ZJzmT1sd1JIyHCuNj/yQXkrcuWQTBdP6T7Ft8Wv1+nzT3vEpPwcvOcMKcZnWu413MNMQAAMBL/u3QAQHvZcpGIKJVnr5PVx3Z1wZDsJquP7aVjAAAAuG1D3qvJlkGwSITI11N1RVC2NK4TypZBsPkguiAAACAASURBVMyOy4iqTYed+/1GmS31hWiH3z2zZTDblNLyJXW9miVaXI1y85yIMP5rv/sht+Ghedv2T9MSx31a6ha5A1W9epfkvr/p3d5jqaTnbh0OOe5Wjb5dbPqzP/p9As9x0XL4OAZjvSYPYdpKKRdN+rihaHKSx5OQsas4c/cplKOKtPJuBjmdNmVqLH7jIQAAXKNtS/oh2tIv7c/ttohDIaJU/mu/PY2EEIeNu7/kP5WE3Oq7qxnLf6r5KiE5osUFqb0ujYTctLo0khpN6wYt+qeyRclSyz+NhJSo2rv0PF2xeRZBq4j2Katd31xeLXHPcdEw2E2HOAZjvSY9ar5b0Q5pFHFoj9iZu2ehvM+H5hhanU7lUtmOshWfMyEA4GrZ5i+nntWkkXZ1Je3gPrTdtMawt/K9LP9hirH62xUtLqg+q/FuFfXyrEX/VDcdPzfMGOTL3fqUyx6uffLht1v7lO1933Xp7zkuWgx2n4BqNemu+W5FK+LQUoV6eg3t7leopioyZNDmdNq6+WzF50wIALhetlnNid/sXH5/CpEspEUbi+S0OR5Nfv0ORfKWCSFE+f6ai+jxuGTp4W5y+Pf0PhT5V3HZaNFO/lXYN8praqbr3LGjo8Wn94fuI0T2luw7TfGldiUhxPwxEuLz+7BGR9vcJTbvIrQ6pPz+VPu+F89x0Xn4GAdjRalJZ813LNr7a+55lEe7y7qdYVw9p2sNO46yFZ8zIQBghM7x/9XUfsz8WLW89uhmsnqKRPK8KeuTGodLRQtv0/vQejEpRLmZTddCXYzl5Grx/ZXdItm/m6D8/jQn43Nt7Blb6yJ0OqQdz3FxwuHTq+avKPeeVdTt8A5HcSYEAIzLiWc1k7sHx/Xnyc0fI5G/vmfvr7n2cLkcU/GVi/B+evFo4Wny63co8vU/47Pa1Qz2ye8CzNHi5ftrLi+52b9ubXL3II73cCrZW1L1oAaesbUqQqtDXD18cvfQ4aj2u9UZB6MlfWvNn7RojbnXneIM0+1wx1G2TZwJAQBjtG1JP0Rbb11bfK4/Zyo91Hzi52oOnwtRX5wuzM9BOKLFBdU66u5ehPZkdRgXpgf79cee/frnvuscKA9Y60+NK0/uWB+OcMamHuGxW4eU648AmR8cd2xSa0nhP9jVeMyDsV6TzTXft2jS2wLMXcWau2ehGqpIS67t6dTrjQjKUc63BXAmBABcI9v8ZehZjXQxqF5J6peG9UNPMqvZZV6LMEqPURnenWaIFhdk7L7aKivtDWCHXmi42vPqn0Ucysepl3nKlMfQu+Q466+jssVmLpt9ty4pb5WOr44bZZP2ILnnuPAc7Fp1GQejuQj2mnfG71s0w88ftZlMYy10O8MYy9vudGqZ1TiOchSfMyEA4DoJy6wmqLb5C4LWh1zU/nkDaU14tgwWQvkfHHHlzt/rys1sun6Qe0n9kxuQLYPFpzI6LhDAzQ3GmywUAABXwnZZeI63BVxSh0cUgB35MYrs39r7jRMAAAA4r+uf1Sj/Ybqq+X9c51IU3UxWH0UcSi+3XXzGBb++AwAAXKebX4GGW0CvAwAAgPi5K9AAAAAA3DpmNQAAAADGjVkNAAAAgHFjVgMAAABg3JjVAAAAABg3ZjUAAAAAxo1ZDQAAAIBxY1YDAAAAYNyY1QCacjMLgtmmPEde2dIrq3OGJIR3WOPSs1Da4dkyCJZZ056naDhHzsMaJvgr6Et6CCcOqdzMfJP3jOT8dXgFrQYArfWe1Vz65FduZkEQWGLIluq2/c4HylH61rNcOKCDm2mpbLlIwvi/1eTSgaBJuXm+jqaqAvk7v3Qc43H2UTZZPUX5+t9Yz0oAMFpD36u52CQnf33Xcy03z4lhzyjd7hSxWE/VS+IwLnYb0yhZ8GPV9TphS01WH9vtx+kvgsrNcxKlXhmdK6TrcemfS1Tl5s9adLkwHrzhyvfXPPz96yw9YVS9ztZhWoyy4cwfI5G8/eRpzXWNXwA/xW2sQIviOKz9Nla+v+ZhHEf2wyarp0jYvnzmf+PQNFfCtRltS01WH9sXfnMfg8nq4zou7885qbkNlxllTGsA4AKGnNVkyyBYJELk66m6umu3EExf81UtDz+uJqo2HXZu80PP3a/fofYlkv1b5+HvX3eNx4b3U+Pnk7sH7/xxSXJLVZ1KX3po6YFCXcym7C7vpq54s613a9Wf5YiOKWoPMmTLw0Y5pHYDxy94JaT6TvYKrEUqfdJU/+aC2M8k5kpzFMRdYGn/2aaU6kltDykFww/QrlozHGLsb/oGe9Tl+2suHu72kxp75JccCA210tSX3BVlbNyeHcZZrtqy5cN2Z21M7/VvpAErR969XQdwxmwJrGEU1FvKeiXg3X8AoKNtS/ohaSQvBtL/3G6LOJQWfRVxeNyeVrdRdht3f8l/KglZ7NNX86mOj1ItHW2nNBJyJkUcylkqseKitF7naCm1Ux22mnug2sRFHEqJHD5OI+HoNBL//pxGWrczxqdkLB/fYuC0C363YxGHQmi1ZK5A8/FqGK3OAGrkSjaOStMCse1mO6eoYcgRms4q5uBr5TL929bf2jWTdrp1xHDJgdCjLznjsfaBNh3Gu1zKYbUB6awNS2/rVjntu66hA7hjtgfmGgXOLq1G7N1/AKCRbf5y6lnNfnJh2t99qOe05njGrZ1ra5/uT9YH6mWRcq1c7Wq8bsLZuWY1akvpV9euHqhNjky7mC6fa1nUj2r+UytN/ds+rl8DWC4Y7H/6B28at9IwtQ1hrRTqnKQ6qOkMYLlaahr/9mmNfTfXpaG58E2zGkeVGXaz9Tf/ZnLFY4jhMgNh6L5k5TdnNe3sXS41YHvH2NZrw9xDO1ZO+65bb53mklpScvQ6e0vp6bU4kQJAI9us5sTP1ZTfn0IkC+mu88L0AP8g5o/R/umK6pEay2uCpJ+jkoV+E3x3zzwIpmsRFzz1cL0cLRU9Hv9w9EBtNY9Z8ZUr6Ymqo4nP716P8chLMabrXEn+JY1Evl4nIkp79j/v4MvvT2GpCt8hPPn1Ozw83JS9JbuMhzwDOCqtw24qufDT+1DkX8XQR1n7W78+5ojhIgOhf19yxdOqcX12dpdLWUeWvSX7knVtsgEGWo1nB3DH7AjMVRyfnuOROwAM5BxvC6j9GnOix27nj5HI1/+y/SM17kwmq480EsmzunZZ+nXpKh4Ohk2blureA8vvT/OG1hcAcqKbWTUV2x7m10Z9v/CHC96nAqVpzXFS4394E89K863bK9K2mXp0i2sYCD06Q6vG9dvZp1z7qcYiidLq55OTnBaEOOl35cliHkHuAH6ME89qJncPZ/w1Zv43DkXytnxLRPTk8W1wmAbhZjl6oE/nnNw91N6Sl70l1ldM+CjfX3NHB63+d40ijUS+/tPr1aj+wfespd2e+2lN9nb8D1WGOgM0VFrL3erkEIuvfFdHTW8MMR9lYauKFn3MFI9nDGcbCP37km23Vo3rubO7XNVN/+Myqv29U5/aMLbFIANN06YDWGN25W4fBS1ODic4kQJA3bYl/RBt+Wxt9az+QKj0COfAz9Uc/hLWZ0jd0Xmu5sb5CefbAmS1xemuHujzkLT+gJV9Mbh3f64/dWxc8a88TtvpuZqWwWvvHzDXkvYUdi2VMI6j+oJ6+xnA9pSIaTG/rdIs5XDUbf0YtfT7QwwvojA/jV3L19RYtv7m30ymZ7DsMVxwIPTrS5Z4nH2gTYfxLtfuuCPv2rA9+NWtcjp0XUsHsMbsGZgzZultAebvWq/+AwCNbPOXoWc10vdAbaqhnA3rhw4xq6k/5O+e1dReeMSs5ir1mdVs7T1Q22R9Ul25trF2kRb9Wc41So8xG44Rxwu6bj8H+AUvxxTGhektcx5p7DLT93CdAezPvutnElulWcuh7+a6NIxSpfwe1VJdcxqPcjSWsb8ppXVXsZqcI/ILDoRB+pK5opx9wL/DeJeriMPaGwCU2rGWxP791aVyOnRd8wBxxewIzDdmY6XWZuGN/QcAGgjLrCaotvkLgtaHAD3R63A62TJYiHQkrwbJlsHiMy6q5y1GFfn4lJvZdP0g12/9EwulmU6HDgDgZ7JdFp7jbQEAgCHM/8bHd83h9OSHQbJ/69qbvIwy32c7AQADuv5ZjfLfQ6v4v4kB/CyT1VPEO07OYrL6KOJQetvy4tPrdf/l5jmx/s8CAICTYQUaRoBeBwAAAMEKNAAAAAC3ilkNAAAAgHFjVgMAAABg3JjVAAAAABg3ZjUAAAAAxo1ZDQAAAIBxY1YDAAAAYNyY1QAAAAAYt6ub1WTLIJhtynHnWG5maprlZlb959SzTVnfikHdSoNakx2kgN6JnLC7dijIEGUfvkTnP2sBAADNMLOawzXezjIbJNnBXPiio9z8WedRut1utx+ryaWiuCU/uUHLzXMSxv/1y3eQRAAAAK5G/1lNuZkF07WIi+1eGiUL35lN58vTq/p1VA9msvqQr3eLr1yE91PLVlyfq2hQY7Ll5s9a9J/TtEhk/N21oTUBAMAt6DurKTd/1nkYF/I1wvyliEORLK7tjg0wepPVR/8L8kESAQAAuCI9ZzXl+2suoif9AmmyeoqESN4yIXbL06QZzuGX02wZBItEiHw93T+hUJctjwvb9nt4Heh0TLU+9TLluPt4mR3X2jmDOf46rG7Wt3rkuNt4NfelrtNVNai8INPWzlqcxkP0fqIu9JQTsJVFZR2J7hT6l87cGt4t5dCYaUNrOvN116qjIJ5VAQAABtRzVqMtxTma3odCfH47L0zmL9ttGgkRVqvX6j8el5tZsBDpbmFbEYv1dLYpPQ50y5bBIqmeitgW98+LpDnHnWQx/XrarbLL1382ZXMp1M3+ZTzkuNvIT+t219ag0oLM4vdrlarIlsHzfXEIJJTuZdoO0Qs5XT/sS1It81Qus01laccjhQ6l0wrRsaVMfDLtfJJx14mjIJ5VAQAAhtVvVlN+fw4Uh0n2b51H6ct89+dk9RSJ/PW97z2L7C0RYfx3vkv0I428c4zS7W7j/HGQWJrLKG2E2VU1aPn+mkuP4U9WH7sL6fmLdEk9+fU73N/LtB8iJ7t5TpS+MH9JI5Gv/x0vmPuXpTmFDqWT9WgpE79M3br1EEdBBokKAAC01m9WM7l7cG1+uOtzf6H8/hQiWUhrOeRfRPsla47sRDk2BePKMXpkTtPguhr0/TW39Xt56dZ0nfscclB85XpfmD9GjbdDB9ahdMoug7eUR6YNCXTK11GQQaICAADt9VyBNr0PRf5V1DdYl6a1FB2W3OycfCXWT8jxR7mO6lWXbm2LOGx1tO2maL8fDgbTr3R7LVtqmEzb5+s2WFQAAKCVnrOayd2DEMmzvv693DwnIvz9a3LYp2vaw/8W7Uj2RDl2CwaeRtGgltdquA6p7aMtZMrekpY/HHQdiWoC7Urnc7h7k41npp1D6nbUIFEBAID2+r7Zebe8fyo9EFtuZtO1vPp+eh8eZj7ZUl3iYb3ZI4SY/41D5aHlbHl8Ptp1YEPIj9IDCWo8zhwdegTTMUccXXODlpvZbFPq05JsKS9MshxSS1Z5WXq2XCStr55dI/FUpVMOH7KlfDPtcZKxshfEPyoAADCo/v8LZ/WSIWlperX+QlrEMVn9F4e7N6s+3xfKmozJ6inarWuvvylosvooYlEduDv44/igsuPApoiLONwFrMXjytGhRzAdc4Tkiht0+vq7mt3LMQYLkcrPl1sO0ZNVhtniMy62bV8k4RqJJyudbNCW8s20+0nGL2+1IN5RAQCAQQXb7bbdAUHrQ4Ce6HUAAAAQ9svC/vdqAAAAAOCSbmNWo/xf3ir+BzwAAADgxrECDSNArwMAAIBgBRoAAACAW8WsBgAAAMC4MasBAAAAMG7MagAAAACMG7MaAAAAAOPGrAYAAADAuDGrAQAAADBuzGoAAAAAjNvVzWqyZRDMNuWlw/CXLYNgmVk37cpSbmYN5XKkg7ayZRDsqrPczKjX8/EbDh1YR5A72SHOJ82Dt63RneUAALh+w8xqys0skF3ZVaQeXsAlRUeG67vhL/lahlPvbuXmOYnSbSoWNPOtKzfPSRj/t5pcOhAAAHBZ/Wc15WYWTNciLrZ7aZQsfGc2nX+0bH1glG4lH87LoOF/Sp2sPpoyvSDv8k5WT5HI1/+ObZv9W+cierpIybJ/6zyKIpG8qX2t+MrD+6mYv6QP6+l0LeK/8wtEdzuu4s6CcQSVmz9rMficRi/vdQ9eAAAghOg/qyk3f9Z5GBfyd/78pYhDkSyu7I4NhjD/G4cied5d85Wb50SEF5o1ZG+JiB5fHmvTmvnL7hp0/tI8g8WITVYfNC8AABCi96ymfH81/VI/WT1FYn+tWW5myp2bwy+h2TIIFokQ+XpqXxRWPSGhLhvzOtC3BMfVaVWMtsTlQAw3oo6bzZM55fffWqaGcKRSVc8q6JsOOWrlN9WYNZH2lSnfrsn+rXNt+Y8ld0cFVoHttrZoy2pSMxfzx+g4zXKVdEddj+iaeresSVcC1f7yQ1amEeHOV2HrQj7HOnY713Bwhyo3kZKjJdSGdrTkaTzGWF7PBnJ3DEeVNEYFAACabVtSD0kjIUJp8dlBEYf7LUUcKuu/lGNqCcgfqEdKSbpyNtAjsOa238cU1fFvNbk0EkIc/laClJOR/m3OVE2nVknqJtuejhpzpN+qMo/ppnq1unP3q0AzQ0dNI0thGksqZZVGwtWB29ekFqDSLQ77uUaEq89vbUfIuTQe69jtfMPBEaoadxGHhuD821Ebg7awrce0ibxpCBs7g3dUAABgu90aLwurz3slZL1wGmRWI1231nduPauRNc2NGhJXSqTva5m+WD5W87TUkuGq3fynq8Yc6bed1RxrtNZ01vaqHy5XYNOFXK371i+l1ZmLuaSGa0ZL7l1r0nhAUxi+fb7h0xbHWnY723BwxFDEYeP8xL8dHbH7/dZhKkT7juGoFe+oAADAdru1z2r6rUCb3D24Nj/c9VnxXn5/CpEspLUZi6RHcvKVwmEp/vxvHObrqcfKJ3m9y3Sdqxvlgk7vQ5F/FY6k/DNtaeAac6iWGKprDxtyd1Zg9NjuyZxq5ePhoPljJPLX98baLL5yPav5YyTE57d2aP+aLL8/OwwA33xNXcjzWNdu5xoOjhjK99e8sd6827FV2D66dYyGztA7KgAA0Pu5GuslfPGVi/B+2i91YfjVcuBngyerj+12m0bVMnrbkvZyM5Nf81a793OSTDs6dY1JDA1syX3gCizfX3Pl4rJ6EuJfQ02W35/mDeYLzjPWZOt8bV3IM2bbbuccDt2rt2U7Hg4bqhMO2jEGHhoAAPxYPWc1k7sHoT6qLYTYvxrr96/JYZ+uaTf++jqI+Ut1OaG/InjH8k6EIzlK7/lcQ6YdnLHG2uXeWIHtVMmpl5bp8fUU7gi1nbK3xNBc/WvSlYJ9RLTMV+lCnsd67Hby4eCIwacU/u3YKmwf3TrG+YYGAAA/V983O89f0kjk66n0s265mU2VV2NN74/vAs6W6pIN13qtaj3MH+UdQ4elMc0LvTxky+Pv0fLll5a4ehWVLWurRI4VkC0XScNFii3TAThrzGGQynTk3liBrVT/RY62Zm3+6DGtqV5LLb1y3NpcXWtSDehw+0jr9vYR4ZevuQt5xmzf7XzDwRGqtqnczOpl8G9HiX8n7HxSsrJ3hmGHBgAAP9m2JeMh+9dy7dSegz0uqwjjQnsc+HBs9eO79hytsiBDTVc70MGwqkN7bVEtHT1xOYkolR8Lrl5hpJRQTsT2PrRapkO8LcBVY+5n3P0r03x8U+7uCmzMVe51rufCRZQ2Ps2vdFbXOxK61aQxgTAu1N1cI8LR542FqL2GrrlwrqKdZTi4Q5U3WV9p4deOylH2sG3V2+qk5OwY9hb3jgoAAGztbwsIqm3+gqD1IUBPN9DrsmWw+FT/u1oAAAC0ZLss7LsCDQAAAAAu6zZmNcr/za3if+pui8oEAADAyLACDSNArwMAAIBgBRoAAACAW8WsBgAAAMC4MasBAAAAMG7MagAAAACMG7MaAAAAAOPGrAYAAADAuDGrAQAAADBuzGoAAAAAjNvVzWqyZRDMNuU5sio3s7PlhduRLYMgCJaZqLrQMhsiwZb9cIhhMnz/7xpVtgzq1XjGM8FpSAUoN7NxlwUAgOs3zKym3MwCWf8LvYHJAXJ1MWp6Xzt3rys3z0mUblOxoCMNo9w8J2H8d658mC0XSRj/t5pcKKhhTVZPUb7+d22nRQAAbkn/WU25mQXTtYiL7V4aJQvfa8zOP8i2OLDczKQAi9+vf6rjJquP7fbjRq6bfozJ6uPY0YQIjx3vZd58dH/FVx7eT8X8JX1YT6droV+OXy99yFxJ/y/fX/Pw9y8ljGrqeIbY2p5/Op+v5o+RSN6Y1gAAcDL/63l8ufmzzsO4kC9A5i9F/DldL5aPZ7rQbFB85SKM95dNk9XHx2XjwZjNX7bz/T+2LxcO5gZUk5r/1PnLZPWxvVA8pzJ/jMTiLXuZX8MpEQCAG9TzXk35/pqL6En/TXWyeorE/qfJcjNT7twcfu7MlkGwSITI11P7yrDqIQZ17ZjXgar8qzCnvTtYzkZN0hQArpnSllrHW2bHFWxVax72Vhu3XSIH6vo4x/3KY/r1ndp3OVu0yg61IaPfeLDk6y6yoyCNUYndGeThbtJ8VBXGbushBntddasTIayNaNvfp5hCiOl9yN0aAABOp+espvjKRXg/rW+Y3odCfH47r8jmL8oiovp6k3IzCxYi3S0wKmKxns42pceBWj5/41AkC+cV4vxFWda0WxBjCwBXK1sGz/fFocXCZKFcZyaL6dfTrp2rq9O3x8Off6TrVP9EDkeJbBlM1w/psSclC3Ofy5bBIomqHYv750Vy3NShyzVEK4ToMdbcRXYUxCcqUTuDNNb8LsaP1cQZc/c6sTeicX/PYgohJncPjadEAADQ3bYl5ZAiDpUnG4xbijgUIjpcJqhPQ2iPRigfpJFynLpz7cAGRRzuSnw8ypBGLThrADgjc0dtbg6l72m7u/90JWLuzHo/323VPjJl5dvnvYpuCMN2jGe+9iI7CuIZlT3a2tZaZfoPT/86aWrEhi7n6m8NZQUAAH5s85d+92omdw+uzcrCktbK708hkoW0ukP+Kbit6iHzIg5Fvp7afk7NlovkuKBu2ABwJvL6oek6P1sixVcuokflqYn5Y2T4eb78/rSNjY5drneRu+XrKEj3qJxHyfXbEHO33L0bsW9GAABgYD1XoE3vQ/MjK9alaS3Vftrs916kyeojPT7xo6nmNKn6hoOBA8Bpqe+7k+7QnTyR8vvTvKH13L5llxukyB3ydWsT1XHK0Loslpi71knrRhys8gEAQE89ZzWTuwchkmd94X+5eU4OD6c03NBxpz38OvTpvfnCo9w8a3MaFsKPjuXtFedIpBoK6nQ5e0sMc3tHv+rQ5QYpcreu7jjKNyr15NCqLAPkbk7TqxE7ZDTULz0AAMCk7/9XM39JI21NV7mZTde59D/oTe/Dw8wnW6rrRKw3e0T1lL/8MLbIlseHr10HquSjqjdR62tM9p/r92mcAeAKqVel2bLTiqCOiexeSnEcCep6RnnPx0gc/k9GdUS073L+0XYea1b2gnhHpQTVrubtMXevk6ZG1PZvE3DDej0AANCT8WkbB+MhaaSkWXucVnlUv4hD/SltIcR+MYn2iK2ypENNVzvQwZbIMa/aypHDXo4AcDbmjmp8dFtusCiVnyhv8bYAdyK2V19stZHQ9Fi5ZUT4dDnPaA1HtR9rziLbC+IZlSMIZ8031FXXOlE+MjWAvn/X/gYAALoxXxZut0G1zV8QtD4E6Iled7uyZbD4VP8f31v0Q4oJAMDJ2S4LmdVgBOh1N6zczKavv2/8ej9bBguRbl/0pa8AAKAl22Vh3+dqroPyv3urHP+9O4DLm6yeosPTObep3DwnYfyXKQ0AAKfDvRqMAL0OAAAA4tbv1QAAAAD4uZjVAAAAABg3ZjUAAAAAxo1ZDQAAAIBxY1YDAAAAYNyY1QAAAAAYN2Y1AAAAAMaNWQ0AAACAcbu6WU22DILZprx0GAMpN7NbKs71O3mF9+ufF+jdp8jytgbpFRmiYocfAjQ3AGAUhpnVlJtZIFtmgyQ7mNv8WtZr/Xrrf0gjLnW2XCRh/N9qculAAAAAbk3/WU25mQXTtYiL7V4aJQvfa8zO843rnKjoUU1WH9vtx4kuYyerj2OVCxEem+BlfpIMr4K71Cet8H7KzXMSpdcZG/q47LnorOccAACuV99ZTbn5s87DuJC/RecvRRyKZHH1v50D5zNZfdz0dBMAAOCCes5qyvfXXERP+g+Dk9VTJETylgmxWzIkzXAOvy1myyBYJELk62kQ2H7tzJbHJUb7PbwO9C2BsqBJm4jJG+Vc5KAOxxij0n9ItWeXLYNgmR239/vxN1vqpZGrfbYppUDUQpsqfETkCm8oqbPp9TRtO/lVl7HDiH2j77YeDrenaUunRcBde2DfSrA1g2d/s+zmjtk0fq2no24ZWUd9rVk9285WaOMhXuecTlXnaO4OBQEA4By2LamHaGuAjoo43G8p4lCIKDUfU0tA/kA9UkrSlbOJbec0EnJoaSSk/dT8ijjc/TuNpLS0wjmL484ujYQ4bm5VPNPuWmDSn2pGSildFX5R5o5qqiT5M0dJ3W2hJ6gk0bq6HB1GjbAhTVfH8wu4cw/sXQnasJaTaq5Ad53YYraMX9fpqFtG5lEv9Fx8265lc3c+hXZrbt+oAAA4Gdv8pd+sxn7dO8SsJo20r0z9irXnrMbwnSx9nRdx6JNB/SrVVhx3dnpp201rDHsr2cl/6Pse/3ZW+EV1n9WYS9rQFo48fPunlZJ1LVP/NG1XlI6AO/fA/pVg/LTFsbbd7DHbxq/jdNQtI9usxnG1gJXdsAAAE19JREFUb50N2HuQ30xomBI5mts7KgAATsY2q+m3Am1y9+Da/HDX55HV8vtTiGQhrXZYJD2Sqyu+chE9Kk86zB8jIT6/y93aOksB5IUt03U+RHbDm/z6HR4WAb6/qnnLBZvehyL/Ks5Q4ZdgLKl/W5Tfn7Z+3KK6nB1GjqMhTY+O5wi4cw8coBLmf+MwX0+VdU6ex3brlq7xaztk0P6vVXSXk0a384ycQLeqc3ShIaICAOA0ej5Xc7xO1BRfuQjvp/1SF4bfAYd7uU/5/Wne4L4WKjcz+ZVvuwUaJ8uuu8nqKRLJ86asT2ocTljh12O4tvCortYdxpJm1453DORUPdCnz1Svrkuj6gmQ49MYnv3tbN3yNBl1aLvezb03aIkGiwoAgMH1nNVM7h5EdeWsKDfPiQh//5oc9uma9oluZBzS393M2Mvekt1kzJa75f0IfbM7ifljJPLX9+z9NQ/jv/KkRi7YYQJ66gq/CHtJvdrCUSee1dWqwzjS9EynKeAuPbB/JezNX6or4eQt8z62W7e0HmU/HZ2u/3c4aXQ+z8gGrrqBogIA4DT6vtl5/pJGIl9PpVfhlJvZdJ1L/9vg9D48zHyypboIwnqzR+xXrfxR3tpzWMDiOtA39r/aC6iz5SI5fGdruZeb2WxT6peG2VJdg9FUHHt2JzF/jES+Xqzz/Qxz79hichDOCh8pe0n92qKqwn/7JOTe61dd7g5Ty86apm86DQF36oG9KyFbHm/PHG/jeva3bt3SMn5dp6Ou/b/xXNSuD7Q8pPMp1Mre3B0KAgDA2WxbMh6ye53OXu3J0uNChTAutMd4D8ce39AlbVWWOKjpage6aPHp7y+yBi7nHhqXXUSp4aFbe3Ec2Q39tgA5VkNGSpNYinwdbwrYbvu8LcBeUnfTS1y916u67B2m9jS3M01nx/MMuGsP7FsJcrZy1J79zbabe9SYx2+nsrgzMox6rWn82q7+EjeP5u54Cu3Y3N5RAQBwIsIyfwmqbf6CoPUhuJz9OnhpLX22DBYiHdd/CNmt142xpAAAAHCwXRb+7/yh4HyqdfAp6+ABAABwy/o+V3MdlP/tWjX2//u6V9Gyf2vvl58BAAAAY8UKNIwAvQ4AAADCfll4G/dqAAAAAPxczGoAAAAAjBuzGgAAAADjxqwGAAAAwLgxqwEAAAAwbsxqAAAAAIwbsxoAAAAA48asBgAAAMC4Xd2sJlsGwWxTXjoMjFC5mbXuPGPsb2OM+SZ06WBu/ZvyFjuDUs/ZMgiWmXG/qyp722AGCn74Pqm5qkoeKeoQOJthZjXlZhbILF9Cl6CHdpVBoi25Wfm6ADAq5eY5CeP/VpNLBwIAt6T/rKbczILpWsTFdi+NkoXvpKHzjxi+B05WH8e4hAiPcb7M2+eKa1BuZlKPK36//qk6wmT1sd1+XOuFwi39XndLZXHQi3ndHWy8flw9l5s/a9FtTvPj6goAWug7qyk3f9Z5GBfyaXX+UsShSBbcDMFJFF+5CH//2vW4yeqDL3UAozFZfTATAYDh9ZzVlO+vuYie9PPzZPUUCZG8ZULsFgtJM5zDj03ZMggWiRD5empfSJQtg9pSI68DPWRLfSGaHNtsU0rrnNQpmikqnFP+VdQ/dN1CaNlk9g5g7c9i/wzA8ajGHqsukHT8DnAMv75TU9Ec/dxxeNuyyMkouVlHkUcRGo7t0hYN0co71Iqpd7CWVacfVMu3MarGFDz7uXUFp71Dmgt1yE7Ly7tBveq5ocytM22oEc+R6J/cbtfu3fW4v7OuGr62znK20TLaJ9BQ9g7ftlWN7TYerih6d9F6ssI+XhydwVWH3g0BoLVtS+oh2qKuoyIO91uKOBQiSs3H1BKQP1CPlJJ05WxXP0QLTfozjYQQh21K1q6ocBpaRy3iUAhRr3dbp3A0me0Qewdw9Wf1KDXtek5pJOSU0shQpNqOu7K36o1aRlIoDTXjXZY0kv5WEtUGtBTF1rS7EkPjsR3bwh5tvd66nJ3cWdua0jOqvp1B31DEoRK3rUPWC2UrY+sGddaz41Ts1xzNPbDVSLS1kZRNbQDs/uh66tBD7VJX5zvbmCvcv+y+37bqUeY6bN9FDcnaxktDZ7DUoX9DAHCwzV/6zWrsl/RDzGrSSPte10+EvWc1amzyH/q+x7+dUeE0DN13P7NxTxwOH9uazDWrMXeApq9n365uuG7VZx+Nsfj2xiIOtWo6Tt5dNeM9bOvZNV+f1aKp5dR4bNe2cCZiiqT+QbeqczSlZ1RDdwZnjnKH1BKz/9m+QRuv1B0F7pypd8E9D7QG0//UoUfWoa7OebYxftpU9vbftvX4h+ii9WRt40Xjd/nQvbMBUNhmNf1WoE3uHlybH+76rBwuvz+FSBbSndpF0iM5o8mv3+Fhpdz7ay6ix+M7BOTwp/dhtejpHFHBQ/UaiCIORb6eOu/hd24yYwcYTPGldjchxPwxEuLzW1vVUX5/2saSb9Emv36H+ev7br3HW7LLeMjOLC+qmK7zY5n+xmG+nlpXq7hiaDq2O1u0/gl0qjpHU3pG1b8zlO+vuTEF7w7pdooGbRyJvTJtVXCfnjO9P3yrVMOt51dhK+a6OufZplMrd/u21YrkqVWy1vEirJ3BNcwHGmUALHo+V2O91iu+chHeT/ulLgy/YAz8jOVk9RSJ5HlT1ic1F4wKviarjzQSx0sIq6trsvL707yh9QWQT9Gkac1xUuN/eBP1rXTSfTSxn36mUfUwgHn+aYvB59j2XNG2MminGiaq7iEN1yEdYZymQftl2qLgbdpof9W8SKL04i/cPPPZZtBWPtGpu3eynQbsoKMMQF3PWc3k7kFUkwJFuXlODm+parih40779L9gzB8jkb++Z++veRj/lb985LwPs7QzRQVv0/uGb5POTWbsAJ37sykqbTaWvSWG3wIc8fsX7TCtyd6SQz8fqjNbXhoim79U3/u1+adHDNZju7WFR7TNulWd4yjPqPp3Bttu/h2yc4R79ga1MI/EgTL1L7hnG5Xvr7m8/ugwpRno1OFm/9o639lGCKFXeFPZz/lt2ypZ286OztBUhwOMMgA225Zqh1QP1+nP1smrSvUnN+WttVWm2pOG+sJY+4HNXI9QCFFfCCuUZbLq4zeWqHAaSq+rP6TZ9AyHo8kaOkVTB9D6s2txfK3HKqHrmdSDUZ+B9Rkj9VTCOFa3N9SMb1mU0JWqSyPj89Qyawwtj/VuC3u0ptQ7nJ0cVWdvSt+o+ncG29PP7g7p/dBC+wZ11rNjJPbKVK8Qn5HoaiO9g8lMQbY4ddRi7VBX5zvbWCq8oeztv21rD8cM0UVNyVrGS1NncNWhV0MAcLDNX/rParbb2lnc/KTgfpP28N3h2OPzy/qMyJyudmAz9xdF/RHMKDU9kd4QFU5BmN+Bpte/tYXbH+LsANb+7L40MfRYZeQ4epJrBHn3xiozfQ9XzfiXRU4lSuVj5SLahqorhoZjO7WFPVpjlYmWZydn1dmb0jeqATqDvFvtxGff4nfJ2FAzpgZ11HN1wWkciT0zVXiORHc/ly7g9d/5lJljy+5qidRYV46vrbOdbSwV3lD2tt+2fWY1rZLd2saLa8C66tC7IQBYCcusJqi2+QuC1odcvf0CWWlhbbYMFuLyy6FROX+vowMA6KDczKbrB/ncUf/kREZ61hpp2AAuyHZZ2PO5mpswyDp7AACEUB+dyP6tvV9EAwDo4TZmNcr/8KtqfgEL3zkAgEFMVh9FHEovDl58xgU3IgDgDFiBhhGg1wEAAECwAg0AAADArWJWAwAAAGDcmNUAAAAAGDdmNQAAAADGjVkNAAAAgHFjVgMAAABg3JjVAAAAABg3ZjUAAAAAxo1ZjS5bBsFsUxIGhuPZmudvdLqZt3IzG7iurqny+5bumspS51u6bBkEy8y6afDWN+fVuS2G76IX1K/Cb6oqAPjrPau5jm+zcjMLZJZvpsuRA7x8dY2apceVm9kVtjuALhjmAIC2hr5Xc4FJTrmZBdO1iIvtXholC9+vvs4Btziw3MykAIvfr3+Y13Q3f4xEvv6ntW75/pqL6HHePd3rmJ+PzA1Xml60yepju/1YTS4Y0oCuvnSDDvOrK52Td7RX34iXQ1UAP9ToV6CVmz/rPIwL+QQ2fyniUCSLa/lJr/jKRfj71y7AyeqDs20f88dIiORNadz+kxoAV4RhDgBoachZTbYMgkUiRL6eqgutsmVgWn5VLSw+rs2qNh129voJuPqae9JnCZPV0/ErUV+0cPiFyxqwXio9eK8DVflXYfxcTt51e8lSh/LStmuZxJ1c/XqndrXTqsvZG9TaOh7Vfjy2voetNS2yZTDblMY8qxLt0jskpa7I1PK3BGYdJvUkjyPVOAqcufvUg62ZVK6A3Sk0Djpj0fRfxjsF7+gVPqcCR09wpKB1ko1H6UxLZht6iE9ZzN3VrHmY++eihdpQ1a6ha0rCUZDGsWDKy6enubtotjT1Db/zg62UHfqkubntVdftnGlc3l0/G/j1OgAjt21JPySNhAiPq7+0P7fbIg6FiFL5r/32NBJCHDbu/pL/VBIys+4m5aSGoB1TS0D+wBG8b4DHI0V9/zSSPlIz8wtD20sq5G0x9TqpSQ0V5NvljvVv6gmW1mmudjnAXet7dCpbn1LDdpTIVDlpJLRuaw7MNUzUrl/EoT1iZ+6yjs1kS0Ddz5GCY9Apup4Z3FnbeoVnVO6e4DqZGDqJu3T15m6q8G6RODiHeatcOoVnHZuu7wVH/IaR2C8vRyNqWcu7eo/QQfqk1hBNA6f1OdN2arKfDQDcAtv85dSzmjTSTiba2dV+qNeswf6FMsSsxhV8q1nNISDj3EbZw3Dh7AijbRBjVeu+Sl0VcajNTlxdzrsn2HNsrHbTMPDoVK5ZjSM5JT3D1Ye0jyMlxzBRK9gVmTt3/eMuzWQvqT46m1MwB2w7pkUj2i8nLZXvG5V3ErWTiaFVbKWzNbfvrKZdJC6OYd4ulxbhOQaaz/eCJeV6YAPk5d+Ix2T8R2hzccyld52dWnyX+VWCtVPUZjXMaYCbYpvVnPi5mvL7U4hkId3FXiRDpj+5e3Btfrjr8/zKsMFPVh/b6iScr6eH++vyzfPpOm8bxvxvHObr6c+7rT759Ts8rDB8f82Pjy0N2Wq21mmq9vL709b5OocnJze9D+UljcqDBsVX7cmD+WMkxOd36QzMoXx/zT2PcuaupHniM4OLx6BrSKBT8A2V7x2VtSc4U/B/GqVFc1uTGCYSxzDvlYvzQMdA2x3t2foeY2GwvOomv36H+ev7bgnWW7IPxXuECjFEn1QbwlGcbudM/77K01jAz3COtwXUfiQZ8GF541eBELsn9O+nvTMYOPjJ6iON9qvF1XejSXdz/MOo5kppVK2u/jFP1sjXO/WrnWFazdU6Pav9hCOi/P40b+h3mXqa3E95ZrBpMejcBg2+f1SDlau3ISOxD/POuQwTXnPrDzcSu/U0aVojTWpaRHWqHtWtOJc4VwAYnxPPaiZ3D5ZfgYbMIHnWfzIvN8/J4bVjDTd03GkPH/z0fvftYHnTQYcw5i/Vl472xqCbtr/eyf6tlaudoVrNo3Ws1e6IoXN48jGOKXs1INSAsrdkt7srd/sw8Y/ZnXu3NN2ZteU56Dxybh2846hWURl7wiDlaojTr8IHjETYh3nnXBoPbBxonq3vMxaGysscwH5ak70lYfx37h1VpX+fNITU6cR4itMpgBs19KxGv3dSrdX5o7x9ZtDVUvOXNFLWdO1+Y8rD+L/9CXl6Hx5mPtlSvYdvvdnTFLzrQJVS5HLzZ71bAqB+wWRL2y1+exjZ8nifYKibU6NRXe8sFolQ79R07XJagzpap7nalf9sQ+1yXcM79vFsuUjslxvzv9pbzZXdHYE5hokWc7mZ7SM2jXd77nqcPc8MrnFt4zvoepwZrOyV7x+VsPSEVim0K92xub0qvGUk2TJwLqC1DPO25fU/sHmgeba+x1jomVfDd9Bk9RTlr++bt0SqOu8R2r9PGjiK0+2caT81OTX1OgCjtW1JP8T4wKIQQn9lyZ736wFaPQh/yLSWiR5CGBfaA4ZawFq+tuCNJbWxJiJviFL5oUjPMOSC3/DjkJaOWpXeUG5XddkfItcb1N06DdXu6nKeI0KJM0qN75uoPUhbi09P0RGYb8z6Q71aPbhyt9RRm2byKYsrBXuz2mqx1ZnBGby9hv2icvSEhu5aS82/dMaPDRXuUZZ6JGnU0Emsw7xtLn7h7cplbFa/7wVD7Kb9BsnL3Yj77bX4PEdo7z5pPMRenC7nzK2lrzreHbL16nUArpqwzF+Capu/IGh9CNDTD+912TJYiHT7wvOuPx094SfIlsHiU/2fpa8YfRLA+dkuC8/xtgAAAOCh25sKAQAjmNUo/7ux6npe+TWKIAEA16vczIJgus6jlFsfANAeK9AwAvQ6AAAACFagAQAAALhVzGoAAAAAjBsLewAAAACMG/dqAAAAAIwbsxoAAAAA48asBgAAAMC4MasBAAAAMG7MagAAAACMG7MaAAAAAOPGrAYAAADAuDGrAQAAADBuzGoAAAAAjBuzGgAAAADjxqwGAAAAwLgxqwEAAAAwbsxqAAAAAIzb/wP2s8fIEf4iewAAAABJRU5ErkJggg==)"
      ],
      "metadata": {
        "id": "TyUdEQT8WEV6"
      }
    },
    {
      "cell_type": "markdown",
      "source": [
        "Como se puede apreciar en la tabla anterior, el objetivo final es realizar una predicción del comportamiento de la variable Item_Outlet_Sales."
      ],
      "metadata": {
        "id": "ZuVQSVVfXYVC"
      }
    },
    {
      "cell_type": "markdown",
      "source": [
        "# Análisis y Limpieza de Datos\n",
        "Para comenzar el proyecto, se realiza una revisión general del dataset, teniendo como objetivo tener un mejor entendimiento de los datos que se tiene, para posteriormente realizar una limpieza de los mismos. "
      ],
      "metadata": {
        "id": "0oIqQg3dXPc6"
      }
    },
    {
      "cell_type": "code",
      "source": [
        "#El primer paso que se realiza es utilizar el método .info() para tener una noción de los tipos de variables y la cantidad de valores nulos.\n",
        "df.info()"
      ],
      "metadata": {
        "id": "300r_rlom8fC",
        "colab": {
          "base_uri": "https://localhost:8080/"
        },
        "outputId": "1157d0a8-b252-40a6-c934-0850fc7303ed"
      },
      "execution_count": 161,
      "outputs": [
        {
          "output_type": "stream",
          "name": "stdout",
          "text": [
            "<class 'pandas.core.frame.DataFrame'>\n",
            "RangeIndex: 8523 entries, 0 to 8522\n",
            "Data columns (total 12 columns):\n",
            " #   Column                     Non-Null Count  Dtype  \n",
            "---  ------                     --------------  -----  \n",
            " 0   Item_Identifier            8523 non-null   object \n",
            " 1   Item_Weight                7060 non-null   float64\n",
            " 2   Item_Fat_Content           8523 non-null   object \n",
            " 3   Item_Visibility            8523 non-null   float64\n",
            " 4   Item_Type                  8523 non-null   object \n",
            " 5   Item_MRP                   8523 non-null   float64\n",
            " 6   Outlet_Identifier          8523 non-null   object \n",
            " 7   Outlet_Establishment_Year  8523 non-null   int64  \n",
            " 8   Outlet_Size                6113 non-null   object \n",
            " 9   Outlet_Location_Type       8523 non-null   object \n",
            " 10  Outlet_Type                8523 non-null   object \n",
            " 11  Item_Outlet_Sales          8523 non-null   float64\n",
            "dtypes: float64(4), int64(1), object(7)\n",
            "memory usage: 799.2+ KB\n"
          ]
        }
      ]
    },
    {
      "cell_type": "code",
      "source": [
        "#Con el atributo .shape se obtiene la cantidad de filas y columnas que tiene el dataset\n",
        "df.shape"
      ],
      "metadata": {
        "colab": {
          "base_uri": "https://localhost:8080/"
        },
        "id": "teLqIr3NcT12",
        "outputId": "3a888c25-4e47-4b30-b9f4-d0f81d47b9b0"
      },
      "execution_count": 162,
      "outputs": [
        {
          "output_type": "execute_result",
          "data": {
            "text/plain": [
              "(8523, 12)"
            ]
          },
          "metadata": {},
          "execution_count": 162
        }
      ]
    },
    {
      "cell_type": "markdown",
      "source": [
        "El dataframe tiene 12 diferentes columnas y 8523 filas."
      ],
      "metadata": {
        "id": "ACvmwhPsZXp0"
      }
    },
    {
      "cell_type": "code",
      "source": [
        "#Con el atributo dtypes se aprecian los tipos de variables de cada una de las columnas.\n",
        "df.dtypes"
      ],
      "metadata": {
        "colab": {
          "base_uri": "https://localhost:8080/"
        },
        "id": "lK9vEpQZZJZW",
        "outputId": "669735a6-6746-4a0c-97f8-60bd566e2258"
      },
      "execution_count": 163,
      "outputs": [
        {
          "output_type": "execute_result",
          "data": {
            "text/plain": [
              "Item_Identifier               object\n",
              "Item_Weight                  float64\n",
              "Item_Fat_Content              object\n",
              "Item_Visibility              float64\n",
              "Item_Type                     object\n",
              "Item_MRP                     float64\n",
              "Outlet_Identifier             object\n",
              "Outlet_Establishment_Year      int64\n",
              "Outlet_Size                   object\n",
              "Outlet_Location_Type          object\n",
              "Outlet_Type                   object\n",
              "Item_Outlet_Sales            float64\n",
              "dtype: object"
            ]
          },
          "metadata": {},
          "execution_count": 163
        }
      ]
    },
    {
      "cell_type": "code",
      "source": [
        "#Revisión de duplicados\n",
        "df.duplicated().sum() #Mediante el uso de esta línea de código, se verifica que el dataframe no tiene duplicados."
      ],
      "metadata": {
        "colab": {
          "base_uri": "https://localhost:8080/"
        },
        "id": "wk9YAYLIT6wI",
        "outputId": "50e1548f-8586-4905-bdf7-ecf96ef08ecb"
      },
      "execution_count": 164,
      "outputs": [
        {
          "output_type": "execute_result",
          "data": {
            "text/plain": [
              "0"
            ]
          },
          "metadata": {},
          "execution_count": 164
        }
      ]
    },
    {
      "cell_type": "code",
      "source": [
        "#Identificación de valores faltantes (NaN)\n",
        "df.isna().sum() "
      ],
      "metadata": {
        "colab": {
          "base_uri": "https://localhost:8080/"
        },
        "id": "qBTGsLlVZFy3",
        "outputId": "b4032667-2501-4bb0-f3b9-8978dea600bf"
      },
      "execution_count": 165,
      "outputs": [
        {
          "output_type": "execute_result",
          "data": {
            "text/plain": [
              "Item_Identifier                 0\n",
              "Item_Weight                  1463\n",
              "Item_Fat_Content                0\n",
              "Item_Visibility                 0\n",
              "Item_Type                       0\n",
              "Item_MRP                        0\n",
              "Outlet_Identifier               0\n",
              "Outlet_Establishment_Year       0\n",
              "Outlet_Size                  2410\n",
              "Outlet_Location_Type            0\n",
              "Outlet_Type                     0\n",
              "Item_Outlet_Sales               0\n",
              "dtype: int64"
            ]
          },
          "metadata": {},
          "execution_count": 165
        }
      ]
    },
    {
      "cell_type": "markdown",
      "source": [
        "Se observa que existen solo dos columnas que contienen valores NaN, estas son: Item_Weight (que contiene el peso del producto) y Outlet_Size (que contiene el tipo de tamaño de la tienda)."
      ],
      "metadata": {
        "id": "-nPaLRtffGJV"
      }
    },
    {
      "cell_type": "markdown",
      "source": [
        "# Datos Faltantes\n",
        "\n",
        "El primer paso que se realizará es estudiar la relación entre los valores faltantes de Item_Weight y las otras variables."
      ],
      "metadata": {
        "id": "W_spiYDPgHj7"
      }
    },
    {
      "cell_type": "code",
      "source": [
        "filtro_peso_vacio = df[\"Item_Weight\"].isna() #Se genera un filtro con los valores de Item_Weight vacíos\n",
        "df[filtro_peso_vacio][\"Outlet_Identifier\"].value_counts() #Se estudia la relación entre los valores Item_Weight vacíos y el Outlet_Identifier"
      ],
      "metadata": {
        "colab": {
          "base_uri": "https://localhost:8080/"
        },
        "id": "b10qIobUfCs-",
        "outputId": "b26f57e4-69f9-420c-dfe0-bee866609025"
      },
      "execution_count": 166,
      "outputs": [
        {
          "output_type": "execute_result",
          "data": {
            "text/plain": [
              "OUT027    935\n",
              "OUT019    528\n",
              "Name: Outlet_Identifier, dtype: int64"
            ]
          },
          "metadata": {},
          "execution_count": 166
        }
      ]
    },
    {
      "cell_type": "markdown",
      "source": [
        "Se observa que los valores de peso vacío están concentrados en solo dos tiendas. A continuación se obtiene una lista con todas las tiendas del dataset.\n",
        "\n",
        "Como se muestra en la tabla siguiente, el dataset tiene información de un total de 10 tiendas. "
      ],
      "metadata": {
        "id": "IoiT25soyAv4"
      }
    },
    {
      "cell_type": "code",
      "source": [
        "df[\"Outlet_Identifier\"].value_counts()"
      ],
      "metadata": {
        "colab": {
          "base_uri": "https://localhost:8080/"
        },
        "id": "GE_ISCLWvMVY",
        "outputId": "49c9d838-fd9d-4921-c337-c34eeee39e75"
      },
      "execution_count": 167,
      "outputs": [
        {
          "output_type": "execute_result",
          "data": {
            "text/plain": [
              "OUT027    935\n",
              "OUT013    932\n",
              "OUT049    930\n",
              "OUT046    930\n",
              "OUT035    930\n",
              "OUT045    929\n",
              "OUT018    928\n",
              "OUT017    926\n",
              "OUT010    555\n",
              "OUT019    528\n",
              "Name: Outlet_Identifier, dtype: int64"
            ]
          },
          "metadata": {},
          "execution_count": 167
        }
      ]
    },
    {
      "cell_type": "code",
      "source": [
        "#Se revisa que no hayan elementos con peso 0\n",
        "peso_0 = df[\"Item_Weight\"] == 0\n",
        "df[peso_0] #se aprecia que no hay elementos"
      ],
      "metadata": {
        "colab": {
          "base_uri": "https://localhost:8080/",
          "height": 49
        },
        "id": "Ba5dwMvD3iPd",
        "outputId": "eda36b34-3d01-4fb2-f836-1a906e23b81e"
      },
      "execution_count": 168,
      "outputs": [
        {
          "output_type": "execute_result",
          "data": {
            "text/plain": [
              "Empty DataFrame\n",
              "Columns: [Item_Identifier, Item_Weight, Item_Fat_Content, Item_Visibility, Item_Type, Item_MRP, Outlet_Identifier, Outlet_Establishment_Year, Outlet_Size, Outlet_Location_Type, Outlet_Type, Item_Outlet_Sales]\n",
              "Index: []"
            ],
            "text/html": [
              "\n",
              "  <div id=\"df-e9f15cbb-f3b9-4839-a29b-2c770833a8d4\">\n",
              "    <div class=\"colab-df-container\">\n",
              "      <div>\n",
              "<style scoped>\n",
              "    .dataframe tbody tr th:only-of-type {\n",
              "        vertical-align: middle;\n",
              "    }\n",
              "\n",
              "    .dataframe tbody tr th {\n",
              "        vertical-align: top;\n",
              "    }\n",
              "\n",
              "    .dataframe thead th {\n",
              "        text-align: right;\n",
              "    }\n",
              "</style>\n",
              "<table border=\"1\" class=\"dataframe\">\n",
              "  <thead>\n",
              "    <tr style=\"text-align: right;\">\n",
              "      <th></th>\n",
              "      <th>Item_Identifier</th>\n",
              "      <th>Item_Weight</th>\n",
              "      <th>Item_Fat_Content</th>\n",
              "      <th>Item_Visibility</th>\n",
              "      <th>Item_Type</th>\n",
              "      <th>Item_MRP</th>\n",
              "      <th>Outlet_Identifier</th>\n",
              "      <th>Outlet_Establishment_Year</th>\n",
              "      <th>Outlet_Size</th>\n",
              "      <th>Outlet_Location_Type</th>\n",
              "      <th>Outlet_Type</th>\n",
              "      <th>Item_Outlet_Sales</th>\n",
              "    </tr>\n",
              "  </thead>\n",
              "  <tbody>\n",
              "  </tbody>\n",
              "</table>\n",
              "</div>\n",
              "      <button class=\"colab-df-convert\" onclick=\"convertToInteractive('df-e9f15cbb-f3b9-4839-a29b-2c770833a8d4')\"\n",
              "              title=\"Convert this dataframe to an interactive table.\"\n",
              "              style=\"display:none;\">\n",
              "        \n",
              "  <svg xmlns=\"http://www.w3.org/2000/svg\" height=\"24px\"viewBox=\"0 0 24 24\"\n",
              "       width=\"24px\">\n",
              "    <path d=\"M0 0h24v24H0V0z\" fill=\"none\"/>\n",
              "    <path d=\"M18.56 5.44l.94 2.06.94-2.06 2.06-.94-2.06-.94-.94-2.06-.94 2.06-2.06.94zm-11 1L8.5 8.5l.94-2.06 2.06-.94-2.06-.94L8.5 2.5l-.94 2.06-2.06.94zm10 10l.94 2.06.94-2.06 2.06-.94-2.06-.94-.94-2.06-.94 2.06-2.06.94z\"/><path d=\"M17.41 7.96l-1.37-1.37c-.4-.4-.92-.59-1.43-.59-.52 0-1.04.2-1.43.59L10.3 9.45l-7.72 7.72c-.78.78-.78 2.05 0 2.83L4 21.41c.39.39.9.59 1.41.59.51 0 1.02-.2 1.41-.59l7.78-7.78 2.81-2.81c.8-.78.8-2.07 0-2.86zM5.41 20L4 18.59l7.72-7.72 1.47 1.35L5.41 20z\"/>\n",
              "  </svg>\n",
              "      </button>\n",
              "      \n",
              "  <style>\n",
              "    .colab-df-container {\n",
              "      display:flex;\n",
              "      flex-wrap:wrap;\n",
              "      gap: 12px;\n",
              "    }\n",
              "\n",
              "    .colab-df-convert {\n",
              "      background-color: #E8F0FE;\n",
              "      border: none;\n",
              "      border-radius: 50%;\n",
              "      cursor: pointer;\n",
              "      display: none;\n",
              "      fill: #1967D2;\n",
              "      height: 32px;\n",
              "      padding: 0 0 0 0;\n",
              "      width: 32px;\n",
              "    }\n",
              "\n",
              "    .colab-df-convert:hover {\n",
              "      background-color: #E2EBFA;\n",
              "      box-shadow: 0px 1px 2px rgba(60, 64, 67, 0.3), 0px 1px 3px 1px rgba(60, 64, 67, 0.15);\n",
              "      fill: #174EA6;\n",
              "    }\n",
              "\n",
              "    [theme=dark] .colab-df-convert {\n",
              "      background-color: #3B4455;\n",
              "      fill: #D2E3FC;\n",
              "    }\n",
              "\n",
              "    [theme=dark] .colab-df-convert:hover {\n",
              "      background-color: #434B5C;\n",
              "      box-shadow: 0px 1px 3px 1px rgba(0, 0, 0, 0.15);\n",
              "      filter: drop-shadow(0px 1px 2px rgba(0, 0, 0, 0.3));\n",
              "      fill: #FFFFFF;\n",
              "    }\n",
              "  </style>\n",
              "\n",
              "      <script>\n",
              "        const buttonEl =\n",
              "          document.querySelector('#df-e9f15cbb-f3b9-4839-a29b-2c770833a8d4 button.colab-df-convert');\n",
              "        buttonEl.style.display =\n",
              "          google.colab.kernel.accessAllowed ? 'block' : 'none';\n",
              "\n",
              "        async function convertToInteractive(key) {\n",
              "          const element = document.querySelector('#df-e9f15cbb-f3b9-4839-a29b-2c770833a8d4');\n",
              "          const dataTable =\n",
              "            await google.colab.kernel.invokeFunction('convertToInteractive',\n",
              "                                                     [key], {});\n",
              "          if (!dataTable) return;\n",
              "\n",
              "          const docLinkHtml = 'Like what you see? Visit the ' +\n",
              "            '<a target=\"_blank\" href=https://colab.research.google.com/notebooks/data_table.ipynb>data table notebook</a>'\n",
              "            + ' to learn more about interactive tables.';\n",
              "          element.innerHTML = '';\n",
              "          dataTable['output_type'] = 'display_data';\n",
              "          await google.colab.output.renderOutput(dataTable, element);\n",
              "          const docLink = document.createElement('div');\n",
              "          docLink.innerHTML = docLinkHtml;\n",
              "          element.appendChild(docLink);\n",
              "        }\n",
              "      </script>\n",
              "    </div>\n",
              "  </div>\n",
              "  "
            ]
          },
          "metadata": {},
          "execution_count": 168
        }
      ]
    },
    {
      "cell_type": "markdown",
      "source": [
        "A continuación se buscará los pesos promedios de los ítems sin peso en la data de las tiendas que si tienen información."
      ],
      "metadata": {
        "id": "qNbv0c4h4F6T"
      }
    },
    {
      "cell_type": "code",
      "source": [
        "filtro_tiendas_datos = (df[\"Outlet_Identifier\"]!=\"OUT027\") & (df[\"Outlet_Identifier\"]!=\"OUT019\") #Se crea un filtro que contiene a las tiendas que si tienen información del peso\n",
        "df2 = df[filtro_tiendas_datos]\n",
        "df3 =df2.groupby(\"Item_Identifier\")[\"Item_Weight\"].mean().reset_index()#Se agrupan los pesos promedio para cada uno de los ítems en las tiendas con información y se crea un df con dos columnas\n",
        "df3.iloc[:,0]"
      ],
      "metadata": {
        "colab": {
          "base_uri": "https://localhost:8080/"
        },
        "id": "jeodenOZyuoZ",
        "outputId": "2718780b-5aaf-4200-f894-f886e16ac53e"
      },
      "execution_count": 169,
      "outputs": [
        {
          "output_type": "execute_result",
          "data": {
            "text/plain": [
              "0       DRA12\n",
              "1       DRA24\n",
              "2       DRA59\n",
              "3       DRB01\n",
              "4       DRB13\n",
              "        ...  \n",
              "1550    NCZ30\n",
              "1551    NCZ41\n",
              "1552    NCZ42\n",
              "1553    NCZ53\n",
              "1554    NCZ54\n",
              "Name: Item_Identifier, Length: 1555, dtype: object"
            ]
          },
          "metadata": {},
          "execution_count": 169
        }
      ]
    },
    {
      "cell_type": "code",
      "source": [
        "type(df3) #Se verifica que se esté trabajando con un dataframe, esto es importante para la siguiente parte"
      ],
      "metadata": {
        "colab": {
          "base_uri": "https://localhost:8080/"
        },
        "id": "Ghyp0gkSL19J",
        "outputId": "619ab42b-2c3c-487a-8afa-d97c7db51a2a"
      },
      "execution_count": 172,
      "outputs": [
        {
          "output_type": "execute_result",
          "data": {
            "text/plain": [
              "pandas.core.frame.DataFrame"
            ]
          },
          "metadata": {},
          "execution_count": 172
        }
      ]
    },
    {
      "cell_type": "markdown",
      "source": [
        "A continuación, se realiza una rutina que recorra todos los elementos del df. En aquellos casos en que el peso es nulo, buscará el valor correspondiente en la lista previamente creada y lo actualizará."
      ],
      "metadata": {
        "id": "wnetB5N_4hlH"
      }
    },
    {
      "cell_type": "code",
      "source": [
        "largo1 = df.shape[0] #Cantidad de datos del dataframe\n",
        "largo2 = df3.shape[0] #Cantidad de datos del df creado con los precios e ítems de las tiendas con datos\n",
        "for x in range (0, largo1): #Se recorren todos los elementos del dataframe\n",
        "  if pd.isna(df[\"Item_Weight\"][x]): #Para aquellos casos en que el valor del peso es nulo, se entra en el if\n",
        "    for y in range (0,largo2): #Se crea un nuevo for para recorrer el dataframe creado con los pesos obtenidos de las otras tiendas\n",
        "      if df3.iloc[y,0] ==df[\"Item_Identifier\"].iloc[x]: #Cuando hay coincidencia entre el nombre del producto en ambos df, se actualiza el valor\n",
        "        reemplazo = df3.iloc[y,1] #se obtiene el valor \"correcto\" del peso del producto\n",
        "        df[\"Item_Weight\"].iloc[x] = reemplazo #Se actualiza el valor\n",
        "df[\"Item_Weight\"].isna().sum() #Se verifica que hay un total de 4 elementos que siguen teniendo valores nulos. Se decide eliminar estas filas."
      ],
      "metadata": {
        "colab": {
          "base_uri": "https://localhost:8080/"
        },
        "id": "V5lK4Gis4gD0",
        "outputId": "cac33fff-4b81-4eef-cc56-d0788f5443ea"
      },
      "execution_count": 170,
      "outputs": [
        {
          "output_type": "stream",
          "name": "stderr",
          "text": [
            "/usr/local/lib/python3.7/dist-packages/pandas/core/indexing.py:1732: SettingWithCopyWarning: \n",
            "A value is trying to be set on a copy of a slice from a DataFrame\n",
            "\n",
            "See the caveats in the documentation: https://pandas.pydata.org/pandas-docs/stable/user_guide/indexing.html#returning-a-view-versus-a-copy\n",
            "  self._setitem_single_block(indexer, value, name)\n"
          ]
        },
        {
          "output_type": "execute_result",
          "data": {
            "text/plain": [
              "4"
            ]
          },
          "metadata": {},
          "execution_count": 170
        }
      ]
    },
    {
      "cell_type": "code",
      "source": [
        "df.dropna(subset=[\"Item_Weight\"], inplace=True) # Se eliminan las 4 filas restantes que presentaban valores nulos de peso\n",
        "df.isna().sum() #Se verifica que no queden elementos nulos en la columna Item_Weight"
      ],
      "metadata": {
        "colab": {
          "base_uri": "https://localhost:8080/"
        },
        "id": "2KhxgQRwMfGW",
        "outputId": "ffcc9087-bf46-4e8a-bbeb-a69502aac10f"
      },
      "execution_count": 176,
      "outputs": [
        {
          "output_type": "execute_result",
          "data": {
            "text/plain": [
              "Item_Identifier                 0\n",
              "Item_Weight                     0\n",
              "Item_Fat_Content                0\n",
              "Item_Visibility                 0\n",
              "Item_Type                       0\n",
              "Item_MRP                        0\n",
              "Outlet_Identifier               0\n",
              "Outlet_Establishment_Year       0\n",
              "Outlet_Size                  2410\n",
              "Outlet_Location_Type            0\n",
              "Outlet_Type                     0\n",
              "Item_Outlet_Sales               0\n",
              "dtype: int64"
            ]
          },
          "metadata": {},
          "execution_count": 176
        }
      ]
    },
    {
      "cell_type": "markdown",
      "source": [
        "Relleno información columna Outlet_Size"
      ],
      "metadata": {
        "id": "cb5U0IsedpW_"
      }
    },
    {
      "cell_type": "code",
      "source": [
        "df[\"Outlet_Size\"].value_counts() #Se revisan los posibles valores de la columna."
      ],
      "metadata": {
        "colab": {
          "base_uri": "https://localhost:8080/"
        },
        "id": "dtuNLK5mvqk-",
        "outputId": "876e5282-643d-4e7a-ac43-d93c3f1ba704"
      },
      "execution_count": null,
      "outputs": [
        {
          "output_type": "execute_result",
          "data": {
            "text/plain": [
              "Medium    2793\n",
              "Small     2388\n",
              "High       932\n",
              "Name: Outlet_Size, dtype: int64"
            ]
          },
          "metadata": {},
          "execution_count": 35
        }
      ]
    },
    {
      "cell_type": "code",
      "source": [
        "#Con la intención de hacer un cruce entre la información de la columna Outlet_Size y la columna Outlet_type, se revisan los posibles valores de esta\n",
        "df[\"Outlet_Type\"].value_counts()"
      ],
      "metadata": {
        "colab": {
          "base_uri": "https://localhost:8080/"
        },
        "id": "Qaqye1-wwcXE",
        "outputId": "26883187-92cf-41cf-b8ec-c47640fa7dba"
      },
      "execution_count": 178,
      "outputs": [
        {
          "output_type": "execute_result",
          "data": {
            "text/plain": [
              "Supermarket Type1    5577\n",
              "Grocery Store        1082\n",
              "Supermarket Type3     932\n",
              "Supermarket Type2     928\n",
              "Name: Outlet_Type, dtype: int64"
            ]
          },
          "metadata": {},
          "execution_count": 178
        }
      ]
    },
    {
      "cell_type": "code",
      "source": [
        "#Se crea un filtro con las filas que tienen el atributo Outlet_Size nulo\n",
        "filtro_size_vacio = df[\"Outlet_Size\"].isna()\n",
        "df[filtro_size_vacio][\"Outlet_Type\"].value_counts()"
      ],
      "metadata": {
        "colab": {
          "base_uri": "https://localhost:8080/"
        },
        "id": "khuUCQ4rutU9",
        "outputId": "8479309c-b1e0-4f0f-863c-88149f594144"
      },
      "execution_count": null,
      "outputs": [
        {
          "output_type": "execute_result",
          "data": {
            "text/plain": [
              "Supermarket Type1    1855\n",
              "Grocery Store         555\n",
              "Name: Outlet_Type, dtype: int64"
            ]
          },
          "metadata": {},
          "execution_count": 39
        }
      ]
    },
    {
      "cell_type": "markdown",
      "source": [
        "Se puede apreciar que la mayoría de las filas vacías tienen como tipo de outlet Supermarket Type1\n"
      ],
      "metadata": {
        "id": "aXGiXh5-d9mG"
      }
    },
    {
      "cell_type": "code",
      "source": [],
      "metadata": {
        "id": "6M2ESGlveGMe"
      },
      "execution_count": null,
      "outputs": []
    },
    {
      "cell_type": "code",
      "source": [
        "#Se realiza un filtro para ver la relación entre Supermarket Type1 y Outlet_Size\n",
        "filtro_supermercados = df[\"Outlet_Type\"]==\"Supermarket Type1\"\n",
        "df[filtro_supermercados][\"Outlet_Size\"].value_counts()"
      ],
      "metadata": {
        "colab": {
          "base_uri": "https://localhost:8080/"
        },
        "id": "I2jnJjnrvf7J",
        "outputId": "a1171607-7aac-4eed-8dac-b1f14310258a"
      },
      "execution_count": null,
      "outputs": [
        {
          "output_type": "execute_result",
          "data": {
            "text/plain": [
              "Small     1860\n",
              "High       932\n",
              "Medium     930\n",
              "Name: Outlet_Size, dtype: int64"
            ]
          },
          "metadata": {},
          "execution_count": 46
        }
      ]
    },
    {
      "cell_type": "markdown",
      "source": [
        "\n",
        "Del filtro previamente creado se aprecia que más del 50% de los outlet tipo Supermarket Type1 tienen un tamaño Small. Considerando lo anterior, a los 1855 valores de Supermarket Type 1 sin el atributo Outlet Size, se le asignará el tamaño Small. "
      ],
      "metadata": {
        "id": "IGiMC6vzeQsR"
      }
    },
    {
      "cell_type": "code",
      "source": [
        "#De forma análoga se realiza un filtro para ver la relación entre Grocery Store y Outlet_Size\n",
        "filtro_supermercados2 = df[\"Outlet_Type\"]==\"Grocery Store\"\n",
        "df[filtro_supermercados2][\"Outlet_Size\"].value_counts()"
      ],
      "metadata": {
        "colab": {
          "base_uri": "https://localhost:8080/"
        },
        "id": "Z-249XC3eQkJ",
        "outputId": "4cacb96a-94c9-40a2-acb8-2c79a08ada1d"
      },
      "execution_count": 177,
      "outputs": [
        {
          "output_type": "execute_result",
          "data": {
            "text/plain": [
              "Small    527\n",
              "Name: Outlet_Size, dtype: int64"
            ]
          },
          "metadata": {},
          "execution_count": 177
        }
      ]
    },
    {
      "cell_type": "markdown",
      "source": [
        "Previamente se había visto que existen 1083 Grocery Store. El filtro previamente realizado muestra que de estos, 527 presentan tamaño Small. Tiene sentido que estos números difieran, ya que hay 555 outlet tipo Grocery Store sin información del tamaño. \n",
        "\n",
        "Considerando lo recientemente observado, se decide reemplazar todos los valores de Outlet_Size faltantes con el valor Small."
      ],
      "metadata": {
        "id": "27QfhM4Leyu9"
      }
    },
    {
      "cell_type": "code",
      "source": [
        "df[\"Outlet_Size\"].fillna(value=\"Small\", inplace = True) #Se realiza el reemplazo\n",
        "df.isna().sum()"
      ],
      "metadata": {
        "colab": {
          "base_uri": "https://localhost:8080/"
        },
        "id": "CO1ITMxfeQQ7",
        "outputId": "0dfd4dcd-6e06-48e1-f5a2-2dc9dd6e1c75"
      },
      "execution_count": 188,
      "outputs": [
        {
          "output_type": "execute_result",
          "data": {
            "text/plain": [
              "Item_Identifier              0\n",
              "Item_Weight                  0\n",
              "Item_Fat_Content             0\n",
              "Item_Visibility              0\n",
              "Item_Type                    0\n",
              "Item_MRP                     0\n",
              "Outlet_Identifier            0\n",
              "Outlet_Establishment_Year    0\n",
              "Outlet_Size                  0\n",
              "Outlet_Location_Type         0\n",
              "Outlet_Type                  0\n",
              "Item_Outlet_Sales            0\n",
              "dtype: int64"
            ]
          },
          "metadata": {},
          "execution_count": 188
        }
      ]
    },
    {
      "cell_type": "markdown",
      "source": [
        "Con lo anterior, se verifica que no existen elementos vacíos en el dataframe. "
      ],
      "metadata": {
        "id": "mFu-EcmhgtBF"
      }
    },
    {
      "cell_type": "markdown",
      "source": [
        "Revisión de categorías inconsistentes:\n",
        "\n",
        "Mediante el método .value_counts() se realiza una revisión de los datos que están contenidos en las variables con categorías.\n"
      ],
      "metadata": {
        "id": "5h0xGVFXg1Xz"
      }
    },
    {
      "cell_type": "code",
      "source": [
        "df[\"Item_Fat_Content\"].value_counts() #Revisión inconsistencias categoría Item_Fat_Content\n"
      ],
      "metadata": {
        "colab": {
          "base_uri": "https://localhost:8080/"
        },
        "id": "v10x_C26hCaJ",
        "outputId": "7b27ebd3-65d7-43cf-f01d-c5279ff6943e"
      },
      "execution_count": 189,
      "outputs": [
        {
          "output_type": "execute_result",
          "data": {
            "text/plain": [
              "Low Fat    5088\n",
              "Regular    2886\n",
              "LF          316\n",
              "reg         117\n",
              "low fat     112\n",
              "Name: Item_Fat_Content, dtype: int64"
            ]
          },
          "metadata": {},
          "execution_count": 189
        }
      ]
    },
    {
      "cell_type": "markdown",
      "source": [
        "De la revisión se observa que hay valores mal ingresados. Se realizarán las siguientes correcciones:\n",
        "1. LF se reemplazará por Low Fat\n",
        "2. reg se reemplazará por Regular\n",
        "3. lof fat se reemplazará por Low Fat"
      ],
      "metadata": {
        "id": "ZTjElLuxh5lh"
      }
    },
    {
      "cell_type": "code",
      "source": [
        "dic_reemplazo = {\"LF\":\"Low Fat\",  #Se crea un diccionario en el que se almacenan los cambios\n",
        "                 \"reg\":\"Regular\",\n",
        "                 \"low fat\":\"Low Fat\",}\n",
        "df[\"Item_Fat_Content\"].replace(dic_reemplazo, inplace = True) # Se realizan los cambios \n",
        "df[\"Item_Fat_Content\"].value_counts() #Se verifica que los cambios fueron exitosos."
      ],
      "metadata": {
        "colab": {
          "base_uri": "https://localhost:8080/"
        },
        "id": "1-Oov3b2iC7J",
        "outputId": "2ca1f31e-d0fc-4e20-fd57-ccd0f1197e05"
      },
      "execution_count": 198,
      "outputs": [
        {
          "output_type": "execute_result",
          "data": {
            "text/plain": [
              "Low Fat    5516\n",
              "Regular    3003\n",
              "Name: Item_Fat_Content, dtype: int64"
            ]
          },
          "metadata": {},
          "execution_count": 198
        }
      ]
    },
    {
      "cell_type": "code",
      "source": [
        "df[\"Item_Type\"].value_counts() #Revisión inconsistencias categoría Item_Type. No se encuentra ninguna inconsistencia."
      ],
      "metadata": {
        "colab": {
          "base_uri": "https://localhost:8080/"
        },
        "id": "EIh3qNSfhGvH",
        "outputId": "9b6a6203-697e-461a-a44d-3bffb5864999"
      },
      "execution_count": 197,
      "outputs": [
        {
          "output_type": "execute_result",
          "data": {
            "text/plain": [
              "Fruits and Vegetables    1232\n",
              "Snack Foods              1199\n",
              "Household                 910\n",
              "Frozen Foods              855\n",
              "Dairy                     681\n",
              "Canned                    649\n",
              "Baking Goods              647\n",
              "Health and Hygiene        520\n",
              "Soft Drinks               445\n",
              "Meat                      425\n",
              "Breads                    251\n",
              "Hard Drinks               214\n",
              "Others                    169\n",
              "Starchy Foods             148\n",
              "Breakfast                 110\n",
              "Seafood                    64\n",
              "Name: Item_Type, dtype: int64"
            ]
          },
          "metadata": {},
          "execution_count": 197
        }
      ]
    },
    {
      "cell_type": "code",
      "source": [
        "df[\"Outlet_Establishment_Year\"].value_counts() #Revisión inconsistencias categoría Outlet_Establishment_Year\n",
        "#Se obtienen 9 valores, pero uno de ellos cuenta los años para dos tiendas, por lo que los valores son consistentes con lo esperado.\n",
        "#No se encuentra ninguna inconsistencia."
      ],
      "metadata": {
        "colab": {
          "base_uri": "https://localhost:8080/"
        },
        "id": "uJzYCwRAhLw8",
        "outputId": "c318b48c-8b28-4153-def8-9bff9ae21f61"
      },
      "execution_count": 192,
      "outputs": [
        {
          "output_type": "execute_result",
          "data": {
            "text/plain": [
              "1985    1459\n",
              "1987     932\n",
              "1999     930\n",
              "1997     930\n",
              "2004     930\n",
              "2002     929\n",
              "2009     928\n",
              "2007     926\n",
              "1998     555\n",
              "Name: Outlet_Establishment_Year, dtype: int64"
            ]
          },
          "metadata": {},
          "execution_count": 192
        }
      ]
    },
    {
      "cell_type": "code",
      "source": [
        "df[\"Outlet_Location_Type\"].value_counts() #Revisión inconsistencias categoría Outlet_Establishment_Year. No se encuentra ninguna inconsistencia."
      ],
      "metadata": {
        "colab": {
          "base_uri": "https://localhost:8080/"
        },
        "id": "sNQiLgPNhpf4",
        "outputId": "3d57350e-9452-4f03-95b2-17708e345b76"
      },
      "execution_count": 193,
      "outputs": [
        {
          "output_type": "execute_result",
          "data": {
            "text/plain": [
              "Tier 3    3347\n",
              "Tier 2    2785\n",
              "Tier 1    2387\n",
              "Name: Outlet_Location_Type, dtype: int64"
            ]
          },
          "metadata": {},
          "execution_count": 193
        }
      ]
    },
    {
      "cell_type": "code",
      "source": [],
      "metadata": {
        "id": "QRaf1GyFhdPq"
      },
      "execution_count": null,
      "outputs": []
    },
    {
      "cell_type": "markdown",
      "source": [
        "Resumen estadísticas"
      ],
      "metadata": {
        "id": "aeSkrasnjPg9"
      }
    },
    {
      "cell_type": "code",
      "source": [
        "df.describe().round(3)"
      ],
      "metadata": {
        "colab": {
          "base_uri": "https://localhost:8080/",
          "height": 300
        },
        "id": "SPbPeY9NjRsC",
        "outputId": "dcf9a929-9a98-4a21-9366-51f726c8354c"
      },
      "execution_count": 199,
      "outputs": [
        {
          "output_type": "execute_result",
          "data": {
            "text/plain": [
              "       Item_Weight  Item_Visibility  Item_MRP  Outlet_Establishment_Year  \\\n",
              "count     8519.000         8519.000  8519.000                   8519.000   \n",
              "mean        12.875            0.066   141.010                   1997.838   \n",
              "std          4.646            0.052    62.284                      8.369   \n",
              "min          4.555            0.000    31.290                   1985.000   \n",
              "25%          8.785            0.027    93.845                   1987.000   \n",
              "50%         12.650            0.054   143.047                   1999.000   \n",
              "75%         16.850            0.095   185.677                   2004.000   \n",
              "max         21.350            0.328   266.888                   2009.000   \n",
              "\n",
              "       Item_Outlet_Sales  \n",
              "count           8519.000  \n",
              "mean            2181.189  \n",
              "std             1706.511  \n",
              "min               33.290  \n",
              "25%              834.247  \n",
              "50%             1794.331  \n",
              "75%             3100.631  \n",
              "max            13086.965  "
            ],
            "text/html": [
              "\n",
              "  <div id=\"df-56feacda-0115-4670-8aac-3c3e5072554e\">\n",
              "    <div class=\"colab-df-container\">\n",
              "      <div>\n",
              "<style scoped>\n",
              "    .dataframe tbody tr th:only-of-type {\n",
              "        vertical-align: middle;\n",
              "    }\n",
              "\n",
              "    .dataframe tbody tr th {\n",
              "        vertical-align: top;\n",
              "    }\n",
              "\n",
              "    .dataframe thead th {\n",
              "        text-align: right;\n",
              "    }\n",
              "</style>\n",
              "<table border=\"1\" class=\"dataframe\">\n",
              "  <thead>\n",
              "    <tr style=\"text-align: right;\">\n",
              "      <th></th>\n",
              "      <th>Item_Weight</th>\n",
              "      <th>Item_Visibility</th>\n",
              "      <th>Item_MRP</th>\n",
              "      <th>Outlet_Establishment_Year</th>\n",
              "      <th>Item_Outlet_Sales</th>\n",
              "    </tr>\n",
              "  </thead>\n",
              "  <tbody>\n",
              "    <tr>\n",
              "      <th>count</th>\n",
              "      <td>8519.000</td>\n",
              "      <td>8519.000</td>\n",
              "      <td>8519.000</td>\n",
              "      <td>8519.000</td>\n",
              "      <td>8519.000</td>\n",
              "    </tr>\n",
              "    <tr>\n",
              "      <th>mean</th>\n",
              "      <td>12.875</td>\n",
              "      <td>0.066</td>\n",
              "      <td>141.010</td>\n",
              "      <td>1997.838</td>\n",
              "      <td>2181.189</td>\n",
              "    </tr>\n",
              "    <tr>\n",
              "      <th>std</th>\n",
              "      <td>4.646</td>\n",
              "      <td>0.052</td>\n",
              "      <td>62.284</td>\n",
              "      <td>8.369</td>\n",
              "      <td>1706.511</td>\n",
              "    </tr>\n",
              "    <tr>\n",
              "      <th>min</th>\n",
              "      <td>4.555</td>\n",
              "      <td>0.000</td>\n",
              "      <td>31.290</td>\n",
              "      <td>1985.000</td>\n",
              "      <td>33.290</td>\n",
              "    </tr>\n",
              "    <tr>\n",
              "      <th>25%</th>\n",
              "      <td>8.785</td>\n",
              "      <td>0.027</td>\n",
              "      <td>93.845</td>\n",
              "      <td>1987.000</td>\n",
              "      <td>834.247</td>\n",
              "    </tr>\n",
              "    <tr>\n",
              "      <th>50%</th>\n",
              "      <td>12.650</td>\n",
              "      <td>0.054</td>\n",
              "      <td>143.047</td>\n",
              "      <td>1999.000</td>\n",
              "      <td>1794.331</td>\n",
              "    </tr>\n",
              "    <tr>\n",
              "      <th>75%</th>\n",
              "      <td>16.850</td>\n",
              "      <td>0.095</td>\n",
              "      <td>185.677</td>\n",
              "      <td>2004.000</td>\n",
              "      <td>3100.631</td>\n",
              "    </tr>\n",
              "    <tr>\n",
              "      <th>max</th>\n",
              "      <td>21.350</td>\n",
              "      <td>0.328</td>\n",
              "      <td>266.888</td>\n",
              "      <td>2009.000</td>\n",
              "      <td>13086.965</td>\n",
              "    </tr>\n",
              "  </tbody>\n",
              "</table>\n",
              "</div>\n",
              "      <button class=\"colab-df-convert\" onclick=\"convertToInteractive('df-56feacda-0115-4670-8aac-3c3e5072554e')\"\n",
              "              title=\"Convert this dataframe to an interactive table.\"\n",
              "              style=\"display:none;\">\n",
              "        \n",
              "  <svg xmlns=\"http://www.w3.org/2000/svg\" height=\"24px\"viewBox=\"0 0 24 24\"\n",
              "       width=\"24px\">\n",
              "    <path d=\"M0 0h24v24H0V0z\" fill=\"none\"/>\n",
              "    <path d=\"M18.56 5.44l.94 2.06.94-2.06 2.06-.94-2.06-.94-.94-2.06-.94 2.06-2.06.94zm-11 1L8.5 8.5l.94-2.06 2.06-.94-2.06-.94L8.5 2.5l-.94 2.06-2.06.94zm10 10l.94 2.06.94-2.06 2.06-.94-2.06-.94-.94-2.06-.94 2.06-2.06.94z\"/><path d=\"M17.41 7.96l-1.37-1.37c-.4-.4-.92-.59-1.43-.59-.52 0-1.04.2-1.43.59L10.3 9.45l-7.72 7.72c-.78.78-.78 2.05 0 2.83L4 21.41c.39.39.9.59 1.41.59.51 0 1.02-.2 1.41-.59l7.78-7.78 2.81-2.81c.8-.78.8-2.07 0-2.86zM5.41 20L4 18.59l7.72-7.72 1.47 1.35L5.41 20z\"/>\n",
              "  </svg>\n",
              "      </button>\n",
              "      \n",
              "  <style>\n",
              "    .colab-df-container {\n",
              "      display:flex;\n",
              "      flex-wrap:wrap;\n",
              "      gap: 12px;\n",
              "    }\n",
              "\n",
              "    .colab-df-convert {\n",
              "      background-color: #E8F0FE;\n",
              "      border: none;\n",
              "      border-radius: 50%;\n",
              "      cursor: pointer;\n",
              "      display: none;\n",
              "      fill: #1967D2;\n",
              "      height: 32px;\n",
              "      padding: 0 0 0 0;\n",
              "      width: 32px;\n",
              "    }\n",
              "\n",
              "    .colab-df-convert:hover {\n",
              "      background-color: #E2EBFA;\n",
              "      box-shadow: 0px 1px 2px rgba(60, 64, 67, 0.3), 0px 1px 3px 1px rgba(60, 64, 67, 0.15);\n",
              "      fill: #174EA6;\n",
              "    }\n",
              "\n",
              "    [theme=dark] .colab-df-convert {\n",
              "      background-color: #3B4455;\n",
              "      fill: #D2E3FC;\n",
              "    }\n",
              "\n",
              "    [theme=dark] .colab-df-convert:hover {\n",
              "      background-color: #434B5C;\n",
              "      box-shadow: 0px 1px 3px 1px rgba(0, 0, 0, 0.15);\n",
              "      filter: drop-shadow(0px 1px 2px rgba(0, 0, 0, 0.3));\n",
              "      fill: #FFFFFF;\n",
              "    }\n",
              "  </style>\n",
              "\n",
              "      <script>\n",
              "        const buttonEl =\n",
              "          document.querySelector('#df-56feacda-0115-4670-8aac-3c3e5072554e button.colab-df-convert');\n",
              "        buttonEl.style.display =\n",
              "          google.colab.kernel.accessAllowed ? 'block' : 'none';\n",
              "\n",
              "        async function convertToInteractive(key) {\n",
              "          const element = document.querySelector('#df-56feacda-0115-4670-8aac-3c3e5072554e');\n",
              "          const dataTable =\n",
              "            await google.colab.kernel.invokeFunction('convertToInteractive',\n",
              "                                                     [key], {});\n",
              "          if (!dataTable) return;\n",
              "\n",
              "          const docLinkHtml = 'Like what you see? Visit the ' +\n",
              "            '<a target=\"_blank\" href=https://colab.research.google.com/notebooks/data_table.ipynb>data table notebook</a>'\n",
              "            + ' to learn more about interactive tables.';\n",
              "          element.innerHTML = '';\n",
              "          dataTable['output_type'] = 'display_data';\n",
              "          await google.colab.output.renderOutput(dataTable, element);\n",
              "          const docLink = document.createElement('div');\n",
              "          docLink.innerHTML = docLinkHtml;\n",
              "          element.appendChild(docLink);\n",
              "        }\n",
              "      </script>\n",
              "    </div>\n",
              "  </div>\n",
              "  "
            ]
          },
          "metadata": {},
          "execution_count": 199
        }
      ]
    }
  ]
}